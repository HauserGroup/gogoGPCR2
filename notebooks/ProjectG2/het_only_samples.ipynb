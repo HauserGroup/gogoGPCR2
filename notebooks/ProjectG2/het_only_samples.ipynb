{
  "cells": [
    {
      "cell_type": "code",
      "execution_count": 1,
      "id": "c33de4bf-f6e3-4304-869e-2788bcb6978a",
      "metadata": {
        "tags": []
      },
      "outputs": [],
      "source": [
        "import hail as hl"
      ]
    },
    {
      "cell_type": "code",
      "execution_count": 2,
      "id": "ead76b7e-fa24-4060-944e-d3ce24c0cdac",
      "metadata": {
        "tags": []
      },
      "outputs": [
        {
          "name": "stderr",
          "output_type": "stream",
          "text": [
            "Running on Apache Spark version 3.2.3\n",
            "SparkUI available at http://ip-10-60-4-228.eu-west-2.compute.internal:8081\n",
            "Welcome to\n",
            "     __  __     <>__\n",
            "    / /_/ /__  __/ /\n",
            "   / __  / _ `/ / /\n",
            "  /_/ /_/\\_,_/_/_/   version 0.2.116-cd64e0876c94\n",
            "LOGGING: writing to /opt/notebooks/hail-20240923-0838-0.2.116-cd64e0876c94.log\n"
          ]
        }
      ],
      "source": [
        "hl.init(default_reference=\"GRCh38\")"
      ]
    },
    {
      "cell_type": "code",
      "execution_count": 15,
      "id": "7f2d9740-ab1e-4a62-9427-0a87e8514e0e",
      "metadata": {
        "tags": []
      },
      "outputs": [
        {
          "name": "stderr",
          "output_type": "stream",
          "text": [
            "2024-09-23 08:44:36.324 Hail: INFO: indexed 2394 sites in /tmp/metabolic.bgen at /tmp/metabolic.bgen\n"
          ]
        }
      ],
      "source": [
        "hl.index_bgen(\"/tmp/metabolic.bgen\", reference_genome=\"GRCh38\")"
      ]
    },
    {
      "cell_type": "code",
      "execution_count": 20,
      "id": "4b65c71b-a960-49fb-8abb-075c4c143f33",
      "metadata": {
        "tags": []
      },
      "outputs": [
        {
          "name": "stderr",
          "output_type": "stream",
          "text": [
            "2024-09-23 08:46:36.268 Hail: INFO: Number of BGEN files parsed: 1\n",
            "2024-09-23 08:46:36.268 Hail: INFO: Number of samples in BGEN files: 465505\n",
            "2024-09-23 08:46:36.268 Hail: INFO: Number of variants across all BGEN files: 2394\n",
            "2024-09-23 08:46:36.544 Hail: INFO: Coerced sorted dataset\n",
            "2024-09-23 08:46:37.144 Hail: INFO: wrote table with 1 row in 1 partition to /tmp/bgen_included_vars-72UtOuXXTaH9N2nseX2Lii.ht\n",
            "2024-09-23 08:46:38.347 Hail: INFO: Number of BGEN files parsed: 1\n",
            "2024-09-23 08:46:38.347 Hail: INFO: Number of samples in BGEN files: 465505\n",
            "2024-09-23 08:46:38.347 Hail: INFO: Number of variants across all BGEN files: 2394\n"
          ]
        }
      ],
      "source": [
        "d470n = hl.parse_variant(\"chr17:9889451:G:A\")\n",
        "mt = hl.import_bgen(\n",
        "    \"/tmp/metabolic.bgen\",\n",
        "    entry_fields=[\"GP\"],\n",
        "    sample_file=\"/tmp/metabolic.sample\",\n",
        "    variants=d470n,\n",
        ")"
      ]
    },
    {
      "cell_type": "code",
      "execution_count": 21,
      "id": "cc2cc899-54ac-4dd9-9eee-ad5a9201f0cb",
      "metadata": {
        "tags": []
      },
      "outputs": [
        {
          "name": "stdout",
          "output_type": "stream",
          "text": [
            "----------------------------------------\n",
            "Global fields:\n",
            "    None\n",
            "----------------------------------------\n",
            "Column fields:\n",
            "    's': str\n",
            "----------------------------------------\n",
            "Row fields:\n",
            "    'locus': locus<GRCh38>\n",
            "    'alleles': array<str>\n",
            "    'rsid': str\n",
            "    'varid': str\n",
            "----------------------------------------\n",
            "Entry fields:\n",
            "    'GP': array<float64>\n",
            "----------------------------------------\n",
            "Column key: ['s']\n",
            "Row key: ['locus', 'alleles']\n",
            "----------------------------------------\n"
          ]
        }
      ],
      "source": [
        "mt.describe()"
      ]
    },
    {
      "cell_type": "code",
      "execution_count": 19,
      "id": "f39c51c7-fc7d-4915-9933-92ad71c5bfd0",
      "metadata": {
        "tags": []
      },
      "outputs": [
        {
          "data": {
            "text/plain": [
              "Struct(locus=Locus(contig=chr17, position=9889451, reference_genome=GRCh38), alleles=['G', 'A'])"
            ]
          },
          "execution_count": 19,
          "metadata": {},
          "output_type": "execute_result"
        }
      ],
      "source": [
        "hl.eval(hl.parse_variant(\"chr17:9889451:G:A\"))"
      ]
    },
    {
      "cell_type": "code",
      "execution_count": 28,
      "id": "3d93b63c-d52d-47fd-963d-81e4cf0f55e1",
      "metadata": {
        "tags": []
      },
      "outputs": [],
      "source": [
        "mt2 = mt.annotate_cols(\n",
        "    wt=hl.agg.sum(mt.GP[0] == 1),\n",
        "    het=hl.agg.sum(mt.GP[1] == 1),\n",
        "    hom=hl.agg.sum(mt.GP[2] == 1),\n",
        ")"
      ]
    },
    {
      "cell_type": "code",
      "execution_count": 45,
      "id": "f673d38a-fe4c-4856-a875-4b044792a1d3",
      "metadata": {
        "tags": []
      },
      "outputs": [
        {
          "data": {
            "text/html": [
              "<table><thead><tr><td style=\"white-space: nowrap; max-width: 500px; overflow: hidden; text-overflow: ellipsis; \" colspan=\"1\"><div style=\"text-align: left;\"></div></td><td style=\"white-space: nowrap; max-width: 500px; overflow: hidden; text-overflow: ellipsis; \" colspan=\"1\"><div style=\"text-align: left;\"></div></td><td style=\"white-space: nowrap; max-width: 500px; overflow: hidden; text-overflow: ellipsis; \" colspan=\"1\"><div style=\"text-align: left;\"></div></td><td style=\"white-space: nowrap; max-width: 500px; overflow: hidden; text-overflow: ellipsis; \" colspan=\"1\"><div style=\"text-align: left;\"></div></td><td style=\"white-space: nowrap; max-width: 500px; overflow: hidden; text-overflow: ellipsis; \" colspan=\"1\"><div style=\"text-align: left;\"></div></td><td style=\"white-space: nowrap; max-width: 500px; overflow: hidden; text-overflow: ellipsis; \" colspan=\"1\"><div style=\"text-align: left;\"></div></td><td style=\"white-space: nowrap; max-width: 500px; overflow: hidden; text-overflow: ellipsis; \" colspan=\"1\"><div style=\"text-align: left;\"></div></td><td style=\"white-space: nowrap; max-width: 500px; overflow: hidden; text-overflow: ellipsis; \" colspan=\"1\"><div style=\"text-align: left;\"></div></td></tr><tr><td style=\"white-space: nowrap; max-width: 500px; overflow: hidden; text-overflow: ellipsis; \" colspan=\"1\"><div style=\"text-align: left;border-bottom: solid 2px #000; padding-bottom: 5px\">locus</div></td><td style=\"white-space: nowrap; max-width: 500px; overflow: hidden; text-overflow: ellipsis; \" colspan=\"1\"><div style=\"text-align: left;border-bottom: solid 2px #000; padding-bottom: 5px\">alleles</div></td><td style=\"white-space: nowrap; max-width: 500px; overflow: hidden; text-overflow: ellipsis; \" colspan=\"1\"><div style=\"text-align: left;border-bottom: solid 2px #000; padding-bottom: 5px\">rsid</div></td><td style=\"white-space: nowrap; max-width: 500px; overflow: hidden; text-overflow: ellipsis; \" colspan=\"1\"><div style=\"text-align: left;border-bottom: solid 2px #000; padding-bottom: 5px\">varid</div></td><td style=\"white-space: nowrap; max-width: 500px; overflow: hidden; text-overflow: ellipsis; \" colspan=\"1\"><div style=\"text-align: left;border-bottom: solid 2px #000; padding-bottom: 5px\">wt</div></td><td style=\"white-space: nowrap; max-width: 500px; overflow: hidden; text-overflow: ellipsis; \" colspan=\"1\"><div style=\"text-align: left;border-bottom: solid 2px #000; padding-bottom: 5px\">het</div></td><td style=\"white-space: nowrap; max-width: 500px; overflow: hidden; text-overflow: ellipsis; \" colspan=\"1\"><div style=\"text-align: left;border-bottom: solid 2px #000; padding-bottom: 5px\">hom</div></td><td style=\"white-space: nowrap; max-width: 500px; overflow: hidden; text-overflow: ellipsis; \" colspan=\"1\"><div style=\"text-align: left;border-bottom: solid 2px #000; padding-bottom: 5px\">GP</div></td></tr><tr><td style=\"white-space: nowrap; max-width: 500px; overflow: hidden; text-overflow: ellipsis; text-align: left;\">locus&lt;GRCh38&gt;</td><td style=\"white-space: nowrap; max-width: 500px; overflow: hidden; text-overflow: ellipsis; text-align: left;\">array&lt;str&gt;</td><td style=\"white-space: nowrap; max-width: 500px; overflow: hidden; text-overflow: ellipsis; text-align: left;\">str</td><td style=\"white-space: nowrap; max-width: 500px; overflow: hidden; text-overflow: ellipsis; text-align: left;\">str</td><td style=\"white-space: nowrap; max-width: 500px; overflow: hidden; text-overflow: ellipsis; text-align: left;\">int64</td><td style=\"white-space: nowrap; max-width: 500px; overflow: hidden; text-overflow: ellipsis; text-align: left;\">int64</td><td style=\"white-space: nowrap; max-width: 500px; overflow: hidden; text-overflow: ellipsis; text-align: left;\">int64</td><td style=\"white-space: nowrap; max-width: 500px; overflow: hidden; text-overflow: ellipsis; text-align: left;\">array&lt;float64&gt;</td></tr>\n",
              "</thead><tbody><tr><td style=\"white-space: nowrap; max-width: 500px; overflow: hidden; text-overflow: ellipsis; \">chr17:9889451</td><td style=\"white-space: nowrap; max-width: 500px; overflow: hidden; text-overflow: ellipsis; \">[&quot;G&quot;,&quot;A&quot;]</td><td style=\"white-space: nowrap; max-width: 500px; overflow: hidden; text-overflow: ellipsis; \">&quot;chr17:9889451:G:A&quot;</td><td style=\"white-space: nowrap; max-width: 500px; overflow: hidden; text-overflow: ellipsis; \">&quot;chr17:9889451:G:A&quot;</td><td style=\"white-space: nowrap; max-width: 500px; overflow: hidden; text-overflow: ellipsis; \">1</td><td style=\"white-space: nowrap; max-width: 500px; overflow: hidden; text-overflow: ellipsis; \">0</td><td style=\"white-space: nowrap; max-width: 500px; overflow: hidden; text-overflow: ellipsis; \">0</td><td style=\"white-space: nowrap; max-width: 500px; overflow: hidden; text-overflow: ellipsis; \">[1.00e+00,0.00e+00,0.00e+00]</td></tr>\n",
              "<tr><td style=\"white-space: nowrap; max-width: 500px; overflow: hidden; text-overflow: ellipsis; \">chr17:9889451</td><td style=\"white-space: nowrap; max-width: 500px; overflow: hidden; text-overflow: ellipsis; \">[&quot;G&quot;,&quot;A&quot;]</td><td style=\"white-space: nowrap; max-width: 500px; overflow: hidden; text-overflow: ellipsis; \">&quot;chr17:9889451:G:A&quot;</td><td style=\"white-space: nowrap; max-width: 500px; overflow: hidden; text-overflow: ellipsis; \">&quot;chr17:9889451:G:A&quot;</td><td style=\"white-space: nowrap; max-width: 500px; overflow: hidden; text-overflow: ellipsis; \">1</td><td style=\"white-space: nowrap; max-width: 500px; overflow: hidden; text-overflow: ellipsis; \">0</td><td style=\"white-space: nowrap; max-width: 500px; overflow: hidden; text-overflow: ellipsis; \">0</td><td style=\"white-space: nowrap; max-width: 500px; overflow: hidden; text-overflow: ellipsis; \">[1.00e+00,0.00e+00,0.00e+00]</td></tr>\n",
              "<tr><td style=\"white-space: nowrap; max-width: 500px; overflow: hidden; text-overflow: ellipsis; \">chr17:9889451</td><td style=\"white-space: nowrap; max-width: 500px; overflow: hidden; text-overflow: ellipsis; \">[&quot;G&quot;,&quot;A&quot;]</td><td style=\"white-space: nowrap; max-width: 500px; overflow: hidden; text-overflow: ellipsis; \">&quot;chr17:9889451:G:A&quot;</td><td style=\"white-space: nowrap; max-width: 500px; overflow: hidden; text-overflow: ellipsis; \">&quot;chr17:9889451:G:A&quot;</td><td style=\"white-space: nowrap; max-width: 500px; overflow: hidden; text-overflow: ellipsis; \">0</td><td style=\"white-space: nowrap; max-width: 500px; overflow: hidden; text-overflow: ellipsis; \">1</td><td style=\"white-space: nowrap; max-width: 500px; overflow: hidden; text-overflow: ellipsis; \">0</td><td style=\"white-space: nowrap; max-width: 500px; overflow: hidden; text-overflow: ellipsis; \">[0.00e+00,1.00e+00,0.00e+00]</td></tr>\n",
              "<tr><td style=\"white-space: nowrap; max-width: 500px; overflow: hidden; text-overflow: ellipsis; \">chr17:9889451</td><td style=\"white-space: nowrap; max-width: 500px; overflow: hidden; text-overflow: ellipsis; \">[&quot;G&quot;,&quot;A&quot;]</td><td style=\"white-space: nowrap; max-width: 500px; overflow: hidden; text-overflow: ellipsis; \">&quot;chr17:9889451:G:A&quot;</td><td style=\"white-space: nowrap; max-width: 500px; overflow: hidden; text-overflow: ellipsis; \">&quot;chr17:9889451:G:A&quot;</td><td style=\"white-space: nowrap; max-width: 500px; overflow: hidden; text-overflow: ellipsis; \">0</td><td style=\"white-space: nowrap; max-width: 500px; overflow: hidden; text-overflow: ellipsis; \">0</td><td style=\"white-space: nowrap; max-width: 500px; overflow: hidden; text-overflow: ellipsis; \">1</td><td style=\"white-space: nowrap; max-width: 500px; overflow: hidden; text-overflow: ellipsis; \">[0.00e+00,0.00e+00,1.00e+00]</td></tr>\n",
              "<tr><td style=\"white-space: nowrap; max-width: 500px; overflow: hidden; text-overflow: ellipsis; \">chr17:9889451</td><td style=\"white-space: nowrap; max-width: 500px; overflow: hidden; text-overflow: ellipsis; \">[&quot;G&quot;,&quot;A&quot;]</td><td style=\"white-space: nowrap; max-width: 500px; overflow: hidden; text-overflow: ellipsis; \">&quot;chr17:9889451:G:A&quot;</td><td style=\"white-space: nowrap; max-width: 500px; overflow: hidden; text-overflow: ellipsis; \">&quot;chr17:9889451:G:A&quot;</td><td style=\"white-space: nowrap; max-width: 500px; overflow: hidden; text-overflow: ellipsis; \">0</td><td style=\"white-space: nowrap; max-width: 500px; overflow: hidden; text-overflow: ellipsis; \">1</td><td style=\"white-space: nowrap; max-width: 500px; overflow: hidden; text-overflow: ellipsis; \">0</td><td style=\"white-space: nowrap; max-width: 500px; overflow: hidden; text-overflow: ellipsis; \">[0.00e+00,1.00e+00,0.00e+00]</td></tr>\n",
              "<tr><td style=\"white-space: nowrap; max-width: 500px; overflow: hidden; text-overflow: ellipsis; \">chr17:9889451</td><td style=\"white-space: nowrap; max-width: 500px; overflow: hidden; text-overflow: ellipsis; \">[&quot;G&quot;,&quot;A&quot;]</td><td style=\"white-space: nowrap; max-width: 500px; overflow: hidden; text-overflow: ellipsis; \">&quot;chr17:9889451:G:A&quot;</td><td style=\"white-space: nowrap; max-width: 500px; overflow: hidden; text-overflow: ellipsis; \">&quot;chr17:9889451:G:A&quot;</td><td style=\"white-space: nowrap; max-width: 500px; overflow: hidden; text-overflow: ellipsis; \">0</td><td style=\"white-space: nowrap; max-width: 500px; overflow: hidden; text-overflow: ellipsis; \">0</td><td style=\"white-space: nowrap; max-width: 500px; overflow: hidden; text-overflow: ellipsis; \">1</td><td style=\"white-space: nowrap; max-width: 500px; overflow: hidden; text-overflow: ellipsis; \">[0.00e+00,0.00e+00,1.00e+00]</td></tr>\n",
              "<tr><td style=\"white-space: nowrap; max-width: 500px; overflow: hidden; text-overflow: ellipsis; \">chr17:9889451</td><td style=\"white-space: nowrap; max-width: 500px; overflow: hidden; text-overflow: ellipsis; \">[&quot;G&quot;,&quot;A&quot;]</td><td style=\"white-space: nowrap; max-width: 500px; overflow: hidden; text-overflow: ellipsis; \">&quot;chr17:9889451:G:A&quot;</td><td style=\"white-space: nowrap; max-width: 500px; overflow: hidden; text-overflow: ellipsis; \">&quot;chr17:9889451:G:A&quot;</td><td style=\"white-space: nowrap; max-width: 500px; overflow: hidden; text-overflow: ellipsis; \">1</td><td style=\"white-space: nowrap; max-width: 500px; overflow: hidden; text-overflow: ellipsis; \">0</td><td style=\"white-space: nowrap; max-width: 500px; overflow: hidden; text-overflow: ellipsis; \">0</td><td style=\"white-space: nowrap; max-width: 500px; overflow: hidden; text-overflow: ellipsis; \">[1.00e+00,0.00e+00,0.00e+00]</td></tr>\n",
              "<tr><td style=\"white-space: nowrap; max-width: 500px; overflow: hidden; text-overflow: ellipsis; \">chr17:9889451</td><td style=\"white-space: nowrap; max-width: 500px; overflow: hidden; text-overflow: ellipsis; \">[&quot;G&quot;,&quot;A&quot;]</td><td style=\"white-space: nowrap; max-width: 500px; overflow: hidden; text-overflow: ellipsis; \">&quot;chr17:9889451:G:A&quot;</td><td style=\"white-space: nowrap; max-width: 500px; overflow: hidden; text-overflow: ellipsis; \">&quot;chr17:9889451:G:A&quot;</td><td style=\"white-space: nowrap; max-width: 500px; overflow: hidden; text-overflow: ellipsis; \">0</td><td style=\"white-space: nowrap; max-width: 500px; overflow: hidden; text-overflow: ellipsis; \">1</td><td style=\"white-space: nowrap; max-width: 500px; overflow: hidden; text-overflow: ellipsis; \">0</td><td style=\"white-space: nowrap; max-width: 500px; overflow: hidden; text-overflow: ellipsis; \">[0.00e+00,1.00e+00,0.00e+00]</td></tr>\n",
              "<tr><td style=\"white-space: nowrap; max-width: 500px; overflow: hidden; text-overflow: ellipsis; \">chr17:9889451</td><td style=\"white-space: nowrap; max-width: 500px; overflow: hidden; text-overflow: ellipsis; \">[&quot;G&quot;,&quot;A&quot;]</td><td style=\"white-space: nowrap; max-width: 500px; overflow: hidden; text-overflow: ellipsis; \">&quot;chr17:9889451:G:A&quot;</td><td style=\"white-space: nowrap; max-width: 500px; overflow: hidden; text-overflow: ellipsis; \">&quot;chr17:9889451:G:A&quot;</td><td style=\"white-space: nowrap; max-width: 500px; overflow: hidden; text-overflow: ellipsis; \">1</td><td style=\"white-space: nowrap; max-width: 500px; overflow: hidden; text-overflow: ellipsis; \">0</td><td style=\"white-space: nowrap; max-width: 500px; overflow: hidden; text-overflow: ellipsis; \">0</td><td style=\"white-space: nowrap; max-width: 500px; overflow: hidden; text-overflow: ellipsis; \">[1.00e+00,0.00e+00,0.00e+00]</td></tr>\n",
              "<tr><td style=\"white-space: nowrap; max-width: 500px; overflow: hidden; text-overflow: ellipsis; \">chr17:9889451</td><td style=\"white-space: nowrap; max-width: 500px; overflow: hidden; text-overflow: ellipsis; \">[&quot;G&quot;,&quot;A&quot;]</td><td style=\"white-space: nowrap; max-width: 500px; overflow: hidden; text-overflow: ellipsis; \">&quot;chr17:9889451:G:A&quot;</td><td style=\"white-space: nowrap; max-width: 500px; overflow: hidden; text-overflow: ellipsis; \">&quot;chr17:9889451:G:A&quot;</td><td style=\"white-space: nowrap; max-width: 500px; overflow: hidden; text-overflow: ellipsis; \">1</td><td style=\"white-space: nowrap; max-width: 500px; overflow: hidden; text-overflow: ellipsis; \">0</td><td style=\"white-space: nowrap; max-width: 500px; overflow: hidden; text-overflow: ellipsis; \">0</td><td style=\"white-space: nowrap; max-width: 500px; overflow: hidden; text-overflow: ellipsis; \">[1.00e+00,0.00e+00,0.00e+00]</td></tr>\n",
              "</tbody></table><p style=\"background: #fdd; padding: 0.4em;\">showing top 10 rows</p>\n"
            ],
            "text/plain": [
              "+---------------+------------+---------------------+---------------------+\n",
              "| locus         | alleles    | rsid                | varid               |\n",
              "+---------------+------------+---------------------+---------------------+\n",
              "| locus<GRCh38> | array<str> | str                 | str                 |\n",
              "+---------------+------------+---------------------+---------------------+\n",
              "| chr17:9889451 | [\"G\",\"A\"]  | \"chr17:9889451:G:A\" | \"chr17:9889451:G:A\" |\n",
              "| chr17:9889451 | [\"G\",\"A\"]  | \"chr17:9889451:G:A\" | \"chr17:9889451:G:A\" |\n",
              "| chr17:9889451 | [\"G\",\"A\"]  | \"chr17:9889451:G:A\" | \"chr17:9889451:G:A\" |\n",
              "| chr17:9889451 | [\"G\",\"A\"]  | \"chr17:9889451:G:A\" | \"chr17:9889451:G:A\" |\n",
              "| chr17:9889451 | [\"G\",\"A\"]  | \"chr17:9889451:G:A\" | \"chr17:9889451:G:A\" |\n",
              "| chr17:9889451 | [\"G\",\"A\"]  | \"chr17:9889451:G:A\" | \"chr17:9889451:G:A\" |\n",
              "| chr17:9889451 | [\"G\",\"A\"]  | \"chr17:9889451:G:A\" | \"chr17:9889451:G:A\" |\n",
              "| chr17:9889451 | [\"G\",\"A\"]  | \"chr17:9889451:G:A\" | \"chr17:9889451:G:A\" |\n",
              "| chr17:9889451 | [\"G\",\"A\"]  | \"chr17:9889451:G:A\" | \"chr17:9889451:G:A\" |\n",
              "| chr17:9889451 | [\"G\",\"A\"]  | \"chr17:9889451:G:A\" | \"chr17:9889451:G:A\" |\n",
              "+---------------+------------+---------------------+---------------------+\n",
              "\n",
              "+-------+-------+-------+------------------------------+\n",
              "|    wt |   het |   hom | GP                           |\n",
              "+-------+-------+-------+------------------------------+\n",
              "| int64 | int64 | int64 | array<float64>               |\n",
              "+-------+-------+-------+------------------------------+\n",
              "|     1 |     0 |     0 | [1.00e+00,0.00e+00,0.00e+00] |\n",
              "|     1 |     0 |     0 | [1.00e+00,0.00e+00,0.00e+00] |\n",
              "|     0 |     1 |     0 | [0.00e+00,1.00e+00,0.00e+00] |\n",
              "|     0 |     0 |     1 | [0.00e+00,0.00e+00,1.00e+00] |\n",
              "|     0 |     1 |     0 | [0.00e+00,1.00e+00,0.00e+00] |\n",
              "|     0 |     0 |     1 | [0.00e+00,0.00e+00,1.00e+00] |\n",
              "|     1 |     0 |     0 | [1.00e+00,0.00e+00,0.00e+00] |\n",
              "|     0 |     1 |     0 | [0.00e+00,1.00e+00,0.00e+00] |\n",
              "|     1 |     0 |     0 | [1.00e+00,0.00e+00,0.00e+00] |\n",
              "|     1 |     0 |     0 | [1.00e+00,0.00e+00,0.00e+00] |\n",
              "+-------+-------+-------+------------------------------+\n",
              "showing top 10 rows"
            ]
          },
          "metadata": {},
          "output_type": "display_data"
        }
      ],
      "source": [
        "mt2.entries().key_by().drop(\"s\").show(10)"
      ]
    },
    {
      "cell_type": "code",
      "execution_count": 52,
      "id": "41f766e1-b7a9-466a-988f-90895c8da5e4",
      "metadata": {
        "tags": []
      },
      "outputs": [
        {
          "name": "stderr",
          "output_type": "stream",
          "text": [
            "2024-09-23 09:07:06.069 Hail: INFO: Coerced sorted dataset\n"
          ]
        },
        {
          "data": {
            "text/plain": [
              "wt  het  hom\n",
              "1   0    0      218017\n",
              "0   1    0      198716\n",
              "    0    1       48508\n",
              "         0         264\n",
              "dtype: int64"
            ]
          },
          "execution_count": 52,
          "metadata": {},
          "output_type": "execute_result"
        }
      ],
      "source": [
        "df = mt2.cols().to_pandas()\n",
        "df.drop(\"s\", axis=1).value_counts()"
      ]
    },
    {
      "cell_type": "code",
      "execution_count": 56,
      "id": "1686b810-f849-4a64-8f5f-2832bf52c9b5",
      "metadata": {
        "tags": []
      },
      "outputs": [],
      "source": [
        "df2 = df.loc[df.hom.ne(1),]\n",
        "df2.loc[:, [\"s\", \"s\"]].to_csv(\"no_hom.id\", sep=\"\\t\", header=False, index=False)"
      ]
    },
    {
      "cell_type": "code",
      "execution_count": 57,
      "id": "03a59ae5-f922-4ef4-9f8a-68768627ec17",
      "metadata": {
        "tags": []
      },
      "outputs": [],
      "source": [
        "df3 = df.loc[df.hom.eq(1),]\n",
        "df3.loc[:, [\"s\", \"s\"]].to_csv(\"hom_only.id\", sep=\"\\t\", header=False, index=False)"
      ]
    },
    {
      "cell_type": "code",
      "execution_count": null,
      "id": "5d3ad2bf-9f2a-43ec-a2ce-cb29f2c49f9f",
      "metadata": {},
      "outputs": [],
      "source": []
    }
  ],
  "metadata": {
    "kernelspec": {
      "display_name": "Python 3 (ipykernel)",
      "language": "python",
      "name": "python3"
    },
    "language_info": {
      "codemirror_mode": {
        "name": "ipython",
        "version": 3
      },
      "file_extension": ".py",
      "mimetype": "text/x-python",
      "name": "python",
      "nbconvert_exporter": "python",
      "pygments_lexer": "ipython3",
      "version": "3.9.16"
    }
  },
  "nbformat": 4,
  "nbformat_minor": 5
}
