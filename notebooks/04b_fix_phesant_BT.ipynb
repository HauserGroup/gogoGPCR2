{
 "cells": [
  {
   "cell_type": "code",
   "execution_count": 29,
   "id": "814ba25b",
   "metadata": {},
   "outputs": [],
   "source": [
    "# # Fix the PHESANT output for regenie\n",
    "# Again, more wrangling. For ease of use and further analysis, dataframes must contain exlusively quantitative or binary columns—not a mix\n",
    "\n",
    "import pandas as pd\n",
    "import numpy as np\n",
    "import subprocess\n",
    "\n",
    "# Set FLAGS\n",
    "\n",
    "PHENOTYPE = \"metabolic\"\n",
    "TRAIT = \"BT\""
   ]
  },
  {
   "cell_type": "code",
   "execution_count": 2,
   "id": "974ecc07",
   "metadata": {},
   "outputs": [
    {
     "name": "stdout",
     "output_type": "stream",
     "text": [
      "2443\n",
      "0    473399\n",
      "1     26395\n",
      "Name: 2443, dtype: Int64\n",
      "\n",
      "2463\n",
      "0    451150\n",
      "1     47455\n",
      "Name: 2463, dtype: Int64\n",
      "\n",
      "130706\n",
      "0    497228\n",
      "1      5181\n",
      "Name: 130706, dtype: Int64\n",
      "\n",
      "130708\n",
      "0    458577\n",
      "1     43832\n",
      "Name: 130708, dtype: Int64\n",
      "\n",
      "130792\n",
      "0    453560\n",
      "1     48849\n",
      "Name: 130792, dtype: Int64\n",
      "\n",
      "131674\n",
      "0    468573\n",
      "1     33836\n",
      "Name: 131674, dtype: Int64\n",
      "\n",
      "131676\n",
      "0    495900\n",
      "1      6509\n",
      "Name: 131676, dtype: Int64\n",
      "\n",
      "131688\n",
      "0    496994\n",
      "1      5415\n",
      "Name: 131688, dtype: Int64\n",
      "\n",
      "131690\n",
      "0    498874\n",
      "1      3535\n",
      "Name: 131690, dtype: Int64\n",
      "\n"
     ]
    }
   ],
   "source": [
    "# Load output from PHESANT and fix headers\n",
    "\n",
    "file = f\"/mnt/project/Data/phenotypes/{PHENOTYPE}.{TRAIT}.phesant/{PHENOTYPE}.phesantdata-binary-all.txt\"\n",
    "\n",
    "df = pd.read_csv(file, sep=\",\", index_col=\"userID\")\n",
    "\n",
    "df.columns = [s.replace(\"#\", \"_\") for s in df.columns]\n",
    "\n",
    "for col in df.columns:\n",
    "\n",
    "    assert df.loc[:, col].nunique() == 2, \"Uh oh, column is not binary\"\n",
    "\n",
    "    df.loc[:, col] = df.loc[:, col].astype(\"Int64\")\n",
    "\n",
    "    print(col, \"\\n\", df.loc[:, col].value_counts(), \"\\n\", sep=\"\")"
   ]
  },
  {
   "cell_type": "code",
   "execution_count": null,
   "id": "78c8f536",
   "metadata": {},
   "outputs": [],
   "source": [
    "file = f\"/mnt/project/Data/phenotypes/{PHENOTYPE}.{TRAIT}.phesant/{PHENOTYPE}.phesantdata-catord-all.txt\"\n",
    "\n",
    "cat = pd.read_csv(file, sep=\",\", index_col=\"userID\")\n",
    "\n",
    "cat.columns = [s.replace(\"#\", \"_\") for s in cat.columns]"
   ]
  },
  {
   "cell_type": "code",
   "execution_count": 39,
   "id": "6f3b6b17",
   "metadata": {},
   "outputs": [],
   "source": [
    "w = pd.get_dummies(cat.loc[:,\"1687\"], prefix = \"1687\")\n",
    "w.loc[w.eq(0).all(axis = 1),:] = np.nan\n",
    "w.columns = [s.replace(\".0\", \"\") for s in w.columns]\n",
    "w = w.astype(\"Int64\")\n",
    "\n",
    "h = pd.get_dummies(cat.loc[:,\"1697\"], prefix = \"1697\")\n",
    "h.loc[h.eq(0).all(axis = 1),:] = np.nan\n",
    "h.columns = [s.replace(\".0\", \"\") for s in h.columns]\n",
    "h = h.astype(\"Int64\")\n",
    "\n",
    "w.head()"
   ]
  },
  {
   "cell_type": "code",
   "execution_count": 43,
   "id": "6fb3a949",
   "metadata": {},
   "outputs": [],
   "source": [
    "df = df.join(w).join(h)"
   ]
  },
  {
   "cell_type": "code",
   "execution_count": 44,
   "id": "30f17dbc",
   "metadata": {},
   "outputs": [
    {
     "data": {
      "text/plain": [
       "CompletedProcess(args=['dx', 'upload', '../tmp/metabolic.BT.final.tsv', '--path', 'Data/phenotypes/'], returncode=0)"
      ]
     },
     "execution_count": 44,
     "metadata": {},
     "output_type": "execute_result"
    }
   ],
   "source": [
    "# regenie expects these two first columns\n",
    "\n",
    "df.insert(0, \"FID\", df.index)\n",
    "df.insert(1, \"IID\", df.index)\n",
    "\n",
    "# %%\n",
    "# Save with tabs and upload\n",
    "\n",
    "df.to_csv(\n",
    "    f\"../tmp/{PHENOTYPE}.{TRAIT}.final.tsv\",\n",
    "    sep=\"\\t\",\n",
    "    na_rep=\"NA\",\n",
    "    index=False,\n",
    ")\n",
    "\n",
    "\n",
    "subprocess.run(\n",
    "    [\n",
    "        \"dx\",\n",
    "        \"upload\",\n",
    "        f\"../tmp/{PHENOTYPE}.{TRAIT}.final.tsv\",\n",
    "        \"--path\",\n",
    "        \"Data/phenotypes/\",\n",
    "    ],\n",
    "    check=True,\n",
    "    shell=False,\n",
    ")"
   ]
  },
  {
   "cell_type": "code",
   "execution_count": null,
   "id": "5d73b203",
   "metadata": {},
   "outputs": [],
   "source": []
  }
 ],
 "metadata": {
  "kernelspec": {
   "display_name": "Python 3",
   "language": "python",
   "name": "python3"
  },
  "language_info": {
   "codemirror_mode": {
    "name": "ipython",
    "version": 3
   },
   "file_extension": ".py",
   "mimetype": "text/x-python",
   "name": "python",
   "nbconvert_exporter": "python",
   "pygments_lexer": "ipython3",
   "version": "3.6.5"
  }
 },
 "nbformat": 4,
 "nbformat_minor": 5
}
