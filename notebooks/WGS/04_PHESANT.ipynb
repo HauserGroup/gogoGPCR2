{
 "cells": [
  {
   "cell_type": "markdown",
   "metadata": {},
   "source": [
    "# SCRIPT TO RUN PHESANT ON BOTH BINARY AND QUANTITATIVE TREATS\n",
    "\n",
    "## This script should only be run once\n",
    "\n",
    "#### Initialization\n",
    "##### Load packages"
   ]
  },
  {
   "cell_type": "code",
   "execution_count": null,
   "metadata": {},
   "outputs": [],
   "source": [
    "import pandas as pd\n",
    "\n",
    "from pathlib import Path\n",
    "Path(\"../tmp\").resolve().mkdir(parents=True, exist_ok=True)"
   ]
  },
  {
   "cell_type": "markdown",
   "metadata": {},
   "source": [
    "#### Binary treats\n",
    "##### Run Phesant"
   ]
  },
  {
   "cell_type": "code",
   "execution_count": null,
   "metadata": {},
   "outputs": [],
   "source": [
    "!sh phesant.sh BT"
   ]
  },
  {
   "cell_type": "markdown",
   "metadata": {},
   "source": [
    "##### Format PHESANT output for Regenie"
   ]
  },
  {
   "cell_type": "code",
   "execution_count": null,
   "metadata": {},
   "outputs": [],
   "source": [
    "file = f\"/mnt/project/WGS_Javier/Data/phenotypes/phenos.BT.phesant/phenos.phesantdata-binary-all.txt\"\n",
    "\n",
    "df = pd.read_csv(file, sep=\",\", index_col=\"userID\")\n",
    "\n",
    "df.columns = [s.replace(\"#\", \"_\") for s in df.columns]\n",
    "\n",
    "df.insert(0, \"FID\", df.index)\n",
    "df.insert(1, \"IID\", df.index)"
   ]
  },
  {
   "cell_type": "markdown",
   "metadata": {},
   "source": [
    "##### Save and upload DataFrame"
   ]
  },
  {
   "cell_type": "code",
   "execution_count": null,
   "metadata": {},
   "outputs": [],
   "source": [
    "df.to_csv(\n",
    "    f\"../tmp/phenos.BT.final.tsv\",\n",
    "    sep=\"\\t\", na_rep=\"NA\", index=False,\n",
    ")\n",
    "\n",
    "!dx upload ../tmp/phenos.BT.final.tsv --path /WGS_Javier/Data/phenotypes/"
   ]
  },
  {
   "cell_type": "markdown",
   "metadata": {},
   "source": [
    "#### Quantitative treats\n",
    "##### Run Phesant"
   ]
  },
  {
   "cell_type": "code",
   "execution_count": null,
   "metadata": {},
   "outputs": [],
   "source": [
    "!sh phesant.sh QT"
   ]
  },
  {
   "cell_type": "markdown",
   "metadata": {},
   "source": [
    "##### Format PHESANT output for Regenie"
   ]
  },
  {
   "cell_type": "code",
   "execution_count": null,
   "metadata": {},
   "outputs": [],
   "source": [
    "file = f\"/mnt/project/WGS_Javier/Data/phenotypes/phenos.QT.phesant/phenos.phesantdata-cont-all.txt\"\n",
    "\n",
    "df = pd.read_csv(file, sep=\",\", index_col=\"userID\")\n",
    "\n",
    "df.columns = [s.replace(\"#\", \"_\") for s in df.columns]\n",
    "\n",
    "df.insert(0, \"FID\", df.index)\n",
    "df.insert(1, \"IID\", df.index)"
   ]
  },
  {
   "cell_type": "markdown",
   "metadata": {},
   "source": [
    "##### Save and upload DataFrame"
   ]
  },
  {
   "cell_type": "code",
   "execution_count": null,
   "metadata": {},
   "outputs": [],
   "source": [
    "df.to_csv(\n",
    "    f\"../tmp/phenos.QT.final.tsv\",\n",
    "    sep=\"\\t\", na_rep=\"NA\", index=False,\n",
    ")\n",
    "\n",
    "!dx upload ../tmp/phenos.QT.final.tsv --path /WGS_Javier/Data/phenotypes/"
   ]
  }
 ],
 "metadata": {
  "language_info": {
   "name": "python"
  }
 },
 "nbformat": 4,
 "nbformat_minor": 2
}
