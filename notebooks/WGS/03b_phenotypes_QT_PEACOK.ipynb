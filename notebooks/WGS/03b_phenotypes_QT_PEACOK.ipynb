{
 "cells": [
  {
   "cell_type": "markdown",
   "metadata": {},
   "source": [
    "# SCRIPT TO OBTAIN PHENOTIPIC QUANTITATIVE TREATS\n",
    "\n",
    "## This script should only be run once\n",
    "\n",
    "#### Initialization\n",
    "##### Load packages"
   ]
  },
  {
   "cell_type": "code",
   "execution_count": 40,
   "metadata": {
    "tags": []
   },
   "outputs": [],
   "source": [
    "import re\n",
    "import subprocess\n",
    "\n",
    "import dxdata\n",
    "import dxpy\n",
    "import pyspark\n",
    "\n",
    "from pyspark.sql import functions as F\n",
    "from pyspark.conf import SparkConf\n",
    "from pyspark.sql.types import StringType\n",
    "\n",
    "from pathlib import Path\n",
    "from phenotypes2 import get_pheno_fields, concatenate, new_names, get_age_sex\n",
    "\n",
    "Path(\"../tmp\").resolve().mkdir(parents=True, exist_ok=True)"
   ]
  },
  {
   "cell_type": "markdown",
   "metadata": {},
   "source": [
    "##### Spark and dataset configuration "
   ]
  },
  {
   "cell_type": "code",
   "execution_count": 2,
   "metadata": {
    "tags": []
   },
   "outputs": [],
   "source": [
    "sc = pyspark.SparkContext()\n",
    "spark = pyspark.sql.SparkSession(sc)\n",
    "spark.conf.set(\"spark.sql.autoBroadcastJoinThreshold\", -1)\n",
    "\n",
    "dispensed_database_name = dxpy.find_one_data_object(\n",
    "    classname=\"database\", \n",
    "    name=\"app*\", folder=\"/\", name_mode=\"glob\", \n",
    "    describe=True\n",
    ")[\"describe\"][\"name\"]\n",
    "spark.sql(\"USE \" + dispensed_database_name)\n",
    "\n",
    "dispensed_dataset_id = dxpy.find_one_data_object(\n",
    "    typename=\"Dataset\", name=\"app*.dataset\", folder=\"/\", name_mode=\"glob\"\n",
    ")[\"id\"]\n",
    "dataset = dxdata.load_dataset(id=dispensed_dataset_id)\n",
    "\n",
    "participant = dataset[\"participant\"]"
   ]
  },
  {
   "cell_type": "markdown",
   "metadata": {},
   "source": [
    "#### Data\n",
    "##### Retrieve quantitative values of given fields"
   ]
  },
  {
   "cell_type": "code",
   "execution_count": 51,
   "metadata": {
    "tags": []
   },
   "outputs": [],
   "source": [
    "age_sex_fields = get_age_sex(participant, fields=[\"31\", \"21022\"])\n",
    "\n",
    "quantitative_fields = get_pheno_fields(\n",
    "    participant,\n",
    "    fields=[\n",
    "        \"48\",\n",
    "        \"49\",\n",
    "        \"21001\",\n",
    "        \"21002\",\n",
    "        \"23099\",\n",
    "        \"23127\",\n",
    "        \"78\",\n",
    "        \"30750\",\n",
    "        \"30880\",\n",
    "        \"26019\",\n",
    "        \"4079\",\n",
    "        \"4080\",\n",
    "    ],\n",
    ")\n",
    "\n",
    "field_names = concatenate([\"eid\"], age_sex_fields, quantitative_fields)\n",
    "\n",
    "df = participant.retrieve_fields(names=field_names, engine=dxdata.connect())"
   ]
  },
  {
   "cell_type": "markdown",
   "metadata": {},
   "source": [
    "##### DataFrame formatting"
   ]
  },
  {
   "cell_type": "code",
   "execution_count": 59,
   "metadata": {
    "tags": []
   },
   "outputs": [],
   "source": [
    "def new_names(s: str) -> str:\n",
    "    \"\"\"\n",
    "    Return updated column name for PEACOK use\n",
    "\n",
    "    Input(s):\n",
    "    - Field names\n",
    "\n",
    "    Output(s):\n",
    "    - Updated field names for PHESANT use\n",
    "    \"\"\"\n",
    "    s = s.replace(\"p\", \"\").replace(\"i\", \"\")\n",
    "\n",
    "    match = re.search(r\"_(\\d)$\", s)\n",
    "    \n",
    "    if match:\n",
    "        digit = match.group(1)\n",
    "        s = re.sub(r\"_(\\d)$\", \"\", s)  \n",
    "        s += f\"-0.{digit}\"            \n",
    "    else:\n",
    "        s += \"-0.0\"\n",
    "    \n",
    "    return s"
   ]
  },
  {
   "cell_type": "code",
   "execution_count": 60,
   "metadata": {
    "tags": []
   },
   "outputs": [],
   "source": [
    "# Drop arrays\n",
    "to_drop = [x for x in df.columns if \"a1\" in x]\n",
    "df = df.drop(*to_drop)\n",
    "\n",
    "# Rename columns\n",
    "colnames = [re.sub(\"_a\\d\", \"\", x) for x in df.columns]\n",
    "colnames = [\"userId\"] + [new_names(s) for s in colnames[1:]]\n",
    "\n",
    "df = df.toDF(*colnames)"
   ]
  },
  {
   "cell_type": "code",
   "execution_count": null,
   "metadata": {},
   "outputs": [],
   "source": [
    "# Print schema\n",
    "df.printSchema()"
   ]
  },
  {
   "cell_type": "markdown",
   "metadata": {},
   "source": [
    "##### Export and upload DataFrame"
   ]
  },
  {
   "cell_type": "code",
   "execution_count": 68,
   "metadata": {
    "tags": []
   },
   "outputs": [],
   "source": [
    "df.write.csv(\"/tmp/phenos_QT.tsv\", sep=\"\\t\", header=True, emptyValue=\"NA\")"
   ]
  },
  {
   "cell_type": "code",
   "execution_count": null,
   "metadata": {},
   "outputs": [],
   "source": [
    "!hadoop fs -getmerge /tmp/phenos_QT.tsv ../tmp/phenos_PEACOK.QT.raw.tsv\n",
    "!dx upload ../tmp/phenos_PEACOK.QT.raw.csv --path  /WGS_Javier/Data/phenotypes/ --brief"
   ]
  },
  {
   "cell_type": "code",
   "execution_count": 72,
   "metadata": {
    "tags": []
   },
   "outputs": [],
   "source": [
    "!sed 's/\\t/,/g' /mnt/project/WGS_Javier/Data/phenotypes/phenos_PEACOK.QT.raw.tsv > phenos_PEACOK.QT.raw.csv\n",
    "!dx upload ../tmp/phenos_PEACOK.QT.raw.csv --path  /WGS_Javier/Data/phenotypes/ --brief"
   ]
  }
 ],
 "metadata": {
  "kernelspec": {
   "display_name": "Python 3 (ipykernel)",
   "language": "python",
   "name": "python3"
  },
  "language_info": {
   "codemirror_mode": {
    "name": "ipython",
    "version": 3
   },
   "file_extension": ".py",
   "mimetype": "text/x-python",
   "name": "python",
   "nbconvert_exporter": "python",
   "pygments_lexer": "ipython3",
   "version": "3.9.16"
  }
 },
 "nbformat": 4,
 "nbformat_minor": 4
}
