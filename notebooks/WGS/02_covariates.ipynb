{
 "cells": [
  {
   "cell_type": "markdown",
   "metadata": {},
   "source": [
    "# SCRIPT TO GENERATE COVARIATES\n",
    "\n",
    "## This script should be only run once\n",
    "\n",
    "#### Initialization \n",
    "##### Load packages"
   ]
  },
  {
   "cell_type": "code",
   "execution_count": null,
   "metadata": {},
   "outputs": [],
   "source": [
    "import subprocess\n",
    "from packaging import version\n",
    "\n",
    "import dxdata\n",
    "import dxpy\n",
    "import pyspark\n",
    "from pyspark.sql import functions as F\n",
    "from pyspark.sql.types import IntegerType\n",
    "\n",
    "from src.fields import fields_for_id"
   ]
  },
  {
   "cell_type": "markdown",
   "metadata": {},
   "source": [
    "##### Spark and dataset configuration"
   ]
  },
  {
   "cell_type": "code",
   "execution_count": null,
   "metadata": {},
   "outputs": [],
   "source": [
    "sc = pyspark.SparkContext()\n",
    "spark = pyspark.sql.SparkSession(sc)\n",
    "spark.conf.set(\"spark.sql.autoBroadcastJoinThreshold\", -1)\n",
    "\n",
    "dispensed_dataset_id = dxpy.find_one_data_object(\n",
    "    typename=\"Dataset\", \n",
    "    name=\"app*.dataset\", folder=\"/\", name_mode=\"glob\"\n",
    ")[\"id\"]\n",
    "dataset = dxdata.load_dataset(id=dispensed_dataset_id)\n",
    "\n",
    "participant = dataset[\"participant\"]"
   ]
  },
  {
   "cell_type": "markdown",
   "metadata": {},
   "source": [
    "#### Data\n",
    "##### Retrieve covariates and 20 first PCs"
   ]
  },
  {
   "cell_type": "code",
   "execution_count": null,
   "metadata": {},
   "outputs": [],
   "source": [
    "fields = [\n",
    "    \"21022\", # Age at recruitment\n",
    "    \"22001\", # Genetic sex\n",
    "    \"22009\", # Genetic principal components\n",
    "]\n",
    "\n",
    "# Get names of given fields\n",
    "field_names = [fields_for_id(id, participant) for id in fields]\n",
    "field_names = [\"eid\"] + [field.name for fields in field_names for field in fields]\n",
    "\n",
    "pcs = {f\"p22009_a{i}\": f\"PC{i}\" for i in range(1, 21)}\n",
    "covs = [\"FID\", \"IID\", \"SEX\", \"AGE\", \"AGE2\", \"AGESEX\", \"AGE2SEX\"] + list(pcs.values())"
   ]
  },
  {
   "cell_type": "code",
   "execution_count": null,
   "metadata": {},
   "outputs": [],
   "source": [
    "# Get data from the given fields\n",
    "df = participant.retrieve_fields(\n",
    "    names=field_names, engine=dxdata.connect(), coding_values=\"raw\"\n",
    ")\n",
    "\n",
    "# Drop rows containing missing values\n",
    "df = df.na.drop(how=\"any\")\n",
    "\n",
    "# Rename columns and get final DataFrame\n",
    "df = (\n",
    "    df.select([F.col(c).alias(pcs.get(c, c)) for c in df.columns])\n",
    "    .withColumn(\"FID\", F.col(\"eid\"))\n",
    "    .withColumn(\"IID\", F.col(\"eid\"))\n",
    "    .withColumn(\"SEX\", F.col(\"p22001\").cast(IntegerType()))\n",
    "    .withColumn(\"AGE\", F.col(\"p21022\").cast(IntegerType()))\n",
    "    .withColumn(\"AGE2\", (F.col(\"p21022\") ** 2).cast(IntegerType()))\n",
    "    .withColumn(\"AGESEX\", (F.col(\"p21022\") * F.col(\"p22001\")).cast(IntegerType()))\n",
    "    .withColumn(\n",
    "        \"AGE2SEX\", ((F.col(\"p21022\") ** 2) * F.col(\"p22001\")).cast(IntegerType())\n",
    "    )\n",
    "    .select(*covs)\n",
    ")"
   ]
  },
  {
   "cell_type": "markdown",
   "metadata": {},
   "source": [
    "##### Save and Export"
   ]
  },
  {
   "cell_type": "code",
   "execution_count": null,
   "metadata": {},
   "outputs": [],
   "source": [
    "# Save DataFrame\n",
    "df.coalesce(1).write.csv(\n",
    "    \"/tmp/covariates.tsv\",\n",
    "    sep=\"\\t\", header=True,\n",
    ")"
   ]
  },
  {
   "cell_type": "code",
   "execution_count": null,
   "metadata": {},
   "outputs": [],
   "source": [
    "# Upload DataFrame\n",
    "!hadoop fs -getmerge /tmp/covariates.tsv ../tmp/covariates.tsv\n",
    "!dx upload ../tmp/covariates.tsv /Data/Input_regenie/"
   ]
  }
 ],
 "metadata": {
  "language_info": {
   "name": "python"
  }
 },
 "nbformat": 4,
 "nbformat_minor": 2
}
