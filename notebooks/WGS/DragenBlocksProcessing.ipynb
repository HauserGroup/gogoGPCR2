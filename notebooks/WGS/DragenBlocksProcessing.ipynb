{
 "cells": [
  {
   "cell_type": "markdown",
   "metadata": {},
   "source": [
    "# SCRIPT TO GENERATE COVARIATES\n",
    "\n",
    "## This script should be only run once\n",
    "## This script can be run in the computer terminal and the output be submitted to the UK BioBank Project\n",
    "\n",
    "#### Initialization \n",
    "##### Load packages"
   ]
  },
  {
   "cell_type": "code",
   "execution_count": 1,
   "metadata": {},
   "outputs": [],
   "source": [
    "import pandas as pd"
   ]
  },
  {
   "cell_type": "markdown",
   "metadata": {},
   "source": [
    "##### Load file"
   ]
  },
  {
   "cell_type": "code",
   "execution_count": 2,
   "metadata": {},
   "outputs": [],
   "source": [
    "# Set the path to your file\n",
    "file_path = 'dragen_pvcf_coordinates.csv'\n",
    "\n",
    "# Read the CSV file\n",
    "data = pd.read_csv(file_path, header=0, names=[\"filename\", \"chromosome\", \"starting_position\"])"
   ]
  },
  {
   "cell_type": "markdown",
   "metadata": {},
   "source": [
    "##### Formatting"
   ]
  },
  {
   "cell_type": "code",
   "execution_count": 3,
   "metadata": {},
   "outputs": [],
   "source": [
    "# Create an empty list to store the output\n",
    "output = []\n",
    "\n",
    "# Iterate over the rows and extract the necessary parts\n",
    "for idx, row in data.iterrows():\n",
    "    filename = row[\"filename\"]\n",
    "    chromosome = row[\"chromosome\"]\n",
    "    starting_position = row[\"starting_position\"]\n",
    "    \n",
    "    # Extract chromosome number (after 'c') and block number (after 'b')\n",
    "    chrom_num = filename.split('_c')[1].split('_')[0]\n",
    "    block_num = int(filename.split('_b')[1].split('_')[0])\n",
    "    \n",
    "    # Append the row with index, chromosome number, block number, and starting position\n",
    "    output.append([idx + 1, chrom_num, block_num, starting_position])\n",
    "\n",
    "# Convert the output list to a DataFrame for easy viewing\n",
    "output_df = pd.DataFrame(output, columns=[\"Row_Number\", \"Chromosome\", \"Block\", \"Ending_Position\"])\n",
    "\n",
    "# Replace 'X' with 23 and 'Y' with 24 in the 'Chromosome' column\n",
    "output_df[\"Chromosome\"] = output_df[\"Chromosome\"].replace({\"X\": 23, \"Y\": 24})\n",
    "\n",
    "# Convert 'Chromosome' to numeric for correct sorting\n",
    "output_df[\"Chromosome\"] = pd.to_numeric(output_df[\"Chromosome\"], errors='coerce')\n",
    "\n",
    "# Sort the DataFrame by 'Chromosome' and 'Block'\n",
    "sorted_df = output_df.sort_values(by=[\"Chromosome\", \"Block\"])\n",
    "\n",
    "# Calculate the 'Ending_Position' and 'Starting_Position'\n",
    "# Initialize the Starting_Position column\n",
    "sorted_df[\"Starting_Position\"] = 0\n"
   ]
  },
  {
   "cell_type": "code",
   "execution_count": 11,
   "metadata": {},
   "outputs": [],
   "source": [
    "\n",
    "# Calculate 'Starting_Position' and 'Ending_Position'\n",
    "for chrom in sorted_df[\"Chromosome\"].unique():\n",
    "    chrom_df = sorted_df[sorted_df[\"Chromosome\"] == chrom]\n",
    "    \n",
    "    prev_ending_pos = 0\n",
    "    for index, row in chrom_df.iterrows():\n",
    "        block = row[\"Block\"]\n",
    "        \n",
    "        if block == 0:\n",
    "            starting_pos = 1\n",
    "        else:\n",
    "            # Get the Ending_Position of the previous block\n",
    "            prev_block_ending_pos = sorted_df.loc[\n",
    "                (sorted_df[\"Chromosome\"] == chrom) & (sorted_df[\"Block\"] == block - 1),\n",
    "                \"Ending_Position\"\n",
    "            ]\n",
    "            \n",
    "            if not prev_block_ending_pos.empty:\n",
    "                starting_pos = prev_block_ending_pos.values[0] + 1\n",
    "            else:\n",
    "                starting_pos = 1  # Default value or handle error if previous block not found\n",
    "        \n",
    "        sorted_df.loc[index, \"Starting_Position\"] = starting_pos\n",
    "\n",
    "# Add a new 'Row_Number' column\n",
    "sorted_df[\"Row_Number\"] = range(1, len(sorted_df) + 1)\n",
    "\n",
    "# Convert the entire 'Starting_Position' and 'Ending_Position' columns to integers\n",
    "sorted_df['Starting_Position'] = sorted_df['Starting_Position'].astype(int)\n",
    "sorted_df['Ending_Position'] = sorted_df['Ending_Position'].astype(int)\n",
    "\n",
    "# Reorder the columns\n",
    "sorted_df = sorted_df[[\"Row_Number\", \"Chromosome\", \"Block\", \"Starting_Position\", \"Ending_Position\"]]\n",
    "\n",
    "# Remove NaN values\n",
    "sorted_df = sorted_df.dropna()\n",
    "\n",
    "# Save the output to a new TSV file\n",
    "sorted_df.to_csv('dragen_pvcf_blocks.tsv', sep='\\t', index=False)\n"
   ]
  }
 ],
 "metadata": {
  "kernelspec": {
   "display_name": "Python 3",
   "language": "python",
   "name": "python3"
  },
  "language_info": {
   "codemirror_mode": {
    "name": "ipython",
    "version": 3
   },
   "file_extension": ".py",
   "mimetype": "text/x-python",
   "name": "python",
   "nbconvert_exporter": "python",
   "pygments_lexer": "ipython3",
   "version": "3.11.4"
  }
 },
 "nbformat": 4,
 "nbformat_minor": 2
}
