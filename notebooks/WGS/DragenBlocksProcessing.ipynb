{
 "cells": [
  {
   "cell_type": "markdown",
   "metadata": {},
   "source": [
    "# SCRIPT TO OBTAIN START AND END OF DRAGEN PVCF BLOCKS\n",
    "\n",
    "## This script should be only run once\n",
    "## This script does not need to be run in UK BioBank RAP, but the output has to be submitted to it\n",
    "## Output can also be obtained from the data/misc folder\n",
    "\n",
    "#### Initialization \n",
    "##### Load packages"
   ]
  },
  {
   "cell_type": "code",
   "execution_count": 1,
   "metadata": {},
   "outputs": [],
   "source": [
    "import pandas as pd"
   ]
  },
  {
   "cell_type": "markdown",
   "metadata": {},
   "source": [
    "##### Load file\n",
    "##### This file can be obtained from: https://biobank.ctsu.ox.ac.uk/showcase/refer.cgi?id=2009"
   ]
  },
  {
   "cell_type": "code",
   "execution_count": 2,
   "metadata": {},
   "outputs": [],
   "source": [
    "# Set the path to your file\n",
    "file_path = 'dragen_pvcf_coordinates.csv'\n",
    "\n",
    "# Read the CSV file\n",
    "data = pd.read_csv(file_path, header=0, names=[\"filename\", \"chromosome\", \"starting_position\"])"
   ]
  },
  {
   "cell_type": "markdown",
   "metadata": {},
   "source": [
    "##### Formatting"
   ]
  },
  {
   "cell_type": "code",
   "execution_count": 13,
   "metadata": {},
   "outputs": [],
   "source": [
    "# Remove rows with unknown chromosome or starting position\n",
    "data = data.dropna()"
   ]
  },
  {
   "cell_type": "code",
   "execution_count": 45,
   "metadata": {},
   "outputs": [],
   "source": [
    "# Create an empty list to store the output\n",
    "output = []\n",
    "\n",
    "# Iterate over the rows and extract the necessary parts\n",
    "for idx, row in data.iterrows():\n",
    "    filename = row[\"filename\"]\n",
    "    chromosome = row[\"chromosome\"]\n",
    "    starting_position = row[\"starting_position\"]\n",
    "    \n",
    "    # Extract chromosome number (after 'c') and block number (after 'b')\n",
    "    chrom_num = filename.split('_c')[1].split('_')[0]\n",
    "    block_num = int(filename.split('_b')[1].split('_')[0])\n",
    "    \n",
    "    # Append the row with index, chromosome number, block number, and starting position\n",
    "    output.append([idx + 1, chrom_num, block_num, starting_position])\n",
    "\n",
    "# Convert the output list to a DataFrame for easy viewing\n",
    "output_df = pd.DataFrame(output, columns=[\"Row_Number\", \"Chromosome\", \"Block\", \"Starting_Position\"])\n",
    "\n",
    "# Replace 'X' with 23 and 'Y' with 24 in the 'Chromosome' column\n",
    "output_df[\"Chromosome\"] = output_df[\"Chromosome\"].replace({\"X\": 23, \"Y\": 24})\n",
    "\n",
    "# Convert 'Chromosome' to numeric for correct sorting\n",
    "output_df[\"Chromosome\"] = pd.to_numeric(output_df[\"Chromosome\"], errors='coerce')\n",
    "\n",
    "# Sort the DataFrame by 'Chromosome' and 'Block'\n",
    "sorted_df = output_df.sort_values(by=[\"Chromosome\", \"Block\"])\n"
   ]
  },
  {
   "cell_type": "code",
   "execution_count": 52,
   "metadata": {},
   "outputs": [],
   "source": [
    "# Calculate 'Starting_Position' and 'Ending_Position'\n",
    "for chrom in sorted_df[\"Chromosome\"].unique():\n",
    "    chrom_df = sorted_df[sorted_df[\"Chromosome\"] == chrom]\n",
    "    \n",
    "    for i in range(len(chrom_df)):\n",
    "        row = chrom_df.iloc[i,]\n",
    "\n",
    "        if i + 1 < len(chrom_df):\n",
    "            # Get the Starting_Position of the next row (next block)\n",
    "            next_block_starting_pos = chrom_df.iloc[i + 1][\"Starting_Position\"]\n",
    "            ending_pos = next_block_starting_pos - 1\n",
    "        else:\n",
    "            # If there's no next row, assign a default large value\n",
    "            ending_pos = 999999999\n",
    "\n",
    "        sorted_df.loc[chrom_df.index[i], \"Ending_Position\"] = ending_pos\n",
    "\n",
    "\n",
    "# Add a new 'Row_Number' column\n",
    "sorted_df[\"Row_Number\"] = range(1, len(sorted_df) + 1)\n",
    "\n",
    "# Reorder the columns\n",
    "sorted_df = sorted_df[[\"Row_Number\", \"Chromosome\", \"Block\", \"Starting_Position\", \"Ending_Position\"]]\n",
    "\n",
    "# Remove NaN values\n",
    "sorted_df = sorted_df.dropna()\n",
    "\n",
    "# Convert the entire 'Starting_Position' and 'Ending_Position' columns to integers\n",
    "sorted_df['Starting_Position'] = sorted_df['Starting_Position'].astype(int)\n",
    "sorted_df['Ending_Position'] = sorted_df['Ending_Position'].astype(int)\n",
    "\n",
    "# Save the output to a new TSV file\n",
    "sorted_df.to_csv('dragen_pvcf_blocks.tsv', sep='\\t', index=False)"
   ]
  }
 ],
 "metadata": {
  "kernelspec": {
   "display_name": "Python 3",
   "language": "python",
   "name": "python3"
  },
  "language_info": {
   "codemirror_mode": {
    "name": "ipython",
    "version": 3
   },
   "file_extension": ".py",
   "mimetype": "text/x-python",
   "name": "python",
   "nbconvert_exporter": "python",
   "pygments_lexer": "ipython3",
   "version": "3.11.4"
  }
 },
 "nbformat": 4,
 "nbformat_minor": 2
}
