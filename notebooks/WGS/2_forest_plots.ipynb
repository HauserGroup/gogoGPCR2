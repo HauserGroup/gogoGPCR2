{
 "cells": [
  {
   "cell_type": "markdown",
   "metadata": {},
   "source": [
    "# SCRIPT TO VISUALIZE QUANTITATIVE AND BINARY REGENIE RESULTS THROUGH FOREST PLOTS\n",
    "\n",
    "#### Initialization\n",
    "##### Load packages"
   ]
  },
  {
   "cell_type": "code",
   "execution_count": null,
   "metadata": {},
   "outputs": [],
   "source": [
    "import os\n",
    "from pathlib import Path\n",
    "\n",
    "import matplotlib.pyplot as plt\n",
    "import numpy as np\n",
    "import pandas as pd\n",
    "from tqdm.notebook import tqdm\n",
    "from matplotlib.lines import Line2D\n",
    "\n",
    "from src.results import pheno_search, pval_stars, plot_BT, plot_QT, plot_BT_grouped_by_mask, plot_QT_grouped_by_mask\n",
    "\n",
    "Path(\"../tmp\").resolve().mkdir(parents=True, exist_ok=True)"
   ]
  },
  {
   "cell_type": "markdown",
   "metadata": {},
   "source": [
    "##### Load field_id - title dictionary\n",
    "\n",
    "If field_id is not in showcase dictionary from UK Biobank (https://biobank.ndph.ox.ac.uk/showcase/schema.cgi?id=16), should be added manually to 'Data_Dictionary_Custom.txt'"
   ]
  },
  {
   "cell_type": "code",
   "execution_count": null,
   "metadata": {},
   "outputs": [],
   "source": [
    "ukb_coding = pd.read_csv(\n",
    "    \"/opt/notebooks/gogoGPCR2/data/misc/Data_Dictionary_ShowCase.txt\",\n",
    "    sep=\"\\t\", \n",
    "    on_bad_lines=\"skip\",\n",
    "    quotechar='\"',\n",
    "    usecols=[\"field_id\", \"title\"],\n",
    ")\n",
    "\n",
    "custom_coding = pd.read_csv(\n",
    "    \"/opt/notebooks/gogoGPCR2/data/misc/Data_Dictionary_Custom.txt\",\n",
    "    sep=\"\\t\", \n",
    "    on_bad_lines=\"skip\",\n",
    "    quotechar='\"',\n",
    "    usecols=[\"field_id\", \"title\"],\n",
    ")"
   ]
  },
  {
   "cell_type": "markdown",
   "metadata": {
    "tags": []
   },
   "source": [
    "### Data\n",
    "#### Binary traits"
   ]
  },
  {
   "cell_type": "code",
   "execution_count": null,
   "metadata": {},
   "outputs": [],
   "source": [
    "# Binary trait files\n",
    "files_binary = [\n",
    "    f\"file:/mnt/project/gogoGPCR2/Results/WGS/BT/{file}\"\n",
    "    for file in os.listdir(f\"/mnt/project/gogoGPCR2/Results/WGS/BT/\")\n",
    "    if file.endswith(\".regenie\")\n",
    "]"
   ]
  },
  {
   "cell_type": "code",
   "execution_count": null,
   "metadata": {},
   "outputs": [],
   "source": [
    "# Load raw DF\n",
    "df_raw_binary = pd.read_csv(files_binary[0], delimiter=\" \", header=\"infer\", comment=\"#\").assign(\n",
    "    SOURCE=os.path.basename(files_binary[0])\n",
    ")\n",
    "\n",
    "df_raw_binary = pd.concat(\n",
    "    [df_raw_binary]\n",
    "    + [\n",
    "        pd.read_csv(fp, delimiter=\" \", comment=\"#\").assign(SOURCE=os.path.basename(fp))\n",
    "        for fp in files_binary[1:]\n",
    "    ],\n",
    "    axis=0,\n",
    ")"
   ]
  },
  {
   "cell_type": "code",
   "execution_count": null,
   "metadata": {},
   "outputs": [],
   "source": [
    "# Fix common fields\n",
    "TEST=\"ADD\"\n",
    "AAF = \"all\"\n",
    "\n",
    "df_binary = df_raw_binary\n",
    "df_binary.loc[:, \"GENE\"] = df_binary.ID.apply(lambda x: x.split(\".\")[0])\n",
    "df_binary.loc[:, \"MASK\"] = df_binary.ALLELE1.apply(lambda x: x.split(\".\", maxsplit=2)[0])\n",
    "df_binary.loc[:, \"AAF\"] = df_binary.ALLELE1.apply(lambda x: x.split(\".\", maxsplit=1)[-1])\n",
    "df_binary.loc[:, \"TRAIT\"] = \"BT\"  # df.FILE.apply(lambda x: x[0])\n",
    "df_binary.loc[:, \"PHENO\"] = df_binary.SOURCE.apply(lambda x: \"_\".join(x.split(\"_\")[1:]).split(\".\")[0])\n",
    "df_binary = df_binary.loc[df_binary.TEST.eq(TEST),:]\n",
    "df_binary = df_binary.drop([\"ID\", \"ALLELE0\", \"ALLELE1\", \"EXTRA\", \"SOURCE\", \"TEST\"], axis=1)"
   ]
  },
  {
   "cell_type": "code",
   "execution_count": null,
   "metadata": {},
   "outputs": [],
   "source": [
    "# Filters\n",
    "bt = df_binary.TRAIT == \"BT\"\n",
    "\n",
    "# Fix Binary Traits\n",
    "df_binary.loc[bt, \"OR\"] = np.exp(df_binary.loc[bt, \"BETA\"])\n",
    "df_binary.loc[bt, \"OR_up\"] = np.exp(df_binary.loc[bt, \"BETA\"] + df_binary.loc[bt, \"SE\"])\n",
    "df_binary.loc[bt, \"OR_low\"] = np.exp(df_binary.loc[bt, \"BETA\"] - df_binary.loc[bt, \"SE\"])\n",
    "df_binary.loc[bt, \"OR_up_lim\"] = df_binary.loc[bt, \"OR_up\"] - df_binary.loc[bt, \"OR\"]\n",
    "df_binary.loc[bt, \"OR_low_lim\"] = df_binary.loc[bt, \"OR\"] - df_binary.loc[bt, \"OR_low\"]\n",
    "\n",
    "# Final fixes\n",
    "df_binary.loc[:, \"Phenotype\"] = df_binary.PHENO.apply(\n",
    "    lambda x: pheno_search(x, ukb_coding, custom_coding).replace('\"', \"\").strip()\n",
    ")\n",
    "df_binary.loc[:, \"pval\"] = np.power(10, -df_binary[\"LOG10P\"])\n",
    "df_binary.loc[:, \"pval_stars\"] = df_binary[\"pval\"].apply(lambda x: pval_stars(x))\n",
    "df_binary.loc[:, \"N_pos\"] = (2 * df_binary[\"N\"] * df_binary[\"A1FREQ\"]).astype(int)\n",
    "\n",
    "# Singletons\n",
    "df_binary = df_binary.loc[df_binary.AAF != \"singleton\", :]"
   ]
  },
  {
   "cell_type": "code",
   "execution_count": null,
   "metadata": {},
   "outputs": [],
   "source": [
    "phenos_to_remove = []\n",
    "\n",
    "plt_df_binary = (\n",
    "    df_binary.sort_values(by=[\"Phenotype\", \"AAF\"], ascending=[True, False])  # , \"AAF\"\n",
    "    .groupby([\"Phenotype\", \"MASK\"])\n",
    "    .first()\n",
    "    .reset_index()\n",
    ")\n",
    "\n",
    "plt_df_binary = plt_df_binary.loc[~plt_df_binary.Phenotype.astype(str).isin(phenos_to_remove), :]\n",
    "\n",
    "effect = \"OR\"\n",
    "\n",
    "group_by_mean = (\n",
    "    pd.DataFrame({\"mean\": plt_df_binary.groupby([\"Phenotype\"]).agg(\"mean\", numeric_only=True)[effect]})\n",
    "    .sort_values(by=\"mean\", ascending=False)\n",
    "    .reset_index()\n",
    ")\n",
    "\n",
    "sorter = group_by_mean.Phenotype.tolist()\n",
    "\n",
    "plt_df_binary[\"Phenotype\"] = plt_df_binary[\"Phenotype\"].astype(\"category\")\n",
    "plt_df_binary[\"Phenotypes\"] = plt_df_binary[\"Phenotype\"].cat.set_categories(sorter)\n",
    "\n",
    "plt_df_binary = plt_df_binary.sort_values(\n",
    "    by=[\"Phenotype\", \"MASK\"], ascending=[True, False]\n",
    ").reset_index(drop=True)\n",
    "\n",
    "phenotypes = plt_df_binary.Phenotype.unique()"
   ]
  },
  {
   "cell_type": "markdown",
   "metadata": {},
   "source": [
    "#### Quantitative traits"
   ]
  },
  {
   "cell_type": "code",
   "execution_count": null,
   "metadata": {},
   "outputs": [],
   "source": [
    "# Quantitative traits files\n",
    "files_quantiative = [\n",
    "    f\"file:/mnt/project/gogoGPCR2/Results/WES/QT/{file}\"\n",
    "    for file in os.listdir(f\"/mnt/project/gogoGPCR2/Results/WES/QT/\")\n",
    "    if file.endswith(\".regenie\")\n",
    "]"
   ]
  },
  {
   "cell_type": "code",
   "execution_count": null,
   "metadata": {},
   "outputs": [],
   "source": [
    "# Load raw DF\n",
    "df_raw_quantiative = pd.read_csv(files_quantiative[0], delimiter=\" \", header=\"infer\", comment=\"#\").assign(\n",
    "    SOURCE=os.path.basename(files_quantiative[0])\n",
    ")\n",
    "\n",
    "df_raw_quantiative = pd.concat(\n",
    "    [df_raw_quantiative]\n",
    "    + [\n",
    "        pd.read_csv(fp, delimiter=\" \", comment=\"#\").assign(SOURCE=os.path.basename(fp))\n",
    "        for fp in files_quantiative[1:]\n",
    "    ],\n",
    "    axis=0,\n",
    ")"
   ]
  },
  {
   "cell_type": "code",
   "execution_count": null,
   "metadata": {},
   "outputs": [],
   "source": [
    "# Fix common fields\n",
    "TEST=\"ADD\"\n",
    "AAF = \"all\"\n",
    "\n",
    "df_quantiative = df_raw_quantiative\n",
    "df_quantiative.loc[:, \"GENE\"] = df_quantiative.ID.apply(lambda x: x.split(\".\")[0])\n",
    "df_quantiative.loc[:, \"MASK\"] = df_quantiative.ALLELE1.apply(lambda x: x.split(\".\", maxsplit=2)[0])\n",
    "df_quantiative.loc[:, \"AAF\"] = df_quantiative.ALLELE1.apply(lambda x: x.split(\".\", maxsplit=1)[-1])\n",
    "df_quantiative.loc[:, \"TRAIT\"] = \"QT\"  # df.FILE.apply(lambda x: x[0])\n",
    "df_quantiative.loc[:, \"PHENO\"] = df_quantiative.SOURCE.apply(lambda x: \"_\".join(x.split(\"_\")[1:]).split(\".\")[0])\n",
    "df_quantiative = df_quantiative.loc[df_quantiative.TEST.eq(TEST),:]\n",
    "df_quantiative = df_quantiative.drop([\"ID\", \"ALLELE0\", \"ALLELE1\", \"EXTRA\", \"SOURCE\", \"TEST\"], axis=1)"
   ]
  },
  {
   "cell_type": "code",
   "execution_count": null,
   "metadata": {},
   "outputs": [],
   "source": [
    "# Filters\n",
    "qt = df_quantiative.TRAIT == \"QT\"\n",
    "\n",
    "# Fix Quantitative Traits\n",
    "df_quantiative.loc[qt, \"BETA_up_lim\"] = df_quantiative.loc[qt, \"BETA\"] + df_quantiative.loc[qt, \"SE\"]\n",
    "df_quantiative.loc[qt, \"BETA_low_lim\"] = df_quantiative.loc[qt, \"BETA\"] - df_quantiative.loc[qt, \"SE\"]\n",
    "\n",
    "# Final fixes\n",
    "df_quantiative.loc[:, \"Phenotype\"] = df_quantiative.PHENO.apply(\n",
    "    lambda x: pheno_search(x, ukb_coding, custom_coding).replace('\"', \"\").strip()\n",
    ")\n",
    "df_quantiative.loc[:, \"pval\"] = np.power(10, -df_quantiative[\"LOG10P\"])\n",
    "df_quantiative.loc[:, \"pval_stars\"] = df_quantiative[\"pval\"].apply(lambda x: pval_stars(x))\n",
    "df_quantiative.loc[:, \"N_pos\"] = (2 * df_quantiative[\"N\"] * df_quantiative[\"A1FREQ\"]).astype(int)\n",
    "\n",
    "# Singletons\n",
    "df_quantiative = df_quantiative.loc[df_quantiative.AAF != \"singleton\", :]"
   ]
  },
  {
   "cell_type": "code",
   "execution_count": null,
   "metadata": {},
   "outputs": [],
   "source": [
    "phenos_to_remove_quantiative = []\n",
    "\n",
    "plt_df_quantiative = (\n",
    "    df_quantiative.sort_values(by=[\"Phenotype\", \"AAF\"], ascending=[True, False])  # , \"AAF\"\n",
    "    .groupby([\"Phenotype\", \"MASK\"])\n",
    "    .first()\n",
    "    .reset_index()\n",
    ")\n",
    "\n",
    "plt_df_quantiative = plt_df_quantiative.loc[~plt_df_quantiative.Phenotype.astype(str).isin(phenos_to_remove_quantiative), :]\n",
    "\n",
    "effect = \"BETA\"\n",
    "\n",
    "group_by_mean = (\n",
    "    pd.DataFrame({\"mean\": plt_df_quantiative.groupby([\"Phenotype\"]).agg(\"mean\", numeric_only=True)[effect]})\n",
    "    .sort_values(by=\"mean\", ascending=False)\n",
    "    .reset_index()\n",
    ")\n",
    "\n",
    "sorter = group_by_mean.Phenotype.tolist()\n",
    "\n",
    "plt_df_quantiative[\"Phenotype\"] = plt_df_quantiative[\"Phenotype\"].astype(\"category\")\n",
    "plt_df_quantiative[\"Phenotypes\"] = plt_df_quantiative[\"Phenotype\"].cat.set_categories(sorter)\n",
    "\n",
    "plt_df_quantiative = plt_df_quantiative.sort_values(\n",
    "    by=[\"Phenotype\", \"MASK\"], ascending=[True, False]\n",
    ").reset_index(drop=True)\n",
    "\n",
    "phenotypes = plt_df_quantiative.Phenotype.unique()"
   ]
  },
  {
   "cell_type": "markdown",
   "metadata": {},
   "source": [
    "### Plots\n",
    "\n",
    "#### Binary traits"
   ]
  },
  {
   "cell_type": "code",
   "execution_count": null,
   "metadata": {},
   "outputs": [],
   "source": [
    "plot = plot_BT(\n",
    "    plt_df_binary, title=f\"GIPR Binary Traits. WGS\", xlim=[0, 10]\n",
    ")\n",
    "\n",
    "plt.savefig(\n",
    "    f\"gipr_WGS_BT1.svg\",\n",
    "    dpi=600,\n",
    "    bbox_inches=\"tight\",\n",
    "    format=\"svg\",\n",
    ")"
   ]
  },
  {
   "cell_type": "code",
   "execution_count": null,
   "metadata": {},
   "outputs": [],
   "source": [
    "plot = plot_BT_grouped_by_mask(\n",
    "    plt_df_binary, title=f\"GIPR Binary Traits. WGS\", xlim=[0, 10]\n",
    ")\n",
    "\n",
    "plt.savefig(\n",
    "    f\"gipr_WGS_BT2.svg\",\n",
    "    dpi=600,\n",
    "    bbox_inches=\"tight\",\n",
    "    format=\"svg\",\n",
    ")"
   ]
  },
  {
   "cell_type": "markdown",
   "metadata": {},
   "source": [
    "#### Quantitative traits"
   ]
  },
  {
   "cell_type": "code",
   "execution_count": null,
   "metadata": {},
   "outputs": [],
   "source": [
    "plot = plot_QT(\n",
    "    plt_df_quantiative,\n",
    "    title=f\"GIPR Quantitative Traits. WGS\",\n",
    "    xlim=[-4, 4],\n",
    "    height=30,\n",
    ")\n",
    "\n",
    "plt.savefig(\n",
    "    f\"gipr_WGS_QT1.svg\",\n",
    "    dpi=600,\n",
    "    bbox_inches=\"tight\",\n",
    "    format=\"svg\",\n",
    ")"
   ]
  },
  {
   "cell_type": "code",
   "execution_count": null,
   "metadata": {},
   "outputs": [],
   "source": [
    "plot = plot_QT_grouped_by_mask(\n",
    "    plt_df_quantiative,\n",
    "    title=f\"GIPR Quantitative Traits. WGS\",\n",
    "    xlim=[-4, 4],\n",
    "    height=30,\n",
    ")\n",
    "\n",
    "plt.savefig(\n",
    "    f\"gipr_WGS_QT2.svg\",\n",
    "    dpi=600,\n",
    "    bbox_inches=\"tight\",\n",
    "    format=\"svg\",\n",
    ")"
   ]
  }
 ],
 "metadata": {
  "kernelspec": {
   "display_name": "Python 3 (ipykernel)",
   "language": "python",
   "name": "python3"
  },
  "language_info": {
   "codemirror_mode": {
    "name": "ipython",
    "version": 3
   },
   "file_extension": ".py",
   "mimetype": "text/x-python",
   "name": "python",
   "nbconvert_exporter": "python",
   "pygments_lexer": "ipython3",
   "version": "3.9.16"
  }
 },
 "nbformat": 4,
 "nbformat_minor": 4
}
