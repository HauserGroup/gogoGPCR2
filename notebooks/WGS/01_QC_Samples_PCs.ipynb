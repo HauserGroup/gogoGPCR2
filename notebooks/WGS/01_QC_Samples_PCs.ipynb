{
 "cells": [
  {
   "cell_type": "markdown",
   "id": "a111cba2",
   "metadata": {},
   "source": [
    "# SCRIPT TO OBTAIN PRINCIPAL COMPONENTS FOR ANCESTRY ANALYSIS\n",
    "\n",
    "## This script should only be run once\n",
    "\n",
    "#### Initialization\n",
    "##### Load packages"
   ]
  },
  {
   "cell_type": "code",
   "execution_count": 1,
   "id": "f5bbba3f-fe72-42a1-807c-7959894c93bc",
   "metadata": {
    "tags": []
   },
   "outputs": [],
   "source": [
    "import dxdata\n",
    "import dxpy\n",
    "import pyspark\n",
    "from pyspark.sql import functions as F\n",
    "from pyspark.sql.types import IntegerType, FloatType\n",
    "\n",
    "from src.fields import fields_for_id"
   ]
  },
  {
   "cell_type": "markdown",
   "id": "9a669d81",
   "metadata": {},
   "source": [
    "#### Spark and dataset configuration"
   ]
  },
  {
   "cell_type": "code",
   "execution_count": 2,
   "id": "51ffe035-2fab-4c06-a081-082453759291",
   "metadata": {
    "tags": []
   },
   "outputs": [],
   "source": [
    "sc = pyspark.SparkContext()\n",
    "spark = pyspark.sql.SparkSession(sc)\n",
    "\n",
    "dispensed_dataset_id = dxpy.find_one_data_object(\n",
    "    typename=\"Dataset\", name=\"app*.dataset\", folder=\"/\", name_mode=\"glob\"\n",
    ")[\"id\"]\n",
    "\n",
    "dataset = dxdata.load_dataset(id=dispensed_dataset_id)\n",
    "\n",
    "participant = dataset[\"participant\"]"
   ]
  },
  {
   "cell_type": "markdown",
   "id": "91398737",
   "metadata": {},
   "source": [
    "### PCs"
   ]
  },
  {
   "cell_type": "code",
   "execution_count": null,
   "id": "5a46a057",
   "metadata": {},
   "outputs": [],
   "source": [
    "pcs_fields = [\"eid\"] + [field.name for field in fields_for_id(\"22009\", participant)]\n",
    "\n",
    "df = participant.retrieve_fields(\n",
    "    names=pcs_fields, engine=dxdata.connect(), coding_values=\"raw\"\n",
    ")\n",
    "\n",
    "df = df.na.drop(how=\"any\")"
   ]
  },
  {
   "cell_type": "markdown",
   "id": "c051cae7",
   "metadata": {},
   "source": [
    "#### Save and export"
   ]
  },
  {
   "cell_type": "code",
   "execution_count": null,
   "id": "399bcab8-ef53-485a-bbb2-a60f29926821",
   "metadata": {
    "tags": []
   },
   "outputs": [],
   "source": [
    "df.coalesce(1).write.csv(\n",
    "    \"/tmp/pcs.csv\",\n",
    "    sep=\",\", header=True,\n",
    ")"
   ]
  },
  {
   "cell_type": "code",
   "execution_count": null,
   "id": "83c6ed8e-2730-4c9b-a2db-5f25f5367baf",
   "metadata": {
    "tags": []
   },
   "outputs": [],
   "source": [
    "!hadoop fs -getmerge /tmp/pcs.csv pcs.csv"
   ]
  }
 ],
 "metadata": {
  "kernelspec": {
   "display_name": "Python 3 (ipykernel)",
   "language": "python",
   "name": "python3"
  },
  "language_info": {
   "codemirror_mode": {
    "name": "ipython",
    "version": 3
   },
   "file_extension": ".py",
   "mimetype": "text/x-python",
   "name": "python",
   "nbconvert_exporter": "python",
   "pygments_lexer": "ipython3",
   "version": "3.9.16"
  }
 },
 "nbformat": 4,
 "nbformat_minor": 5
}
