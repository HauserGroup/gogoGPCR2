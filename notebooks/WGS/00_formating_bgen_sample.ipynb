{
 "cells": [
  {
   "cell_type": "markdown",
   "metadata": {},
   "source": [
    "# SCRIPT TO PERFORM QUALITY CONTROL ON WGS DATA\n",
    "\n",
    "## This script should only be run once\n",
    "\n",
    "#### Initialization\n",
    "##### Load packages"
   ]
  },
  {
   "cell_type": "code",
   "execution_count": null,
   "metadata": {},
   "outputs": [],
   "source": [
    "import os\n",
    "from glob import glob"
   ]
  },
  {
   "cell_type": "markdown",
   "metadata": {},
   "source": [
    "#### Load files and update first row from 0 0 0 0 to 0 0 0 D"
   ]
  },
  {
   "cell_type": "code",
   "execution_count": null,
   "metadata": {},
   "outputs": [],
   "source": [
    "files = [f for f in glob(\"/mnt/project/Bulk/Imputation/Imputation from genotype (GEL)/*.sample\")]\n",
    "for file in files:\n",
    "    prefix = file.split('/')[-1].split('.')[0]\n",
    "    sample = []\n",
    "    with open(file) as f:\n",
    "        for i, line in enumerate(f):\n",
    "            if i == 1:\n",
    "                sample.append('0 0 0 D\\n')\n",
    "            else:\n",
    "                sample.append(line)\n",
    "    filename = f'{prefix}.sample'\n",
    "    with open(filename, 'w') as f:\n",
    "        for line in sample:\n",
    "            f.write(f'{line}')\n",
    "    os.system (f'dx upload {filename} -p --path /Data/GEL_imputed_sample_files_fixed/  --brief')"
   ]
  }
 ],
 "metadata": {
  "language_info": {
   "name": "python"
  }
 },
 "nbformat": 4,
 "nbformat_minor": 2
}
