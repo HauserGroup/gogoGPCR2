{
  "cells": [
    {
      "cell_type": "code",
      "execution_count": 1,
      "id": "cc354d9e",
      "metadata": {},
      "outputs": [],
      "source": [
        "# %%\n",
        "import re\n",
        "import subprocess\n",
        "\n",
        "import dxdata\n",
        "import dxpy\n",
        "import pyspark\n",
        "\n",
        "from pyspark.conf import SparkConf  # type: ignore\n",
        "from pyspark.sql import SparkSession\n",
        "\n",
        "from pathlib import Path\n",
        "from src.phenotypes import get_age_sex, get_pheno_fields, concatenate, new_names\n",
        "\n",
        "Path(\"../tmp\").resolve().mkdir(parents=True, exist_ok=True)\n",
        "\n",
        "trait = \"metabolic\""
      ]
    },
    {
      "cell_type": "code",
      "execution_count": null,
      "id": "7a905984",
      "metadata": {},
      "outputs": [],
      "source": [
        "# Set up all kinds of Spark stuff based on DNAnexus documentation somewhere\n",
        "conf = SparkConf()\n",
        "# conf.set(\"autoBroadcastJoinThreshold\", -1)\n",
        "\n",
        "sc = pyspark.SparkContext()\n",
        "spark = SparkSession(sc)\n",
        "\n",
        "dispensed_database_name = dxpy.find_one_data_object(\n",
        "    classname=\"database\", name=\"app*\", folder=\"/\", name_mode=\"glob\", describe=True\n",
        ")[\"describe\"][\"name\"]\n",
        "dispensed_dataset_id = dxpy.find_one_data_object(\n",
        "    typename=\"Dataset\", name=\"app*.dataset\", folder=\"/\", name_mode=\"glob\"\n",
        ")[\"id\"]\n",
        "\n",
        "spark.sql(\"USE \" + dispensed_database_name)\n",
        "\n",
        "dataset = dxdata.load_dataset(id=dispensed_dataset_id)  # type: ignore\n",
        "participant = dataset[\"participant\"]"
      ]
    },
    {
      "cell_type": "code",
      "execution_count": null,
      "id": "6ac88619",
      "metadata": {},
      "outputs": [],
      "source": [
        "# Get fields\n",
        "age_sex_fields = get_age_sex(participant, fields=[\"31\", \"21022\"])\n",
        "\n",
        "metabolic_fields = get_pheno_fields(\n",
        "    participant,\n",
        "    fields=[\n",
        "        \"48\",\n",
        "        \"49\",\n",
        "        \"21001\",\n",
        "        \"21002\",\n",
        "        \"23099\",\n",
        "        \"23127\",\n",
        "        \"78\",\n",
        "        \"30750\",\n",
        "        \"30880\",\n",
        "        \"26019\",\n",
        "        \"4079\",\n",
        "        \"4080\",\n",
        "    ],\n",
        ")\n",
        "\n",
        "field_names = concatenate([\"eid\"], age_sex_fields, metabolic_fields)\n",
        "\n",
        "df = participant.retrieve_fields(names=field_names, engine=dxdata.connect())"
      ]
    },
    {
      "cell_type": "code",
      "execution_count": null,
      "id": "d967fb56",
      "metadata": {},
      "outputs": [],
      "source": [
        "# Drop arrays\n",
        "to_drop = [x for x in df.columns if \"a1\" in x]\n",
        "df = df.drop(*to_drop)\n",
        "colnames = [re.sub(r\"_a\\d\", \"\", x) for x in df.columns]\n",
        "colnames = [\"xeid\"] + [new_names(s) for s in colnames[1:]]\n",
        "print(colnames[:10])"
      ]
    },
    {
      "cell_type": "code",
      "execution_count": null,
      "id": "24dfc0a5",
      "metadata": {},
      "outputs": [],
      "source": [
        "# %%\n",
        "df = df.toDF(*colnames)"
      ]
    },
    {
      "cell_type": "code",
      "execution_count": null,
      "id": "ef5d4d89",
      "metadata": {},
      "outputs": [],
      "source": [
        "# %%\n",
        "df.write.csv(\"/tmp/phenos.tsv\", sep=\"\\t\", header=True, emptyValue=\"NA\")"
      ]
    },
    {
      "cell_type": "code",
      "execution_count": 14,
      "id": "1a286118",
      "metadata": {},
      "outputs": [
        {
          "data": {
            "text/plain": [
              "CompletedProcess(args=['hadoop', 'fs', '-get', '/tmp/phenos.tsv', '../tmp/phenos.tsv'], returncode=0)"
            ]
          },
          "execution_count": 14,
          "metadata": {},
          "output_type": "execute_result"
        }
      ],
      "source": [
        "# %%\n",
        "subprocess.run(\n",
        "    [\"hadoop\", \"fs\", \"-rm\", \"/tmp/phenos.tsv/_SUCCESS\"], check=True, shell=False\n",
        ")\n",
        "subprocess.run(\n",
        "    [\"hadoop\", \"fs\", \"-get\", \"/tmp/phenos.tsv\", \"../tmp/phenos.tsv\"],\n",
        "    check=True,\n",
        "    shell=False,\n",
        ")"
      ]
    },
    {
      "cell_type": "code",
      "execution_count": 15,
      "id": "61f5bdc8",
      "metadata": {},
      "outputs": [],
      "source": [
        "!sed -e '3,${/^xeid/d' -e '}' ../tmp/phenos.tsv/part* > ../tmp/metabolic.QT.raw.tsv"
      ]
    },
    {
      "cell_type": "code",
      "execution_count": 16,
      "id": "d658cff8",
      "metadata": {},
      "outputs": [
        {
          "data": {
            "text/plain": [
              "CompletedProcess(args=['dx', 'upload', '../tmp/metabolic.QT.raw.tsv', '--path', 'Data/phenotypes/'], returncode=0)"
            ]
          },
          "execution_count": 16,
          "metadata": {},
          "output_type": "execute_result"
        }
      ],
      "source": [
        "# %%\n",
        "# Upload to project\n",
        "\n",
        "subprocess.run(\n",
        "    [\"dx\", \"upload\", \"../tmp/metabolic.QT.raw.tsv\", \"--path\", \"Data/phenotypes/\"],\n",
        "    check=True,\n",
        "    shell=False,\n",
        ")"
      ]
    },
    {
      "cell_type": "code",
      "execution_count": null,
      "id": "743afaf7",
      "metadata": {},
      "outputs": [],
      "source": []
    }
  ],
  "metadata": {
    "kernelspec": {
      "display_name": "Python 3",
      "language": "python",
      "name": "python3"
    },
    "language_info": {
      "codemirror_mode": {
        "name": "ipython",
        "version": 3
      },
      "file_extension": ".py",
      "mimetype": "text/x-python",
      "name": "python",
      "nbconvert_exporter": "python",
      "pygments_lexer": "ipython3",
      "version": "3.9.16"
    }
  },
  "nbformat": 4,
  "nbformat_minor": 5
}
