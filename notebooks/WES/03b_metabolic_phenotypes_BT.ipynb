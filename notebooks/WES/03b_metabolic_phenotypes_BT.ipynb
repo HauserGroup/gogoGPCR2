{
  "cells": [
    {
      "cell_type": "code",
      "execution_count": 1,
      "id": "1cbce89f",
      "metadata": {},
      "outputs": [],
      "source": [
        "import re\n",
        "import subprocess\n",
        "\n",
        "import dxdata\n",
        "import dxpy\n",
        "import pyspark\n",
        "\n",
        "\n",
        "from pathlib import Path\n",
        "from src.phenotypes import get_age_sex, get_pheno_fields, concatenate, new_names\n",
        "\n",
        "Path(\"../tmp\").resolve().mkdir(parents=True, exist_ok=True)\n",
        "\n",
        "trait = \"metabolic\""
      ]
    },
    {
      "cell_type": "code",
      "execution_count": 2,
      "id": "4f85412b",
      "metadata": {},
      "outputs": [],
      "source": [
        "# conf = SparkConf()\n",
        "# conf.set(\"autoBroadcastJoinThreshold\", -1)\n",
        "# conf.set(\"broadcastTimeout\", 1200)\n",
        "\n",
        "\n",
        "spark = pyspark.sql.SparkSession.builder.config(\n",
        "    \"spark.sql.autoBroadcastJoinThreshold\", -1\n",
        ").getOrCreate()\n",
        "\n",
        "dispensed_database_name = dxpy.find_one_data_object(\n",
        "    classname=\"database\", name=\"app*\", folder=\"/\", name_mode=\"glob\", describe=True\n",
        ")[\"describe\"][\"name\"]\n",
        "dispensed_dataset_id = dxpy.find_one_data_object(\n",
        "    typename=\"Dataset\", name=\"app*.dataset\", folder=\"/\", name_mode=\"glob\"\n",
        ")[\"id\"]\n",
        "\n",
        "spark.sql(\"USE \" + dispensed_database_name)\n",
        "\n",
        "dataset = dxdata.load_dataset(id=dispensed_dataset_id)\n",
        "participant = dataset[\"participant\"]"
      ]
    },
    {
      "cell_type": "code",
      "execution_count": 3,
      "id": "e1a0c4a6",
      "metadata": {},
      "outputs": [],
      "source": [
        "first_occurence_fields = list(\n",
        "    participant.find_fields(\n",
        "        lambda f: bool(\n",
        "            re.match(\"^Date (E10|E11|E66|K90|K91|K80|K81) first reported\", f.title)\n",
        "        )\n",
        "    )\n",
        ")\n",
        "\n",
        "age_sex_fields = get_age_sex(participant, fields=[\"31\", \"21022\"])\n",
        "\n",
        "metabolic_fields = get_pheno_fields(\n",
        "    participant,\n",
        "    fields=[\n",
        "        \"131688\",\n",
        "        \"131690\",\n",
        "        \"130706\",\n",
        "        \"130708\",\n",
        "        \"130792\",\n",
        "        \"2443\",\n",
        "        \"131674\",\n",
        "        \"131676\",\n",
        "        \"2463\",\n",
        "        \"20511\",\n",
        "        \"1687\",\n",
        "        \"1697\",\n",
        "    ],\n",
        ")\n",
        "\n",
        "field_names = concatenate(\n",
        "    [\"eid\"], age_sex_fields, metabolic_fields, [f.name for f in first_occurence_fields]\n",
        ")\n",
        "\n",
        "df = participant.retrieve_fields(names=field_names, engine=dxdata.connect())"
      ]
    },
    {
      "cell_type": "code",
      "execution_count": 4,
      "id": "dc222856",
      "metadata": {},
      "outputs": [
        {
          "name": "stdout",
          "output_type": "stream",
          "text": [
            "['xeid', 'x31_0_0', 'x21022_0_0', 'x1687_0_0', 'x1687_1_0', 'x1687_2_0', 'x1697_0_0', 'x1697_1_0', 'x1697_2_0', 'x2443_0_0']\n"
          ]
        }
      ],
      "source": [
        "# Drop arrays\n",
        "# to_drop = [x for x in df.columns if \"a1\" in x]\n",
        "# df = df.drop(*to_drop)\n",
        "colnames = [re.sub(\"_a\\d\", \"\", x) for x in df.columns]\n",
        "colnames = [\"xeid\"] + [new_names(s) for s in colnames[1:]]\n",
        "print(colnames[:10])"
      ]
    },
    {
      "cell_type": "code",
      "execution_count": 5,
      "id": "eddb2ba4",
      "metadata": {},
      "outputs": [
        {
          "name": "stdout",
          "output_type": "stream",
          "text": [
            "root\n",
            " |-- eid: string (nullable = true)\n",
            " |-- p31: long (nullable = true)\n",
            " |-- p21022: long (nullable = true)\n",
            " |-- p1687_i0: long (nullable = true)\n",
            " |-- p1687_i1: long (nullable = true)\n",
            " |-- p1687_i2: long (nullable = true)\n",
            " |-- p1697_i0: long (nullable = true)\n",
            " |-- p1697_i1: long (nullable = true)\n",
            " |-- p1697_i2: long (nullable = true)\n",
            " |-- p2443_i0: long (nullable = true)\n",
            " |-- p2443_i1: long (nullable = true)\n",
            " |-- p2443_i2: long (nullable = true)\n",
            " |-- p2443_i3: long (nullable = true)\n",
            " |-- p2463_i0: long (nullable = true)\n",
            " |-- p2463_i1: long (nullable = true)\n",
            " |-- p2463_i2: long (nullable = true)\n",
            " |-- p2463_i3: long (nullable = true)\n",
            " |-- p130706: date (nullable = true)\n",
            " |-- p130708: date (nullable = true)\n",
            " |-- p130792: date (nullable = true)\n",
            " |-- p131674: date (nullable = true)\n",
            " |-- p131676: date (nullable = true)\n",
            " |-- p131688: date (nullable = true)\n",
            " |-- p131690: date (nullable = true)\n",
            "\n"
          ]
        }
      ],
      "source": [
        "df.printSchema()"
      ]
    },
    {
      "cell_type": "code",
      "execution_count": 6,
      "id": "c6ac61ca",
      "metadata": {},
      "outputs": [],
      "source": [
        "df = df.toDF(*colnames)\n",
        "\n",
        "df.write.csv(\"/tmp/phenos.tsv\", sep=\"\\t\", header=True, emptyValue=\"NA\")"
      ]
    },
    {
      "cell_type": "code",
      "execution_count": 7,
      "id": "243d7b59",
      "metadata": {},
      "outputs": [
        {
          "data": {
            "text/plain": [
              "CompletedProcess(args=['hadoop', 'fs', '-get', '/tmp/phenos.tsv', '../tmp/phenos.tsv'], returncode=0)"
            ]
          },
          "execution_count": 7,
          "metadata": {},
          "output_type": "execute_result"
        }
      ],
      "source": [
        "subprocess.run(\n",
        "    [\"hadoop\", \"fs\", \"-rm\", \"/tmp/phenos.tsv/_SUCCESS\"], check=True, shell=False\n",
        ")\n",
        "subprocess.run(\n",
        "    [\"hadoop\", \"fs\", \"-get\", \"/tmp/phenos.tsv\", \"../tmp/phenos.tsv\"],\n",
        "    check=True,\n",
        "    shell=False,\n",
        ")"
      ]
    },
    {
      "cell_type": "code",
      "execution_count": 8,
      "id": "60572f05",
      "metadata": {},
      "outputs": [],
      "source": [
        "!sed -e '3,${/^xeid/d' -e '}' ../tmp/phenos.tsv/part* > ../tmp/metabolic.BT.raw.tsv"
      ]
    },
    {
      "cell_type": "code",
      "execution_count": 9,
      "id": "9e4c2c44",
      "metadata": {},
      "outputs": [
        {
          "data": {
            "text/plain": [
              "CompletedProcess(args=['dx', 'upload', '../tmp/metabolic.BT.raw.tsv', '--path', 'Data/phenotypes/'], returncode=0)"
            ]
          },
          "execution_count": 9,
          "metadata": {},
          "output_type": "execute_result"
        }
      ],
      "source": [
        "# %%\n",
        "# Upload to project\n",
        "\n",
        "subprocess.run(\n",
        "    [\"dx\", \"upload\", \"../tmp/metabolic.BT.raw.tsv\", \"--path\", \"Data/phenotypes/\"],\n",
        "    check=True,\n",
        "    shell=False,\n",
        ")"
      ]
    },
    {
      "cell_type": "code",
      "execution_count": null,
      "id": "10a16275",
      "metadata": {},
      "outputs": [],
      "source": []
    }
  ],
  "metadata": {
    "kernelspec": {
      "display_name": "Python 3",
      "language": "python",
      "name": "python3"
    },
    "language_info": {
      "codemirror_mode": {
        "name": "ipython",
        "version": 3
      },
      "file_extension": ".py",
      "mimetype": "text/x-python",
      "name": "python",
      "nbconvert_exporter": "python",
      "pygments_lexer": "ipython3",
      "version": "3.9.16"
    }
  },
  "nbformat": 4,
  "nbformat_minor": 5
}
