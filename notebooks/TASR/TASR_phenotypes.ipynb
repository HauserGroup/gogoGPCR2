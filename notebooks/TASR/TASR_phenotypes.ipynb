{
 "cells": [
  {
   "cell_type": "code",
   "execution_count": 4,
   "id": "133fc42d",
   "metadata": {},
   "outputs": [],
   "source": [
    "import re\n",
    "import subprocess\n",
    "\n",
    "import dxdata\n",
    "import dxpy\n",
    "import pandas as pd\n",
    "import pyspark\n",
    "\n",
    "from pyspark.sql import functions as F\n",
    "from pyspark.conf import SparkConf\n",
    "from pyspark.sql.types import StringType\n",
    "\n",
    "from pathlib import Path\n",
    "from phenotypes import get_age_sex, get_pheno_fields, concatenate, new_names\n",
    "\n",
    "Path(\"../tmp\").resolve().mkdir(parents=True, exist_ok=True)"
   ]
  },
  {
   "cell_type": "code",
   "execution_count": 5,
   "id": "88fcb9f5",
   "metadata": {},
   "outputs": [],
   "source": [
    "spark = pyspark.sql.SparkSession.builder.config(\"spark.sql.autoBroadcastJoinThreshold\", -1).getOrCreate()\n",
    "\n",
    "dispensed_database_name = dxpy.find_one_data_object(\n",
    "    classname=\"database\", name=\"app*\", folder=\"/\", name_mode=\"glob\", describe=True\n",
    ")[\"describe\"][\"name\"]\n",
    "dispensed_dataset_id = dxpy.find_one_data_object(\n",
    "    typename=\"Dataset\", name=\"app*.dataset\", folder=\"/\", name_mode=\"glob\"\n",
    ")[\"id\"]\n",
    "\n",
    "spark.sql(\"USE \" + dispensed_database_name)\n",
    "\n",
    "dataset = dxdata.load_dataset(id=dispensed_dataset_id)\n",
    "participant = dataset[\"participant\"]"
   ]
  },
  {
   "cell_type": "code",
   "execution_count": 79,
   "id": "b3064784",
   "metadata": {},
   "outputs": [
    {
     "data": {
      "text/plain": [
       "['p20600', 'p20601', 'p20602', 'p20603', 'p20604']"
      ]
     },
     "execution_count": 79,
     "metadata": {},
     "output_type": "execute_result"
    }
   ],
   "source": [
    "liking_fields = list(\n",
    "    participant.find_fields(\n",
    "        lambda f: bool(re.match(\"^Liking for \", f.title))\n",
    "    )\n",
    ")\n",
    "\n",
    "not_food = (\"p20614\", \"p20656\", \"p20657\", \"p20668\", \"p20669\", \"p20670\", \"p20733\", \"p20741\", ) # bicyling, exercising, going out, stairs, television\n",
    "\n",
    "liking_fields = [f.name for f in liking_fields if not f.name.startswith(not_food)]\n",
    "\n",
    "liking_fields[0:5]"
   ]
  },
  {
   "cell_type": "code",
   "execution_count": 80,
   "id": "704f2292",
   "metadata": {},
   "outputs": [],
   "source": [
    "age_sex_fields = get_age_sex(participant, fields=[\"31\", \"21022\"])\n",
    "\n",
    "field_names = concatenate(\n",
    "    [\"eid\"], age_sex_fields, liking_fields\n",
    ")"
   ]
  },
  {
   "cell_type": "code",
   "execution_count": 81,
   "id": "6c646ec5",
   "metadata": {},
   "outputs": [],
   "source": [
    "df = participant.retrieve_fields(names=field_names, engine=dxdata.connect())"
   ]
  },
  {
   "cell_type": "code",
   "execution_count": 83,
   "id": "9cf23708",
   "metadata": {},
   "outputs": [
    {
     "name": "stdout",
     "output_type": "stream",
     "text": [
      "['xeid', 'x31_0_0', 'x21022_0_0', 'x20600_0_0', 'x20601_0_0', 'x20602_0_0', 'x20603_0_0', 'x20604_0_0', 'x20605_0_0', 'x20606_0_0']\n"
     ]
    }
   ],
   "source": [
    "colnames = [re.sub(\"_a\\d\", \"\", x) for x in df.columns]\n",
    "colnames = [\"xeid\"] + [new_names(s) for s in colnames[1:]]\n",
    "print(colnames[:10])\n",
    "\n",
    "# df.printSchema()"
   ]
  },
  {
   "cell_type": "code",
   "execution_count": 85,
   "id": "05739589",
   "metadata": {},
   "outputs": [],
   "source": [
    "# subprocess.run(\n",
    "#     [\"hadoop\", \"fs\", \"-rm\", \"-r\", \"/tmp/phenos.tsv\"], check=True, shell=False\n",
    "# )\n",
    "\n",
    "df = df.toDF(*colnames)\n",
    "\n",
    "df.write.csv(\"/tmp/phenos.tsv\", sep=\"\\t\", header=True, emptyValue=\"NA\")"
   ]
  },
  {
   "cell_type": "code",
   "execution_count": 86,
   "id": "6a85d353",
   "metadata": {},
   "outputs": [
    {
     "data": {
      "text/plain": [
       "CompletedProcess(args=['hadoop', 'fs', '-get', '/tmp/phenos.tsv', '../tmp/phenos.tsv'], returncode=0)"
      ]
     },
     "execution_count": 86,
     "metadata": {},
     "output_type": "execute_result"
    }
   ],
   "source": [
    "subprocess.run(\n",
    "    [\"hadoop\", \"fs\", \"-get\", \"/tmp/phenos.tsv\", \"../tmp/phenos.tsv\"],\n",
    "    check=True,\n",
    "    shell=False,\n",
    ")"
   ]
  },
  {
   "cell_type": "code",
   "execution_count": 87,
   "id": "79e0a054",
   "metadata": {},
   "outputs": [],
   "source": [
    "!sed -e '3,${/^xeid/d' -e '}' ../tmp/phenos.tsv/part* > ../tmp/likings.raw.tsv"
   ]
  },
  {
   "cell_type": "code",
   "execution_count": 88,
   "id": "0fe37c28",
   "metadata": {},
   "outputs": [
    {
     "data": {
      "text/plain": [
       "CompletedProcess(args=['dx', 'upload', '../tmp/likings.raw.tsv', '--path', 'Data/phenotypes/'], returncode=0)"
      ]
     },
     "execution_count": 88,
     "metadata": {},
     "output_type": "execute_result"
    }
   ],
   "source": [
    "# Upload to project\n",
    "\n",
    "subprocess.run(\n",
    "    [\"dx\", \"upload\", \"../tmp/likings.raw.tsv\", \"--path\", \"Data/phenotypes/\"],\n",
    "    check=True,\n",
    "    shell=False,\n",
    ")"
   ]
  },
  {
   "cell_type": "code",
   "execution_count": 89,
   "id": "84897a13",
   "metadata": {},
   "outputs": [
    {
     "data": {
      "text/plain": [
       "['p26000_i0', 'p26000_i1', 'p26000_i2', 'p26000_i3', 'p26000_i4', 'p26001_i0']"
      ]
     },
     "execution_count": 89,
     "metadata": {},
     "output_type": "execute_result"
    }
   ],
   "source": [
    "nutrients = tuple([f\"p{f}\" for f in list(range(26000, 26062)) + [26155]])\n",
    "\n",
    "nutrient_fields = list(participant.find_fields(\n",
    "        lambda f: f.name.startswith(nutrients)\n",
    "    ))\n",
    "\n",
    "nutrient_fields = [f.name for f in nutrient_fields]\n",
    "\n",
    "nutrient_fields[0:6]"
   ]
  },
  {
   "cell_type": "code",
   "execution_count": 90,
   "id": "9fbd3db5",
   "metadata": {},
   "outputs": [
    {
     "data": {
      "text/plain": [
       "['p26062_i0', 'p26062_i1', 'p26062_i2', 'p26062_i3', 'p26062_i4', 'p26063_i0']"
      ]
     },
     "execution_count": 90,
     "metadata": {},
     "output_type": "execute_result"
    }
   ],
   "source": [
    "food_weights = tuple([f\"p{f}\" for f in range(26062, 26155)])\n",
    "\n",
    "weight_fields = list(participant.find_fields(\n",
    "        lambda f: f.name.startswith(food_weights)\n",
    "    ))\n",
    "\n",
    "weight_fields = [f.name for f in weight_fields]\n",
    "\n",
    "weight_fields[0:6]"
   ]
  },
  {
   "cell_type": "code",
   "execution_count": 91,
   "id": "0bc3a344",
   "metadata": {},
   "outputs": [],
   "source": [
    "age_sex_fields = get_age_sex(participant, fields=[\"31\", \"21022\"])\n",
    "\n",
    "field_names = concatenate(\n",
    "    [\"eid\"], nutrient_fields, weight_fields\n",
    ")"
   ]
  },
  {
   "cell_type": "code",
   "execution_count": 92,
   "id": "b460fab4",
   "metadata": {},
   "outputs": [],
   "source": [
    "df = participant.retrieve_fields(names=field_names, engine=dxdata.connect())"
   ]
  },
  {
   "cell_type": "code",
   "execution_count": 94,
   "id": "099ae1e0",
   "metadata": {},
   "outputs": [
    {
     "name": "stdout",
     "output_type": "stream",
     "text": [
      "['xeid', 'x26000_0_0', 'x26000_1_0', 'x26000_2_0', 'x26000_3_0', 'x26000_4_0', 'x26001_0_0', 'x26001_1_0', 'x26001_2_0', 'x26001_3_0']\n"
     ]
    }
   ],
   "source": [
    "colnames = [re.sub(\"_a\\d\", \"\", x) for x in df.columns]\n",
    "colnames = [\"xeid\"] + [new_names(s) for s in colnames[1:]]\n",
    "print(colnames[:10])\n",
    "\n",
    "# df.printSchema()"
   ]
  },
  {
   "cell_type": "code",
   "execution_count": 95,
   "id": "256e0f19",
   "metadata": {},
   "outputs": [],
   "source": [
    "subprocess.run(\n",
    "    [\"hadoop\", \"fs\", \"-rm\", \"-r\", \"/tmp/phenos.tsv\"], check=True, shell=False\n",
    ")\n",
    "\n",
    "df = df.toDF(*colnames)\n",
    "\n",
    "df.write.csv(\"/tmp/phenos.tsv\", sep=\"\\t\", header=True, emptyValue=\"NA\")"
   ]
  },
  {
   "cell_type": "code",
   "execution_count": 96,
   "id": "6ab93304",
   "metadata": {},
   "outputs": [
    {
     "data": {
      "text/plain": [
       "CompletedProcess(args=['hadoop', 'fs', '-get', '/tmp/phenos.tsv', '../tmp/phenos.tsv'], returncode=0)"
      ]
     },
     "execution_count": 96,
     "metadata": {},
     "output_type": "execute_result"
    }
   ],
   "source": [
    "subprocess.run(\n",
    "    [\"hadoop\", \"fs\", \"-get\", \"/tmp/phenos.tsv\", \"../tmp/phenos.tsv\"],\n",
    "    check=True,\n",
    "    shell=False,\n",
    ")"
   ]
  },
  {
   "cell_type": "code",
   "execution_count": 97,
   "id": "1c8048ee",
   "metadata": {},
   "outputs": [],
   "source": [
    "!sed -e '3,${/^xeid/d' -e '}' ../tmp/phenos.tsv/part* > ../tmp/nutrients.raw.tsv"
   ]
  },
  {
   "cell_type": "code",
   "execution_count": 98,
   "id": "9c4c393b",
   "metadata": {},
   "outputs": [
    {
     "data": {
      "text/plain": [
       "CompletedProcess(args=['dx', 'upload', '../tmp/nutrients.raw.tsv', '--path', 'Data/phenotypes/'], returncode=0)"
      ]
     },
     "execution_count": 98,
     "metadata": {},
     "output_type": "execute_result"
    }
   ],
   "source": [
    "# Upload to project\n",
    "\n",
    "subprocess.run(\n",
    "    [\"dx\", \"upload\", \"../tmp/nutrients.raw.tsv\", \"--path\", \"Data/phenotypes/\"],\n",
    "    check=True,\n",
    "    shell=False,\n",
    ")"
   ]
  },
  {
   "cell_type": "code",
   "execution_count": null,
   "id": "44016820",
   "metadata": {},
   "outputs": [],
   "source": []
  }
 ],
 "metadata": {
  "kernelspec": {
   "display_name": "Python 3",
   "language": "python",
   "name": "python3"
  },
  "language_info": {
   "codemirror_mode": {
    "name": "ipython",
    "version": 3
   },
   "file_extension": ".py",
   "mimetype": "text/x-python",
   "name": "python",
   "nbconvert_exporter": "python",
   "pygments_lexer": "ipython3",
   "version": "3.6.5"
  }
 },
 "nbformat": 4,
 "nbformat_minor": 5
}
