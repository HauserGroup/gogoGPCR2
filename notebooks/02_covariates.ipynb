{
 "cells": [
  {
   "cell_type": "code",
   "execution_count": 1,
   "id": "662e296b",
   "metadata": {},
   "outputs": [],
   "source": [
    "import subprocess\n",
    "from distutils.version import LooseVersion\n",
    "\n",
    "import dxdata\n",
    "import dxpy\n",
    "import pyspark\n",
    "from pyspark.sql import functions as F\n",
    "from pyspark.sql.types import IntegerType"
   ]
  },
  {
   "cell_type": "code",
   "execution_count": 2,
   "id": "598fa4ab",
   "metadata": {},
   "outputs": [],
   "source": [
    "sc = pyspark.SparkContext()\n",
    "spark = pyspark.sql.SparkSession(sc)\n",
    "\n",
    "dispensed_database_name = dxpy.find_one_data_object(\n",
    "    classname=\"database\", name=\"app*\", folder=\"/\", name_mode=\"glob\", describe=True\n",
    ")[\"describe\"][\"name\"]\n",
    "dispensed_dataset_id = dxpy.find_one_data_object(\n",
    "    typename=\"Dataset\", name=\"app*.dataset\", folder=\"/\", name_mode=\"glob\"\n",
    ")[\"id\"]\n",
    "\n",
    "dataset = dxdata.load_dataset(id=dispensed_dataset_id)\n",
    "participant = dataset[\"participant\"]"
   ]
  },
  {
   "cell_type": "code",
   "execution_count": 7,
   "id": "d9022b55",
   "metadata": {},
   "outputs": [],
   "source": [
    "def fields_for_id(field_id):\n",
    "\n",
    "    field_id = str(field_id)\n",
    "    fields = participant.find_fields(\n",
    "        name_regex=r\"^p{}(_i\\d+)?(_a\\d+)?$\".format(field_id)\n",
    "    )\n",
    "\n",
    "    return sorted(fields, key=lambda f: LooseVersion(f.name))\n",
    "\n",
    "fields = [\n",
    "    \"21022\",\n",
    "    \"22001\",\n",
    "    \"22009\",\n",
    "    \"26216\",\n",
    "]\n",
    "\n",
    "field_names = [fields_for_id(id) for id in fields]\n",
    "field_names = [\"eid\"] + [field.name for fields in field_names for field in fields]\n",
    "\n",
    "pcs = {f\"p22009_a{i}\": f\"PC{i}\" for i in range(1, 21)}\n",
    "covs = [\"FID\", \"IID\", \"SEX\", \"AGE\", \"AGE2\", \"AGESEX\", \"AGE2SEX\", \"BMI_STD_PRS\"] + list(pcs.values())"
   ]
  },
  {
   "cell_type": "code",
   "execution_count": 8,
   "id": "797b3ed5",
   "metadata": {},
   "outputs": [
    {
     "data": {
      "text/plain": [
       "['FID',\n",
       " 'IID',\n",
       " 'SEX',\n",
       " 'AGE',\n",
       " 'AGE2',\n",
       " 'AGESEX',\n",
       " 'AGE2SEX',\n",
       " 'BMI_STD_PRS',\n",
       " 'PC1',\n",
       " 'PC2',\n",
       " 'PC3',\n",
       " 'PC4',\n",
       " 'PC5',\n",
       " 'PC6',\n",
       " 'PC7',\n",
       " 'PC8',\n",
       " 'PC9',\n",
       " 'PC10',\n",
       " 'PC11',\n",
       " 'PC12',\n",
       " 'PC13',\n",
       " 'PC14',\n",
       " 'PC15',\n",
       " 'PC16',\n",
       " 'PC17',\n",
       " 'PC18',\n",
       " 'PC19',\n",
       " 'PC20']"
      ]
     },
     "execution_count": 8,
     "metadata": {},
     "output_type": "execute_result"
    }
   ],
   "source": [
    "covs"
   ]
  },
  {
   "cell_type": "code",
   "execution_count": 10,
   "id": "7160a210",
   "metadata": {},
   "outputs": [],
   "source": [
    "df = participant.retrieve_fields(\n",
    "    names=field_names, engine=dxdata.connect(), coding_values=\"raw\"\n",
    ")\n",
    "\n",
    "df = df.na.drop(how=\"any\")\n",
    "\n",
    "df = (\n",
    "    df.select([F.col(c).alias(pcs.get(c, c)) for c in df.columns])\n",
    "    .withColumn(\"FID\", F.col(\"eid\"))\n",
    "    .withColumn(\"IID\", F.col(\"eid\"))\n",
    "    .withColumn(\"SEX\", F.col(\"p22001\").cast(IntegerType()))\n",
    "    .withColumn(\"AGE\", F.col(\"p21022\").cast(IntegerType()))\n",
    "    .withColumn(\"AGE2\", (F.col(\"p21022\") ** 2).cast(IntegerType()))\n",
    "    .withColumn(\"AGESEX\", (F.col(\"p21022\") * F.col(\"p22001\")).cast(IntegerType()))\n",
    "    .withColumn(\n",
    "        \"AGE2SEX\", ((F.col(\"p21022\") ** 2) * F.col(\"p22001\")).cast(IntegerType())\n",
    "    )\n",
    "    .withColumn(\"BMI_STD_PRS\", F.col(\"p26216\"))\n",
    "    .select(*covs)\n",
    ")"
   ]
  },
  {
   "cell_type": "code",
   "execution_count": 11,
   "id": "da8d0fac",
   "metadata": {},
   "outputs": [],
   "source": [
    "df.coalesce(1).write.csv(\n",
    "    \"/tmp/covariates.tsv\",\n",
    "    sep=\"\\t\",\n",
    "    header=True,\n",
    ")"
   ]
  },
  {
   "cell_type": "code",
   "execution_count": 12,
   "id": "fbcf87e3",
   "metadata": {},
   "outputs": [
    {
     "data": {
      "text/plain": [
       "CompletedProcess(args=['dx', 'upload', '../tmp/covariates.tsv', '--path', '/Data/phenotypes/'], returncode=0)"
      ]
     },
     "execution_count": 12,
     "metadata": {},
     "output_type": "execute_result"
    }
   ],
   "source": [
    "subprocess.run(\n",
    "    [\"hadoop\", \"fs\", \"-getmerge\", \"/tmp/covariates.tsv\", \"../tmp/covariates.tsv\"],\n",
    "    check=True,\n",
    "    shell=False,\n",
    ")\n",
    "subprocess.run(\n",
    "    [\"dx\", \"upload\", \"../tmp/covariates.tsv\", \"--path\", \"/Data/phenotypes/\"],\n",
    "    check=True,\n",
    "    shell=False,\n",
    ")"
   ]
  },
  {
   "cell_type": "code",
   "execution_count": null,
   "id": "83ab2dda",
   "metadata": {},
   "outputs": [],
   "source": []
  }
 ],
 "metadata": {
  "kernelspec": {
   "display_name": "Python 3",
   "language": "python",
   "name": "python3"
  },
  "language_info": {
   "codemirror_mode": {
    "name": "ipython",
    "version": 3
   },
   "file_extension": ".py",
   "mimetype": "text/x-python",
   "name": "python",
   "nbconvert_exporter": "python",
   "pygments_lexer": "ipython3",
   "version": "3.6.5"
  }
 },
 "nbformat": 4,
 "nbformat_minor": 5
}
