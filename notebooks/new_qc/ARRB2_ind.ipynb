{
  "cells": [
    {
      "cell_type": "code",
      "execution_count": 1,
      "id": "fe006eac-c090-4d94-902c-61a1941414df",
      "metadata": {
        "tags": []
      },
      "outputs": [
        {
          "name": "stderr",
          "output_type": "stream",
          "text": [
            "pip-installed Hail requires additional configuration options in Spark referring\n",
            "  to the path to the Hail Python module directory HAIL_DIR,\n",
            "  e.g. /path/to/python/site-packages/hail:\n",
            "    spark.jars=HAIL_DIR/backend/hail-all-spark.jar\n",
            "    spark.driver.extraClassPath=HAIL_DIR/backend/hail-all-spark.jar\n",
            "    spark.executor.extraClassPath=./hail-all-spark.jarRunning on Apache Spark version 3.2.3\n",
            "SparkUI available at http://ip-10-60-37-64.eu-west-2.compute.internal:8081\n",
            "Welcome to\n",
            "     __  __     <>__\n",
            "    / /_/ /__  __/ /\n",
            "   / __  / _ `/ / /\n",
            "  /_/ /_/\\_,_/_/_/   version 0.2.116-cd64e0876c94\n",
            "LOGGING: writing to /opt/notebooks/hail-20240415-2003-0.2.116-cd64e0876c94.log\n"
          ]
        }
      ],
      "source": [
        "from pyspark.sql import SparkSession\n",
        "import hail as hl\n",
        "\n",
        "builder = SparkSession.builder.enableHiveSupport()\n",
        "\n",
        "spark = builder.getOrCreate()\n",
        "hl.init(sc=spark.sparkContext, default_reference=\"GRCh38\")"
      ]
    },
    {
      "cell_type": "code",
      "execution_count": null,
      "id": "a9149e62-207a-4c14-aa4d-c73bd87771c4",
      "metadata": {
        "tags": []
      },
      "outputs": [],
      "source": [
        "CHR = \"17\"\n",
        "START = 4710596\n",
        "END = 4721499\n",
        "LENGTH = 1500000\n",
        "REF = \"GRCh38\"\n",
        "EXOME_DIR = \"file:///mnt/project/Bulk/Exome sequences/\"\n",
        "START_VCF = (\n",
        "    EXOME_DIR\n",
        "    + f\"Population level exome OQFE variants, pVCF format - final release/ukb23157_c{CHR}_b{START // LENGTH + 1}_v1.vcf.gz\"\n",
        ")\n",
        "END_VCF = (\n",
        "    EXOME_DIR\n",
        "    + f\"Population level exome OQFE variants, pVCF format - final release/ukb23157_c{CHR}_b{END // LENGTH + 1}_v1.vcf.gz\"\n",
        ")\n",
        "INT_TABLE = (\n",
        "    EXOME_DIR + \"Exome OQFE CRAM files/helper_files/xgen_plus_spikein.GRCh38.bed\"\n",
        ")\n",
        "DP10_FILE = (\n",
        "    EXOME_DIR\n",
        "    + \"Population level exome OQFE variants, PLINK format - final release/helper_files/ukb23158_500k_OQFE.90pct10dp_qc_variants.txt\"\n",
        ")\n",
        "\n",
        "# f\"file:///mnt/project/Bulk/Exome sequences/Population level exome OQFE variants, pVCF format - final release/ukb23157_c3_b13_v1.vcf.gz\",\n",
        "# f\"file:///mnt/project/Bulk/DRAGEN WGS/DRAGEN population level WGS variants, pVCF format 500k release/chr{CHR}/ukb24310_c{CHR}_b{START // LENGTH}_v1.vcf.gz\",\n",
        "# f\"file:///mnt/project/Bulk/Exome sequences/Population level exome OQFE variants, pVCF format - final release/ukb23157_c11_b10_v1.vcf.gz\",\n",
        "# \"file:///mnt/project/Bulk/Exome sequences/Population level exome OQFE variants, pVCF format - final release/ukb23157_c17_b0_v1.vcf.gz\",\n",
        "VCF_FILES = list(set([START_VCF, END_VCF]))\n",
        "\n",
        "print(f\"Number of VCFs {VCF_FILES}\")\n",
        "\n",
        "\n",
        "mt = hl.import_vcf(\n",
        "    VCF_FILES,\n",
        "    # min_partitions = 2,\n",
        "    force_bgz=True,\n",
        "    reference_genome=\"GRCh38\",\n",
        "    array_elements_required=False,\n",
        "    drop_samples=False,\n",
        "    # n_partitions=3,  # fit number of workers\n",
        ")\n",
        "\n",
        "\n",
        "# Filter Gene Intervals\n",
        "gene_intervals = [\n",
        "    hl.locus_interval(f\"chr{CHR}\", START, END, reference_genome=REF),\n",
        "]\n",
        "\n",
        "mt = hl.filter_intervals(mt, gene_intervals)\n",
        "\n",
        "\n",
        "# Filter Spikein\n",
        "interval_table = hl.import_bed(\n",
        "    INT_TABLE,\n",
        "    reference_genome=\"GRCh38\",\n",
        ")\n",
        "\n",
        "mt = mt.filter_rows(hl.is_defined(interval_table[mt.locus]))\n",
        "\n",
        "# Filter 90PCT_10DP\n",
        "\n",
        "\n",
        "def load_90pct10dp(dp10: str, chrom: int = 17):\n",
        "    ht = hl.import_table(dp10, no_header=True)\n",
        "    ht = ht.filter(ht.f0.startswith(f\"{chrom}:\"))\n",
        "    ht = ht.annotate(**hl.parse_variant(\"chr\" + ht.f0))\n",
        "    ht = ht.key_by(ht.locus, ht.alleles)\n",
        "    ht = ht.drop(\"f0\")\n",
        "\n",
        "    return ht\n",
        "\n",
        "\n",
        "dp10_table = load_90pct10dp(DP10_FILE)\n",
        "\n",
        "mt = mt.filter_rows(~hl.is_defined(dp10_table[mt.locus, mt.alleles]))\n",
        "\n",
        "\n",
        "# Split multi\n",
        "def smart_split_multi_mt(\n",
        "    mt: hl.matrixtable.MatrixTable, left_aligned=False\n",
        ") -> hl.matrixtable.MatrixTable:\n",
        "    \"\"\"Split multiple alleles into bi-allelic in a clever way\n",
        "    Parameters\n",
        "    ----------\n",
        "    mt : hl.matrixtable.MatrixTable\n",
        "        MT with non-bi-allelic sites\n",
        "    left_aligned : bool, optional\n",
        "        Assume that alleles are left-aligned for faster splitting, by default False\n",
        "    Returns\n",
        "    -------\n",
        "    hl.matrixtable.MatrixTable\n",
        "        MT with only bi-allelic sites\n",
        "    \"\"\"\n",
        "\n",
        "    # Only split relevant alleles as suggested by Hail docs\n",
        "\n",
        "    bi = mt.filter_rows(hl.len(mt.alleles) == 2)\n",
        "    bi = bi.annotate_rows(a_index=1, was_split=False)\n",
        "    multi = mt.filter_rows(hl.len(mt.alleles) > 2)\n",
        "    split = hl.split_multi_hts(multi, left_aligned=left_aligned)\n",
        "    mt = split.union_rows(bi)\n",
        "\n",
        "    return mt\n",
        "\n",
        "\n",
        "mt = smart_split_multi_mt(mt)\n",
        "\n",
        "mt.checkpoint(\"CP1.mt\", overwrite=True)\n",
        "mt.show()"
      ]
    },
    {
      "cell_type": "code",
      "execution_count": 2,
      "id": "46ce8c94-3a32-4c72-8005-b705fd996e5d",
      "metadata": {
        "tags": []
      },
      "outputs": [],
      "source": [
        "mt = hl.read_matrix_table(\"CP1.mt\")\n",
        "mt = mt.add_col_index(\"idx\")\n",
        "mt = mt.key_cols_by(\"s\", \"idx\")\n",
        "# hl.export_vcf(mt.rows().naive_coalesce(1), \"Filtered.vcf\")"
      ]
    },
    {
      "cell_type": "code",
      "execution_count": 3,
      "id": "d3ea5990-3584-4e8c-8ab9-0a2d94b269bb",
      "metadata": {
        "tags": []
      },
      "outputs": [
        {
          "name": "stdout",
          "output_type": "stream",
          "text": [
            "----------------------------------------\n",
            "Global fields:\n",
            "    None\n",
            "----------------------------------------\n",
            "Column fields:\n",
            "    's': str\n",
            "    'idx': int64\n",
            "----------------------------------------\n",
            "Row fields:\n",
            "    'locus': locus<GRCh38>\n",
            "    'alleles': array<str>\n",
            "    'rsid': str\n",
            "    'qual': float64\n",
            "    'filters': set<str>\n",
            "    'info': struct {\n",
            "        AF: array<float64>, \n",
            "        AQ: array<int32>, \n",
            "        AC: array<int32>, \n",
            "        AN: int32\n",
            "    }\n",
            "    'a_index': int32\n",
            "    'was_split': bool\n",
            "----------------------------------------\n",
            "Entry fields:\n",
            "    'GT': call\n",
            "    'RNC': array<str>\n",
            "    'DP': int32\n",
            "    'AD': array<int32>\n",
            "    'GQ': int32\n",
            "    'PL': array<int32>\n",
            "----------------------------------------\n",
            "Column key: ['s', 'idx']\n",
            "Row key: ['locus', 'alleles']\n",
            "----------------------------------------\n"
          ]
        }
      ],
      "source": [
        "mt.describe()"
      ]
    },
    {
      "cell_type": "code",
      "execution_count": 9,
      "id": "0f716e06-ad0d-460b-88d2-8e73b70840bb",
      "metadata": {
        "tags": []
      },
      "outputs": [
        {
          "data": {
            "text/plain": [
              "{<FrozenList(frozen=True, ['-.'])>: 5,\n",
              " <FrozenList(frozen=True, ['..'])>: 185102255,\n",
              " <FrozenList(frozen=True, ['II'])>: 482555,\n",
              " <FrozenList(frozen=True, ['L.'])>: 10}"
            ]
          },
          "execution_count": 9,
          "metadata": {},
          "output_type": "execute_result"
        }
      ],
      "source": [
        "# mt.aggregate_entries(hl.agg.counter(mt.RNC))"
      ]
    },
    {
      "cell_type": "code",
      "execution_count": 19,
      "id": "a9edc42c-b33d-46f9-9589-ad03bb7db819",
      "metadata": {
        "tags": []
      },
      "outputs": [
        {
          "data": {
            "text/plain": [
              "(241, 469835)"
            ]
          },
          "execution_count": 19,
          "metadata": {},
          "output_type": "execute_result"
        }
      ],
      "source": [
        "mt.filter_rows(hl.agg.sum(mt.GT.is_non_ref()) > 1).count()"
      ]
    },
    {
      "cell_type": "code",
      "execution_count": 36,
      "id": "d3ee3869-5f77-4b77-aa64-2e3b30b46393",
      "metadata": {
        "tags": []
      },
      "outputs": [
        {
          "name": "stderr",
          "output_type": "stream",
          "text": [
            "2024-04-15 20:00:32.913 Hail: WARN: cols(): Resulting column table is sorted by 'col_key'.\n",
            "    To preserve matrix table column order, first unkey columns with 'key_cols_by()'\n",
            "2024-04-15 20:00:34.471 Hail: INFO: Coerced sorted dataset\n",
            "2024-04-15 20:00:35.137 Hail: INFO: merging 2 files totalling 6.6M...\n",
            "2024-04-15 20:00:35.186 Hail: INFO: while writing:\n",
            "    /tmp/cols.tsv\n",
            "  merge time: 48.402ms\n"
          ]
        }
      ],
      "source": [
        "mt.cols().naive_coalesce(1).export(\"/tmp/cols.tsv\")"
      ]
    },
    {
      "cell_type": "code",
      "execution_count": 4,
      "id": "623fbb35-1368-4ac6-9be0-3ee712a29f1b",
      "metadata": {
        "tags": []
      },
      "outputs": [
        {
          "name": "stderr",
          "output_type": "stream",
          "text": [
            "2024-04-15 20:03:20.825 Hail: WARN: entries(): Resulting entries table is sorted by '(row_key, col_key)'.\n",
            "    To preserve row-major matrix table order, first unkey columns with 'key_cols_by()'\n",
            "2024-04-15 20:06:09.345 Hail: INFO: merging 28 files totalling 1.1G...\n",
            "2024-04-15 20:06:12.099 Hail: INFO: while writing:\n",
            "    /tmp/Entries.tsv.bgz\n",
            "  merge time: 2.753s\n"
          ]
        }
      ],
      "source": [
        "mt.select_rows().key_cols_by(\"idx\").drop(\"s\").entries().export(\"/tmp/Entries.tsv.bgz\")"
      ]
    },
    {
      "cell_type": "code",
      "execution_count": 5,
      "id": "6f276f5b-081f-4419-b4da-1f5fce3de779",
      "metadata": {
        "tags": []
      },
      "outputs": [
        {
          "name": "stdout",
          "output_type": "stream",
          "text": [
            "SLF4J: Class path contains multiple SLF4J bindings.\n",
            "SLF4J: Found binding in [jar:file:/cluster/hadoop/share/hadoop/common/lib/slf4j-reload4j-1.7.36.jar!/org/slf4j/impl/StaticLoggerBinder.class]\n",
            "SLF4J: Found binding in [jar:file:/cluster/dnax/jars/dnanexus-api-0.1.0-SNAPSHOT-jar-with-dependencies.jar!/org/slf4j/impl/StaticLoggerBinder.class]\n",
            "SLF4J: See http://www.slf4j.org/codes.html#multiple_bindings for an explanation.\n",
            "SLF4J: Actual binding is of type [org.slf4j.impl.Reload4jLoggerFactory]\n",
            "2024-04-15 20:08:17,147 WARN metrics.MetricsReporter: Unable to initialize metrics scraping configurations from hive-site.xml. Message:InputStream cannot be null\n",
            "2024-04-15 20:08:17,261 WARN service.DNAxApiSvc: Using default configurations. Unable to find dnanexus.conf.location=null\n",
            "2024-04-15 20:08:17,261 INFO service.DNAxApiSvc: apiserver connection-pool config. MaxPoolSize=10, MaxPoolPerRoute=10,MaxWaitTimeout=60000\n",
            "2024-04-15 20:08:17,261 INFO service.DNAxApiSvc: initializing http connection manager pools\n",
            "2024-04-15 20:08:17,419 INFO service.DNAxApiSvc: Worker process - IdleConnectionMonitorThread disabled\n",
            "2024-04-15 20:08:17,419 INFO service.DNAxApiSvc: Worker process - IdleConnectionMonitorThread disabled\n",
            "2024-04-15 20:08:17,420 INFO service.DNAxApiSvc: initializing DNAxApiSvc\n",
            "2024-04-15 20:08:20,225 WARN service.DNAxApiSvc: Shutting down Runtime service for Connection Pools\n",
            "2024-04-15 20:08:20,225 INFO service.DNAxApiSvc: shutting down httpClientConnManager\n",
            "2024-04-15 20:08:20,225 INFO service.DNAxApiSvc: shutting down httpsClientConnManager\n"
          ]
        }
      ],
      "source": [
        "!hadoop fs -getmerge /tmp/Entries.tsv.bgz Entries.tsv.bgz"
      ]
    },
    {
      "cell_type": "code",
      "execution_count": 11,
      "id": "9a48f000-051b-4d6e-9414-e46b13df3a50",
      "metadata": {
        "tags": []
      },
      "outputs": [
        {
          "name": "stdout",
          "output_type": "stream",
          "text": [
            "^C\n"
          ]
        }
      ],
      "source": [
        "!cp '/mnt/project/Bulk/Exome sequences_Alternative exome processing/Exome variant call files (gnomAD) (VCFs)/helper_files/Broad_455k_exome_gnomAD_QC_summary.md' ."
      ]
    }
  ],
  "metadata": {
    "kernelspec": {
      "display_name": "Python 3 (ipykernel)",
      "language": "python",
      "name": "python3"
    },
    "language_info": {
      "codemirror_mode": {
        "name": "ipython",
        "version": 3
      },
      "file_extension": ".py",
      "mimetype": "text/x-python",
      "name": "python",
      "nbconvert_exporter": "python",
      "pygments_lexer": "ipython3",
      "version": "3.9.16"
    }
  },
  "nbformat": 4,
  "nbformat_minor": 5
}
