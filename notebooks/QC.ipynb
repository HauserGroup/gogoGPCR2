{
 "cells": [
  {
   "cell_type": "code",
   "execution_count": 1,
   "id": "5ff1a41b-3f35-4f4b-ac35-ca8785421b1f",
   "metadata": {
    "tags": []
   },
   "outputs": [],
   "source": [
    "import hail as hl\n",
    "from pathlib import Path\n",
    "from datetime import datetime\n",
    "import pyspark\n",
    "import dxpy\n",
    "import pandas as pd\n",
    "import subprocess\n",
    "import requests\n",
    "import os"
   ]
  },
  {
   "cell_type": "code",
   "execution_count": 2,
   "id": "557a6560-4e48-453a-8caa-c101c9bc1b3c",
   "metadata": {
    "tags": []
   },
   "outputs": [],
   "source": [
    "# Constants\n",
    "DATABASE = \"matrix_tables\"\n",
    "REFERENCE_GENOME = \"GRCh38\"\n",
    "PROJ_NAME = \"DRD2\"\n",
    "\n",
    "# RAP\n",
    "VCF_VERSION = \"v1\"\n",
    "FIELD_ID = 23157\n",
    "\n",
    "# Paths\n",
    "BULK_DIR = Path(\"/mnt/project/Bulk\")\n",
    "VCF_DIR = Path(\"Exome sequences/Population level exome OQFE variants, pVCF format - final release\")\n",
    "MISC_DIR = Path(\"/mnt/project/gogoGPCR2/\")\n",
    "\n",
    "# Remotes\n",
    "GENCODE_GTF = \"https://ftp.ebi.ac.uk/pub/databases/gencode/Gencode_human/release_29/gencode.v29.annotation.gtf.gz\"\n",
    "PVCF_BLOCKS = \"biobank.ndph.ox.ac.uk/ukb/ukb/auxdata/pvcf_blocks.txt\"\n",
    "INTERVAL_FILE = Path(\"Exome sequences/Exome OQFE CRAM files/helper_files/xgen_plus_spikein.GRCh38.bed\")\n",
    "\n",
    "# Genes\n",
    "GENES = [\"DRD2\", ]"
   ]
  },
  {
   "cell_type": "code",
   "execution_count": 3,
   "id": "8435e5b6-a1cf-4611-b0b2-253d687f4ce2",
   "metadata": {
    "tags": []
   },
   "outputs": [
    {
     "name": "stderr",
     "output_type": "stream",
     "text": [
      "SLF4J: Class path contains multiple SLF4J bindings.\n",
      "SLF4J: Found binding in [jar:file:/cluster/dnax/jars/dnanexus-api-0.1.0-SNAPSHOT-jar-with-dependencies.jar!/org/slf4j/impl/StaticLoggerBinder.class]\n",
      "SLF4J: Found binding in [jar:file:/cluster/spark/jars/log4j-slf4j-impl-2.17.2.jar!/org/slf4j/impl/StaticLoggerBinder.class]\n",
      "SLF4J: See http://www.slf4j.org/codes.html#multiple_bindings for an explanation.\n",
      "SLF4J: Actual binding is of type [org.slf4j.impl.Log4jLoggerFactory]\n",
      "Setting default log level to \"WARN\".\n",
      "To adjust logging level use sc.setLogLevel(newLevel). For SparkR, use setLogLevel(newLevel).\n"
     ]
    },
    {
     "name": "stdout",
     "output_type": "stream",
     "text": [
      "2023-09-13 11:51:55.200 WARN  NativeCodeLoader:60 - Unable to load native-hadoop library for your platform... using builtin-java classes where applicable\n",
      "2023-09-13 11:51:56.211 WARN  Utils:69 - Service 'org.apache.spark.network.netty.NettyBlockTransferService' could not bind on port 43000. Attempting port 43001.\n",
      "2023-09-13 11:51:56.450 WARN  MetricsReporter:84 - No metrics configured for reporting\n",
      "2023-09-13 11:51:56.452 WARN  LineProtoUsageReporter:48 - Telegraf configurations: url [metrics.push.telegraf.hostport], user [metrics.push.telegraf.user] or password [metrics.push.telegraf.password] missing.\n",
      "2023-09-13 11:51:56.452 WARN  MetricsReporter:117 - metrics.scraping.httpserver.port\n",
      "2023-09-13 11:52:00.789 WARN  ShellBasedUnixGroupsMapping:210 - unable to return groups for user yXZGx11fq6yj9Kf8Qb4Qpfq3Qpb2GzpB0vVQ9BF0__project-G7qz02QJj12zJb35569kyYk7\n",
      "PartialGroupNameException The user name 'yXZGx11fq6yj9Kf8Qb4Qpfq3Qpb2GzpB0vVQ9BF0__project-G7qz02QJj12zJb35569kyYk7' is not found. id: ‘yXZGx11fq6yj9Kf8Qb4Qpfq3Qpb2GzpB0vVQ9BF0__project-G7qz02QJj12zJb35569kyYk7’: no such user\n",
      "id: ‘yXZGx11fq6yj9Kf8Qb4Qpfq3Qpb2GzpB0vVQ9BF0__project-G7qz02QJj12zJb35569kyYk7’: no such user\n",
      "\n",
      "\tat org.apache.hadoop.security.ShellBasedUnixGroupsMapping.resolvePartialGroupNames(ShellBasedUnixGroupsMapping.java:294)\n",
      "\tat org.apache.hadoop.security.ShellBasedUnixGroupsMapping.getUnixGroups(ShellBasedUnixGroupsMapping.java:207)\n",
      "\tat org.apache.hadoop.security.ShellBasedUnixGroupsMapping.getGroups(ShellBasedUnixGroupsMapping.java:97)\n",
      "\tat org.apache.hadoop.security.JniBasedUnixGroupsMappingWithFallback.getGroups(JniBasedUnixGroupsMappingWithFallback.java:51)\n",
      "\tat org.apache.hadoop.security.Groups$GroupCacheLoader.fetchGroupList(Groups.java:387)\n",
      "\tat org.apache.hadoop.security.Groups$GroupCacheLoader.load(Groups.java:321)\n",
      "\tat org.apache.hadoop.security.Groups$GroupCacheLoader.load(Groups.java:270)\n",
      "\tat org.apache.hadoop.thirdparty.com.google.common.cache.LocalCache$LoadingValueReference.loadFuture(LocalCache.java:3529)\n",
      "\tat org.apache.hadoop.thirdparty.com.google.common.cache.LocalCache$Segment.loadSync(LocalCache.java:2278)\n",
      "\tat org.apache.hadoop.thirdparty.com.google.common.cache.LocalCache$Segment.lockedGetOrLoad(LocalCache.java:2155)\n",
      "\tat org.apache.hadoop.thirdparty.com.google.common.cache.LocalCache$Segment.get(LocalCache.java:2045)\n",
      "\tat org.apache.hadoop.thirdparty.com.google.common.cache.LocalCache.get(LocalCache.java:3962)\n",
      "\tat org.apache.hadoop.thirdparty.com.google.common.cache.LocalCache.getOrLoad(LocalCache.java:3985)\n",
      "\tat org.apache.hadoop.thirdparty.com.google.common.cache.LocalCache$LocalLoadingCache.get(LocalCache.java:4946)\n",
      "\tat org.apache.hadoop.security.Groups.getGroups(Groups.java:228)\n",
      "\tat org.apache.hadoop.security.UserGroupInformation.getGroups(UserGroupInformation.java:1734)\n",
      "\tat org.apache.hadoop.security.UserGroupInformation.getGroupNames(UserGroupInformation.java:1722)\n",
      "\tat org.apache.hadoop.hive.metastore.HiveMetaStoreClient.open(HiveMetaStoreClient.java:517)\n",
      "\tat org.apache.hadoop.hive.metastore.HiveMetaStoreClient.<init>(HiveMetaStoreClient.java:254)\n",
      "\tat org.apache.hadoop.hive.ql.metadata.SessionHiveMetaStoreClient.<init>(SessionHiveMetaStoreClient.java:70)\n",
      "\tat sun.reflect.NativeConstructorAccessorImpl.newInstance0(Native Method)\n",
      "\tat sun.reflect.NativeConstructorAccessorImpl.newInstance(NativeConstructorAccessorImpl.java:62)\n",
      "\tat sun.reflect.DelegatingConstructorAccessorImpl.newInstance(DelegatingConstructorAccessorImpl.java:45)\n",
      "\tat java.lang.reflect.Constructor.newInstance(Constructor.java:423)\n",
      "\tat org.apache.hadoop.hive.metastore.MetaStoreUtils.newInstance(MetaStoreUtils.java:1740)\n",
      "\tat org.apache.hadoop.hive.metastore.RetryingMetaStoreClient.<init>(RetryingMetaStoreClient.java:83)\n",
      "\tat org.apache.hadoop.hive.metastore.RetryingMetaStoreClient.getProxy(RetryingMetaStoreClient.java:133)\n",
      "\tat org.apache.hadoop.hive.metastore.RetryingMetaStoreClient.getProxy(RetryingMetaStoreClient.java:104)\n",
      "\tat org.apache.hadoop.hive.ql.metadata.Hive.createMetaStoreClient(Hive.java:3650)\n",
      "\tat org.apache.hadoop.hive.ql.metadata.Hive.getMetaStoreClient(Hive.java:3696)\n",
      "\tat org.apache.hadoop.hive.ql.metadata.Hive.lambda$getMSC$0(Hive.java:3770)\n",
      "\tat java.security.AccessController.doPrivileged(Native Method)\n",
      "\tat javax.security.auth.Subject.doAs(Subject.java:422)\n",
      "\tat org.apache.hadoop.security.UserGroupInformation.doAs(UserGroupInformation.java:1878)\n",
      "\tat org.apache.hadoop.hive.ql.metadata.Hive.getMSC(Hive.java:3768)\n",
      "\tat org.apache.hadoop.hive.ql.metadata.Hive.getMSC(Hive.java:3682)\n",
      "\tat org.apache.hadoop.hive.ql.metadata.Hive.getDatabase(Hive.java:1600)\n",
      "\tat org.apache.hadoop.hive.ql.metadata.Hive.databaseExists(Hive.java:1588)\n",
      "\tat org.apache.spark.sql.hive.client.HiveClientImpl.$anonfun$databaseExists$1(HiveClientImpl.scala:396)\n",
      "\tat scala.runtime.java8.JFunction0$mcZ$sp.apply(JFunction0$mcZ$sp.java:23)\n",
      "\tat org.apache.spark.sql.hive.client.HiveClientImpl.$anonfun$withHiveState$1(HiveClientImpl.scala:305)\n",
      "\tat org.apache.spark.sql.hive.client.HiveClientImpl.liftedTree1$1(HiveClientImpl.scala:236)\n",
      "\tat org.apache.spark.sql.hive.client.HiveClientImpl.retryLocked(HiveClientImpl.scala:235)\n",
      "\tat org.apache.spark.sql.hive.client.HiveClientImpl.withHiveState(HiveClientImpl.scala:285)\n",
      "\tat org.apache.spark.sql.hive.client.HiveClientImpl.databaseExists(HiveClientImpl.scala:396)\n",
      "\tat org.apache.spark.sql.hive.HiveExternalCatalog.$anonfun$databaseExists$1(HiveExternalCatalog.scala:224)\n",
      "\tat scala.runtime.java8.JFunction0$mcZ$sp.apply(JFunction0$mcZ$sp.java:23)\n",
      "\tat org.apache.spark.sql.hive.HiveExternalCatalog.withClient(HiveExternalCatalog.scala:102)\n",
      "\tat org.apache.spark.sql.hive.HiveExternalCatalog.databaseExists(HiveExternalCatalog.scala:224)\n",
      "\tat org.apache.spark.sql.internal.SharedState.externalCatalog$lzycompute(SharedState.scala:150)\n",
      "\tat org.apache.spark.sql.internal.SharedState.externalCatalog(SharedState.scala:140)\n",
      "\tat org.apache.spark.sql.internal.SharedState.globalTempViewManager$lzycompute(SharedState.scala:170)\n",
      "\tat org.apache.spark.sql.internal.SharedState.globalTempViewManager(SharedState.scala:168)\n",
      "\tat org.apache.spark.sql.hive.HiveSessionStateBuilder.$anonfun$catalog$2(HiveSessionStateBuilder.scala:61)\n",
      "\tat org.apache.spark.sql.catalyst.catalog.SessionCatalog.globalTempViewManager$lzycompute(SessionCatalog.scala:119)\n",
      "\tat org.apache.spark.sql.catalyst.catalog.SessionCatalog.globalTempViewManager(SessionCatalog.scala:119)\n",
      "\tat org.apache.spark.sql.catalyst.catalog.SessionCatalog.createDatabase(SessionCatalog.scala:244)\n",
      "\tat org.apache.spark.sql.execution.command.CreateDatabaseCommand.run(ddl.scala:83)\n",
      "\tat org.apache.spark.sql.execution.command.ExecutedCommandExec.sideEffectResult$lzycompute(commands.scala:75)\n",
      "\tat org.apache.spark.sql.execution.command.ExecutedCommandExec.sideEffectResult(commands.scala:73)\n",
      "\tat org.apache.spark.sql.execution.command.ExecutedCommandExec.executeCollect(commands.scala:84)\n",
      "\tat org.apache.spark.sql.execution.QueryExecution$$anonfun$eagerlyExecuteCommands$1.$anonfun$applyOrElse$1(QueryExecution.scala:97)\n",
      "\tat org.apache.spark.sql.execution.SQLExecution$.$anonfun$withNewExecutionId$5(SQLExecution.scala:103)\n",
      "\tat org.apache.spark.sql.execution.SQLExecution$.withSQLConfPropagated(SQLExecution.scala:163)\n",
      "\tat org.apache.spark.sql.execution.SQLExecution$.$anonfun$withNewExecutionId$1(SQLExecution.scala:90)\n",
      "\tat org.apache.spark.sql.SparkSession.withActive(SparkSession.scala:775)\n",
      "\tat org.apache.spark.sql.execution.SQLExecution$.withNewExecutionId(SQLExecution.scala:64)\n",
      "\tat org.apache.spark.sql.execution.QueryExecution$$anonfun$eagerlyExecuteCommands$1.applyOrElse(QueryExecution.scala:97)\n",
      "\tat org.apache.spark.sql.execution.QueryExecution$$anonfun$eagerlyExecuteCommands$1.applyOrElse(QueryExecution.scala:93)\n",
      "\tat org.apache.spark.sql.catalyst.trees.TreeNode.$anonfun$transformDownWithPruning$1(TreeNode.scala:481)\n",
      "\tat org.apache.spark.sql.catalyst.trees.CurrentOrigin$.withOrigin(TreeNode.scala:82)\n",
      "\tat org.apache.spark.sql.catalyst.trees.TreeNode.transformDownWithPruning(TreeNode.scala:481)\n",
      "\tat org.apache.spark.sql.catalyst.plans.logical.LogicalPlan.org$apache$spark$sql$catalyst$plans$logical$AnalysisHelper$$super$transformDownWithPruning(LogicalPlan.scala:30)\n",
      "\tat org.apache.spark.sql.catalyst.plans.logical.AnalysisHelper.transformDownWithPruning(AnalysisHelper.scala:267)\n",
      "\tat org.apache.spark.sql.catalyst.plans.logical.AnalysisHelper.transformDownWithPruning$(AnalysisHelper.scala:263)\n",
      "\tat org.apache.spark.sql.catalyst.plans.logical.LogicalPlan.transformDownWithPruning(LogicalPlan.scala:30)\n",
      "\tat org.apache.spark.sql.catalyst.plans.logical.LogicalPlan.transformDownWithPruning(LogicalPlan.scala:30)\n",
      "\tat org.apache.spark.sql.catalyst.trees.TreeNode.transformDown(TreeNode.scala:457)\n",
      "\tat org.apache.spark.sql.execution.QueryExecution.eagerlyExecuteCommands(QueryExecution.scala:93)\n",
      "\tat org.apache.spark.sql.execution.QueryExecution.commandExecuted$lzycompute(QueryExecution.scala:80)\n",
      "\tat org.apache.spark.sql.execution.QueryExecution.commandExecuted(QueryExecution.scala:78)\n",
      "\tat org.apache.spark.sql.Dataset.<init>(Dataset.scala:219)\n",
      "\tat org.apache.spark.sql.Dataset$.$anonfun$ofRows$2(Dataset.scala:99)\n",
      "\tat org.apache.spark.sql.SparkSession.withActive(SparkSession.scala:775)\n",
      "\tat org.apache.spark.sql.Dataset$.ofRows(Dataset.scala:96)\n",
      "\tat org.apache.spark.sql.SparkSession.$anonfun$sql$1(SparkSession.scala:618)\n",
      "\tat org.apache.spark.sql.SparkSession.withActive(SparkSession.scala:775)\n",
      "\tat org.apache.spark.sql.SparkSession.sql(SparkSession.scala:613)\n",
      "\tat sun.reflect.NativeMethodAccessorImpl.invoke0(Native Method)\n",
      "\tat sun.reflect.NativeMethodAccessorImpl.invoke(NativeMethodAccessorImpl.java:62)\n",
      "\tat sun.reflect.DelegatingMethodAccessorImpl.invoke(DelegatingMethodAccessorImpl.java:43)\n",
      "\tat java.lang.reflect.Method.invoke(Method.java:498)\n",
      "\tat py4j.reflection.MethodInvoker.invoke(MethodInvoker.java:244)\n",
      "\tat py4j.reflection.ReflectionEngine.invoke(ReflectionEngine.java:357)\n",
      "\tat py4j.Gateway.invoke(Gateway.java:282)\n",
      "\tat py4j.commands.AbstractCommand.invokeMethod(AbstractCommand.java:132)\n",
      "\tat py4j.commands.CallCommand.execute(CallCommand.java:79)\n",
      "\tat py4j.ClientServerConnection.waitForCommands(ClientServerConnection.java:182)\n",
      "\tat py4j.ClientServerConnection.run(ClientServerConnection.java:106)\n",
      "\tat java.lang.Thread.run(Thread.java:750)\n"
     ]
    },
    {
     "name": "stderr",
     "output_type": "stream",
     "text": [
      "pip-installed Hail requires additional configuration options in Spark referring\n",
      "  to the path to the Hail Python module directory HAIL_DIR,\n",
      "  e.g. /path/to/python/site-packages/hail:\n",
      "    spark.jars=HAIL_DIR/backend/hail-all-spark.jar\n",
      "    spark.driver.extraClassPath=HAIL_DIR/backend/hail-all-spark.jar\n",
      "    spark.executor.extraClassPath=./hail-all-spark.jar"
     ]
    },
    {
     "name": "stdout",
     "output_type": "stream",
     "text": [
      "log4j: Parsing for [root] with value=[INFO, logfile].\n",
      "log4j: Level token is [INFO].\n",
      "log4j: Category root set to INFO\n",
      "log4j: Parsing appender named \"logfile\".\n",
      "log4j: Parsing layout options for \"logfile\".\n",
      "log4j: Setting property [conversionPattern] to [%d{yyyy-MM-dd HH:mm:ss.SSS} %c{1}: %p: %m%n].\n",
      "log4j: End of parsing for \"logfile\".\n",
      "log4j: Setting property [append] to [false].\n",
      "log4j: Setting property [threshold] to [INFO].\n",
      "log4j: Setting property [file] to [/opt/notebooks/gogoGPCR2/hail_logs/DRD2_1151.log].\n",
      "log4j: setFile called: /opt/notebooks/gogoGPCR2/hail_logs/DRD2_1151.log, false\n",
      "log4j: setFile ended\n",
      "log4j: Parsed \"logfile\" options.\n",
      "log4j: Parsing for [Hail] with value=[INFO, HailSocketAppender].\n",
      "log4j: Level token is [INFO].\n",
      "log4j: Category Hail set to INFO\n",
      "log4j: Parsing appender named \"HailSocketAppender\".\n",
      "log4j: Parsed \"HailSocketAppender\" options.\n",
      "log4j: Handling log4j.additivity.Hail=[null]\n",
      "log4j: Finished configuring.\n"
     ]
    },
    {
     "name": "stderr",
     "output_type": "stream",
     "text": [
      "Running on Apache Spark version 3.2.3\n",
      "SparkUI available at http://ip-10-60-22-64.eu-west-2.compute.internal:8081\n",
      "Welcome to\n",
      "     __  __     <>__\n",
      "    / /_/ /__  __/ /\n",
      "   / __  / _ `/ / /\n",
      "  /_/ /_/\\_,_/_/_/   version 0.2.116-cd64e0876c94\n",
      "LOGGING: writing to /opt/notebooks/gogoGPCR2/hail_logs/DRD2_1151.log\n"
     ]
    }
   ],
   "source": [
    "Path(\"/tmp\").resolve().mkdir(parents=True, exist_ok=True)\n",
    "\n",
    "LOG_FILE = (\n",
    "    Path(\"../hail_logs\", f\"{PROJ_NAME}_{datetime.now().strftime('%H%M')}.log\")\n",
    "    .resolve()\n",
    "    .__str__()\n",
    ")\n",
    "\n",
    "# Spark init\n",
    "sc = pyspark.SparkContext()\n",
    "spark = pyspark.sql.SparkSession(sc)\n",
    "\n",
    "# Create database in DNAX\n",
    "spark.sql(f\"CREATE DATABASE IF NOT EXISTS {DATABASE} LOCATION 'dnax://'\")\n",
    "mt_database = dxpy.find_one_data_object(name=DATABASE)[\"id\"]\n",
    "\n",
    "\n",
    "# Hail init\n",
    "hl.init(sc=sc, default_reference=REFERENCE_GENOME, log=LOG_FILE)"
   ]
  },
  {
   "cell_type": "code",
   "execution_count": 4,
   "id": "b6c82f88-4a09-458d-8c67-39f7334908ff",
   "metadata": {
    "tags": []
   },
   "outputs": [],
   "source": [
    "# if not Path(\"../data/gencode.v29.annotation.gtf.bgz\").exists():\n",
    "#     response = requests.get(GENCODE_GTF)\n",
    "#     if response.status_code == 200:\n",
    "#         with open(Path(\"../data/gencode.v29.annotation.gtf.bgz\"), \"wb\") as file:\n",
    "#             file.write(response.content)\n",
    "            \n",
    "# # Resource https://biobank.ndph.ox.ac.uk/ukb/refer.cgi?id=837\n",
    "# if not Path(\"../data/pvcf_blocks.txt\").exists():\n",
    "#     response = requests.get(GENCODE_GTF)\n",
    "#     if response.status_code == 200:\n",
    "#         with open(Path(\"../data/pvcf_blocks.txt\"), \"wb\") as file:\n",
    "#             file.write(response.content)"
   ]
  },
  {
   "cell_type": "code",
   "execution_count": 5,
   "id": "aafa47df-a991-479f-ad52-7ff2648a79ba",
   "metadata": {
    "tags": []
   },
   "outputs": [
    {
     "name": "stderr",
     "output_type": "stream",
     "text": [
      "2023-09-13 11:52:11.799 Hail: INFO: Reading table without type imputation       \n",
      "  Loading field 'f0' as type str (not specified)\n",
      "  Loading field 'f1' as type str (not specified)\n",
      "  Loading field 'f2' as type str (not specified)\n",
      "  Loading field 'f3' as type int32 (user-supplied)\n",
      "  Loading field 'f4' as type int32 (user-supplied)\n",
      "  Loading field 'f5' as type float64 (user-supplied)\n",
      "  Loading field 'f6' as type str (not specified)\n",
      "  Loading field 'f7' as type int32 (user-supplied)\n",
      "  Loading field 'f8' as type str (not specified)\n",
      "2023-09-13 11:52:24.694 Hail: INFO: wrote table with 2742017 rows in 12 partitions to /tmp/PZ80Ps0Wt2vx7INxH6NKHI\n",
      "2023-09-13 11:52:28.991 Hail: INFO: Ordering unsorted dataset with network shuffle\n",
      "2023-09-13 11:52:33.078 Hail: INFO: get_gene_intervals found 1 entries:         \n",
      "gene: DRD2 (ENSG00000149295)\n"
     ]
    },
    {
     "data": {
      "text/plain": [
       "[Interval(start=Locus(contig=chr11, position=113409615, reference_genome=GRCh38), end=Locus(contig=chr11, position=113475691, reference_genome=GRCh38), includes_start=True, includes_end=True)]"
      ]
     },
     "execution_count": 5,
     "metadata": {},
     "output_type": "execute_result"
    }
   ],
   "source": [
    "# Get gene intervals\n",
    "gene_interval = hl.experimental.get_gene_intervals(gene_symbols=GENES, reference_genome='GRCh38', gtf_file = f\"file://{MISC_DIR / Path(GENCODE_GTF).with_suffix('.bgz').name}\")\n",
    "gene_interval"
   ]
  },
  {
   "cell_type": "code",
   "execution_count": 6,
   "id": "557040ec-d7dc-457a-8ef2-bb78ebf1d5e6",
   "metadata": {
    "tags": []
   },
   "outputs": [
    {
     "name": "stderr",
     "output_type": "stream",
     "text": [
      "2023-09-13 11:52:35.370 Hail: INFO: Reading table without type imputation       \n",
      "  Loading field 'f0' as type str (not specified)\n",
      "  Loading field 'f1' as type str (not specified)\n",
      "  Loading field 'f2' as type str (not specified)\n",
      "  Loading field 'f3' as type str (not specified)\n",
      "  Loading field 'f4' as type str (not specified)\n",
      "                                                                                \r"
     ]
    },
    {
     "data": {
      "text/html": [
       "<table><thead><tr><td style=\"white-space: nowrap; max-width: 500px; overflow: hidden; text-overflow: ellipsis; \" colspan=\"1\"><div style=\"text-align: left;\"></div></td><td style=\"white-space: nowrap; max-width: 500px; overflow: hidden; text-overflow: ellipsis; \" colspan=\"1\"><div style=\"text-align: left;\"></div></td><td style=\"white-space: nowrap; max-width: 500px; overflow: hidden; text-overflow: ellipsis; \" colspan=\"1\"><div style=\"text-align: left;\"></div></td><td style=\"white-space: nowrap; max-width: 500px; overflow: hidden; text-overflow: ellipsis; \" colspan=\"1\"><div style=\"text-align: left;\"></div></td><td style=\"white-space: nowrap; max-width: 500px; overflow: hidden; text-overflow: ellipsis; \" colspan=\"1\"><div style=\"text-align: left;\"></div></td><td style=\"white-space: nowrap; max-width: 500px; overflow: hidden; text-overflow: ellipsis; \" colspan=\"1\"><div style=\"text-align: left;\"></div></td><td style=\"white-space: nowrap; max-width: 500px; overflow: hidden; text-overflow: ellipsis; \" colspan=\"1\"><div style=\"text-align: left;\"></div></td></tr><tr><td style=\"white-space: nowrap; max-width: 500px; overflow: hidden; text-overflow: ellipsis; \" colspan=\"1\"><div style=\"text-align: left;border-bottom: solid 2px #000; padding-bottom: 5px\">f0</div></td><td style=\"white-space: nowrap; max-width: 500px; overflow: hidden; text-overflow: ellipsis; \" colspan=\"1\"><div style=\"text-align: left;border-bottom: solid 2px #000; padding-bottom: 5px\">f1</div></td><td style=\"white-space: nowrap; max-width: 500px; overflow: hidden; text-overflow: ellipsis; \" colspan=\"1\"><div style=\"text-align: left;border-bottom: solid 2px #000; padding-bottom: 5px\">f2</div></td><td style=\"white-space: nowrap; max-width: 500px; overflow: hidden; text-overflow: ellipsis; \" colspan=\"1\"><div style=\"text-align: left;border-bottom: solid 2px #000; padding-bottom: 5px\">f3</div></td><td style=\"white-space: nowrap; max-width: 500px; overflow: hidden; text-overflow: ellipsis; \" colspan=\"1\"><div style=\"text-align: left;border-bottom: solid 2px #000; padding-bottom: 5px\">f4</div></td><td style=\"white-space: nowrap; max-width: 500px; overflow: hidden; text-overflow: ellipsis; \" colspan=\"1\"><div style=\"text-align: left;border-bottom: solid 2px #000; padding-bottom: 5px\">region</div></td><td style=\"white-space: nowrap; max-width: 500px; overflow: hidden; text-overflow: ellipsis; \" colspan=\"1\"><div style=\"text-align: left;border-bottom: solid 2px #000; padding-bottom: 5px\">interval</div></td></tr><tr><td style=\"white-space: nowrap; max-width: 500px; overflow: hidden; text-overflow: ellipsis; text-align: left;\">str</td><td style=\"white-space: nowrap; max-width: 500px; overflow: hidden; text-overflow: ellipsis; text-align: left;\">str</td><td style=\"white-space: nowrap; max-width: 500px; overflow: hidden; text-overflow: ellipsis; text-align: left;\">str</td><td style=\"white-space: nowrap; max-width: 500px; overflow: hidden; text-overflow: ellipsis; text-align: left;\">str</td><td style=\"white-space: nowrap; max-width: 500px; overflow: hidden; text-overflow: ellipsis; text-align: left;\">str</td><td style=\"white-space: nowrap; max-width: 500px; overflow: hidden; text-overflow: ellipsis; text-align: left;\">str</td><td style=\"white-space: nowrap; max-width: 500px; overflow: hidden; text-overflow: ellipsis; text-align: left;\">interval&lt;locus&lt;GRCh38&gt;&gt;</td></tr>\n",
       "</thead><tbody><tr><td style=\"white-space: nowrap; max-width: 500px; overflow: hidden; text-overflow: ellipsis; \">&quot;1&quot;</td><td style=\"white-space: nowrap; max-width: 500px; overflow: hidden; text-overflow: ellipsis; \">&quot;1&quot;</td><td style=\"white-space: nowrap; max-width: 500px; overflow: hidden; text-overflow: ellipsis; \">&quot;0&quot;</td><td style=\"white-space: nowrap; max-width: 500px; overflow: hidden; text-overflow: ellipsis; \">&quot;1&quot;</td><td style=\"white-space: nowrap; max-width: 500px; overflow: hidden; text-overflow: ellipsis; \">&quot;1218130&quot;</td><td style=\"white-space: nowrap; max-width: 500px; overflow: hidden; text-overflow: ellipsis; \">&quot;chr1&quot;</td><td style=\"white-space: nowrap; max-width: 500px; overflow: hidden; text-overflow: ellipsis; \">[chr1:1-chr1:1218130)</td></tr>\n",
       "<tr><td style=\"white-space: nowrap; max-width: 500px; overflow: hidden; text-overflow: ellipsis; \">&quot;2&quot;</td><td style=\"white-space: nowrap; max-width: 500px; overflow: hidden; text-overflow: ellipsis; \">&quot;1&quot;</td><td style=\"white-space: nowrap; max-width: 500px; overflow: hidden; text-overflow: ellipsis; \">&quot;1&quot;</td><td style=\"white-space: nowrap; max-width: 500px; overflow: hidden; text-overflow: ellipsis; \">&quot;1218131&quot;</td><td style=\"white-space: nowrap; max-width: 500px; overflow: hidden; text-overflow: ellipsis; \">&quot;1426969&quot;</td><td style=\"white-space: nowrap; max-width: 500px; overflow: hidden; text-overflow: ellipsis; \">&quot;chr1&quot;</td><td style=\"white-space: nowrap; max-width: 500px; overflow: hidden; text-overflow: ellipsis; \">[chr1:1218131-chr1:1426969)</td></tr>\n",
       "<tr><td style=\"white-space: nowrap; max-width: 500px; overflow: hidden; text-overflow: ellipsis; \">&quot;3&quot;</td><td style=\"white-space: nowrap; max-width: 500px; overflow: hidden; text-overflow: ellipsis; \">&quot;1&quot;</td><td style=\"white-space: nowrap; max-width: 500px; overflow: hidden; text-overflow: ellipsis; \">&quot;2&quot;</td><td style=\"white-space: nowrap; max-width: 500px; overflow: hidden; text-overflow: ellipsis; \">&quot;1426970&quot;</td><td style=\"white-space: nowrap; max-width: 500px; overflow: hidden; text-overflow: ellipsis; \">&quot;1758871&quot;</td><td style=\"white-space: nowrap; max-width: 500px; overflow: hidden; text-overflow: ellipsis; \">&quot;chr1&quot;</td><td style=\"white-space: nowrap; max-width: 500px; overflow: hidden; text-overflow: ellipsis; \">[chr1:1426970-chr1:1758871)</td></tr>\n",
       "<tr><td style=\"white-space: nowrap; max-width: 500px; overflow: hidden; text-overflow: ellipsis; \">&quot;4&quot;</td><td style=\"white-space: nowrap; max-width: 500px; overflow: hidden; text-overflow: ellipsis; \">&quot;1&quot;</td><td style=\"white-space: nowrap; max-width: 500px; overflow: hidden; text-overflow: ellipsis; \">&quot;3&quot;</td><td style=\"white-space: nowrap; max-width: 500px; overflow: hidden; text-overflow: ellipsis; \">&quot;1758872&quot;</td><td style=\"white-space: nowrap; max-width: 500px; overflow: hidden; text-overflow: ellipsis; \">&quot;2514221&quot;</td><td style=\"white-space: nowrap; max-width: 500px; overflow: hidden; text-overflow: ellipsis; \">&quot;chr1&quot;</td><td style=\"white-space: nowrap; max-width: 500px; overflow: hidden; text-overflow: ellipsis; \">[chr1:1758872-chr1:2514221)</td></tr>\n",
       "<tr><td style=\"white-space: nowrap; max-width: 500px; overflow: hidden; text-overflow: ellipsis; \">&quot;5&quot;</td><td style=\"white-space: nowrap; max-width: 500px; overflow: hidden; text-overflow: ellipsis; \">&quot;1&quot;</td><td style=\"white-space: nowrap; max-width: 500px; overflow: hidden; text-overflow: ellipsis; \">&quot;4&quot;</td><td style=\"white-space: nowrap; max-width: 500px; overflow: hidden; text-overflow: ellipsis; \">&quot;2514222&quot;</td><td style=\"white-space: nowrap; max-width: 500px; overflow: hidden; text-overflow: ellipsis; \">&quot;3782130&quot;</td><td style=\"white-space: nowrap; max-width: 500px; overflow: hidden; text-overflow: ellipsis; \">&quot;chr1&quot;</td><td style=\"white-space: nowrap; max-width: 500px; overflow: hidden; text-overflow: ellipsis; \">[chr1:2514222-chr1:3782130)</td></tr>\n",
       "</tbody></table><p style=\"background: #fdd; padding: 0.4em;\">showing top 5 rows</p>\n"
      ],
      "text/plain": [
       "+-----+-----+-----+-----------+-----------+--------+\n",
       "| f0  | f1  | f2  | f3        | f4        | region |\n",
       "+-----+-----+-----+-----------+-----------+--------+\n",
       "| str | str | str | str       | str       | str    |\n",
       "+-----+-----+-----+-----------+-----------+--------+\n",
       "| \"1\" | \"1\" | \"0\" | \"1\"       | \"1218130\" | \"chr1\" |\n",
       "| \"2\" | \"1\" | \"1\" | \"1218131\" | \"1426969\" | \"chr1\" |\n",
       "| \"3\" | \"1\" | \"2\" | \"1426970\" | \"1758871\" | \"chr1\" |\n",
       "| \"4\" | \"1\" | \"3\" | \"1758872\" | \"2514221\" | \"chr1\" |\n",
       "| \"5\" | \"1\" | \"4\" | \"2514222\" | \"3782130\" | \"chr1\" |\n",
       "+-----+-----+-----+-----------+-----------+--------+\n",
       "\n",
       "+-----------------------------+\n",
       "| interval                    |\n",
       "+-----------------------------+\n",
       "| interval<locus<GRCh38>>     |\n",
       "+-----------------------------+\n",
       "| [chr1:1-chr1:1218130)       |\n",
       "| [chr1:1218131-chr1:1426969) |\n",
       "| [chr1:1426970-chr1:1758871) |\n",
       "| [chr1:1758872-chr1:2514221) |\n",
       "| [chr1:2514222-chr1:3782130) |\n",
       "+-----------------------------+\n",
       "showing top 5 rows"
      ]
     },
     "metadata": {},
     "output_type": "display_data"
    }
   ],
   "source": [
    "blocks = hl.import_table(f\"file://{MISC_DIR / Path(PVCF_BLOCKS).name}\" , no_header = True)\n",
    "blocks = blocks.annotate(f1 = blocks.f1.replace(\"23\", \"X\").replace(\"24\", \"Y\"))\n",
    "# blocks.show()\n",
    "blocks = blocks.annotate(region = hl.str(\"\").join([hl.str(\"chr\"), blocks.f1]))\n",
    "blocks = blocks.annotate(interval = hl.locus_interval(blocks.region, hl.int32(blocks.f3), hl.int32(blocks.f4), reference_genome='GRCh38')).key_by(\"interval\")\n",
    "blocks.show(5) "
   ]
  },
  {
   "cell_type": "code",
   "execution_count": 7,
   "id": "6104a7bd-d568-444a-b6f4-9c5cf8246d17",
   "metadata": {
    "tags": []
   },
   "outputs": [
    {
     "data": {
      "text/html": [
       "<table><thead><tr><td style=\"white-space: nowrap; max-width: 500px; overflow: hidden; text-overflow: ellipsis; \" colspan=\"1\"><div style=\"text-align: left;\"></div></td><td style=\"white-space: nowrap; max-width: 500px; overflow: hidden; text-overflow: ellipsis; \" colspan=\"1\"><div style=\"text-align: left;\"></div></td><td style=\"white-space: nowrap; max-width: 500px; overflow: hidden; text-overflow: ellipsis; \" colspan=\"1\"><div style=\"text-align: left;\"></div></td><td style=\"white-space: nowrap; max-width: 500px; overflow: hidden; text-overflow: ellipsis; \" colspan=\"1\"><div style=\"text-align: left;\"></div></td><td style=\"white-space: nowrap; max-width: 500px; overflow: hidden; text-overflow: ellipsis; \" colspan=\"1\"><div style=\"text-align: left;\"></div></td><td style=\"white-space: nowrap; max-width: 500px; overflow: hidden; text-overflow: ellipsis; \" colspan=\"1\"><div style=\"text-align: left;\"></div></td><td style=\"white-space: nowrap; max-width: 500px; overflow: hidden; text-overflow: ellipsis; \" colspan=\"1\"><div style=\"text-align: left;\"></div></td></tr><tr><td style=\"white-space: nowrap; max-width: 500px; overflow: hidden; text-overflow: ellipsis; \" colspan=\"1\"><div style=\"text-align: left;border-bottom: solid 2px #000; padding-bottom: 5px\">f0</div></td><td style=\"white-space: nowrap; max-width: 500px; overflow: hidden; text-overflow: ellipsis; \" colspan=\"1\"><div style=\"text-align: left;border-bottom: solid 2px #000; padding-bottom: 5px\">f1</div></td><td style=\"white-space: nowrap; max-width: 500px; overflow: hidden; text-overflow: ellipsis; \" colspan=\"1\"><div style=\"text-align: left;border-bottom: solid 2px #000; padding-bottom: 5px\">f2</div></td><td style=\"white-space: nowrap; max-width: 500px; overflow: hidden; text-overflow: ellipsis; \" colspan=\"1\"><div style=\"text-align: left;border-bottom: solid 2px #000; padding-bottom: 5px\">f3</div></td><td style=\"white-space: nowrap; max-width: 500px; overflow: hidden; text-overflow: ellipsis; \" colspan=\"1\"><div style=\"text-align: left;border-bottom: solid 2px #000; padding-bottom: 5px\">f4</div></td><td style=\"white-space: nowrap; max-width: 500px; overflow: hidden; text-overflow: ellipsis; \" colspan=\"1\"><div style=\"text-align: left;border-bottom: solid 2px #000; padding-bottom: 5px\">region</div></td><td style=\"white-space: nowrap; max-width: 500px; overflow: hidden; text-overflow: ellipsis; \" colspan=\"1\"><div style=\"text-align: left;border-bottom: solid 2px #000; padding-bottom: 5px\">interval</div></td></tr><tr><td style=\"white-space: nowrap; max-width: 500px; overflow: hidden; text-overflow: ellipsis; text-align: left;\">str</td><td style=\"white-space: nowrap; max-width: 500px; overflow: hidden; text-overflow: ellipsis; text-align: left;\">str</td><td style=\"white-space: nowrap; max-width: 500px; overflow: hidden; text-overflow: ellipsis; text-align: left;\">str</td><td style=\"white-space: nowrap; max-width: 500px; overflow: hidden; text-overflow: ellipsis; text-align: left;\">str</td><td style=\"white-space: nowrap; max-width: 500px; overflow: hidden; text-overflow: ellipsis; text-align: left;\">str</td><td style=\"white-space: nowrap; max-width: 500px; overflow: hidden; text-overflow: ellipsis; text-align: left;\">str</td><td style=\"white-space: nowrap; max-width: 500px; overflow: hidden; text-overflow: ellipsis; text-align: left;\">interval&lt;locus&lt;GRCh38&gt;&gt;</td></tr>\n",
       "</thead><tbody><tr><td style=\"white-space: nowrap; max-width: 500px; overflow: hidden; text-overflow: ellipsis; \">&quot;566&quot;</td><td style=\"white-space: nowrap; max-width: 500px; overflow: hidden; text-overflow: ellipsis; \">&quot;11&quot;</td><td style=\"white-space: nowrap; max-width: 500px; overflow: hidden; text-overflow: ellipsis; \">&quot;47&quot;</td><td style=\"white-space: nowrap; max-width: 500px; overflow: hidden; text-overflow: ellipsis; \">&quot;112186478&quot;</td><td style=\"white-space: nowrap; max-width: 500px; overflow: hidden; text-overflow: ellipsis; \">&quot;116126491&quot;</td><td style=\"white-space: nowrap; max-width: 500px; overflow: hidden; text-overflow: ellipsis; \">&quot;chr11&quot;</td><td style=\"white-space: nowrap; max-width: 500px; overflow: hidden; text-overflow: ellipsis; \">[chr11:112186478-chr11:116126491)</td></tr>\n",
       "</tbody></table>"
      ],
      "text/plain": [
       "+-------+------+------+-------------+-------------+---------+\n",
       "| f0    | f1   | f2   | f3          | f4          | region  |\n",
       "+-------+------+------+-------------+-------------+---------+\n",
       "| str   | str  | str  | str         | str         | str     |\n",
       "+-------+------+------+-------------+-------------+---------+\n",
       "| \"566\" | \"11\" | \"47\" | \"112186478\" | \"116126491\" | \"chr11\" |\n",
       "+-------+------+------+-------------+-------------+---------+\n",
       "\n",
       "+-----------------------------------+\n",
       "| interval                          |\n",
       "+-----------------------------------+\n",
       "| interval<locus<GRCh38>>           |\n",
       "+-----------------------------------+\n",
       "| [chr11:112186478-chr11:116126491) |\n",
       "+-----------------------------------+"
      ]
     },
     "metadata": {},
     "output_type": "display_data"
    }
   ],
   "source": [
    "gb = blocks.filter(hl.any(lambda inter: blocks.interval.overlaps(inter), gene_interval))\n",
    "\n",
    "gb.show()"
   ]
  },
  {
   "cell_type": "code",
   "execution_count": 8,
   "id": "c78589c9-8967-4cef-823d-5c1b62b49df6",
   "metadata": {
    "tags": []
   },
   "outputs": [
    {
     "name": "stderr",
     "output_type": "stream",
     "text": [
      "2023-09-13 11:52:39.878 Hail: INFO: Coerced sorted dataset\n",
      "2023-09-13 11:52:41.233 Hail: INFO: Coerced sorted dataset\n"
     ]
    }
   ],
   "source": [
    "vcf_files = [\n",
    "    f\"file://{BULK_DIR / VCF_DIR}/ukb{FIELD_ID}_c{chromosome.replace('chr', '')}_b{block}_{VCF_VERSION}.vcf.gz\"\n",
    "    for block, chromosome in zip(gb.f2.collect(), gb.region.collect())\n",
    "]\n",
    "\n",
    "# vcf_files = ['file:///mnt/project/Bulk/Exome sequences/Population level exome OQFE variants, pVCF format - final release/ukb23157_c11_b47_v1.vcf.gz',\n",
    "#              'file:///mnt/project/Bulk/Exome sequences/Population level exome OQFE variants, pVCF format - final release/ukb23157_c17_b53_v1.vcf.gz']\n",
    "\n",
    "mt = hl.import_vcf(\n",
    "    vcf_files,\n",
    "    drop_samples = False,\n",
    "    reference_genome=\"GRCh38\",\n",
    "    array_elements_required=False,\n",
    "    force_bgz = True,\n",
    "    # n_partitions = 1280,\n",
    "    # block_size = 1024,\n",
    ")"
   ]
  },
  {
   "cell_type": "code",
   "execution_count": 9,
   "id": "3515c7b8-9505-49ab-91c0-af8e2f8fadb5",
   "metadata": {
    "tags": []
   },
   "outputs": [],
   "source": [
    "# Only genes of interest\n",
    "mt = hl.filter_intervals(mt, gene_interval)\n"
   ]
  },
  {
   "cell_type": "code",
   "execution_count": 10,
   "id": "fff3ef96-fabe-44cd-84c7-3555b3567bd2",
   "metadata": {
    "tags": []
   },
   "outputs": [
    {
     "name": "stderr",
     "output_type": "stream",
     "text": [
      "2023-09-13 11:53:19.204 Hail: INFO: Reading table without type imputation       \n",
      "  Loading field 'f0' as type str (user-supplied)\n",
      "  Loading field 'f1' as type int32 (user-supplied)\n",
      "  Loading field 'f2' as type int32 (user-supplied)\n"
     ]
    }
   ],
   "source": [
    "# Only exome capture region\n",
    "\n",
    "interval_table = hl.import_bed(\n",
    "    f\"file://{BULK_DIR / INTERVAL_FILE}\",\n",
    "    reference_genome=\"GRCh38\",\n",
    ")\n",
    "\n",
    "mt = mt.filter_rows(hl.is_defined(interval_table[mt.locus]))"
   ]
  },
  {
   "cell_type": "code",
   "execution_count": 11,
   "id": "c3daabd4-8d61-4922-909b-f70de43314e8",
   "metadata": {
    "tags": []
   },
   "outputs": [
    {
     "name": "stderr",
     "output_type": "stream",
     "text": [
      "2023-09-13 11:53:27.936 Hail: INFO: Reading table without type imputation       \n",
      "  Loading field 'f0' as type str (not specified)\n"
     ]
    }
   ],
   "source": [
    "# Not with 90% DP<10\n",
    "\n",
    "PCT10DP_FILE = Path(\"Exome sequences/Population level exome OQFE variants, PLINK format - final release/helper_files/ukb23158_500k_OQFE.90pct10dp_qc_variants.txt\")\n",
    "\n",
    "pctdp = hl.import_table(f\"file://{BULK_DIR / PCT10DP_FILE}\", no_header = True)\n",
    "pctdp = pctdp.annotate(**hl.parse_variant(hl.str(\"\").join([hl.str(\"chr\"), pctdp.f0]), reference_genome = \"GRCh38\")).key_by(\"locus\", \"alleles\")\n",
    "# pctdp = hl.filter_intervals(pctdp, gene_interval)\n",
    "\n",
    "mt = mt.anti_join_rows(pctdp)"
   ]
  },
  {
   "cell_type": "code",
   "execution_count": 116,
   "id": "d8eb3520-bd99-46b0-ae71-067b08c792f7",
   "metadata": {
    "tags": []
   },
   "outputs": [],
   "source": [
    "stage = \"FIRST\"\n",
    "checkpoint_file = f\"/tmp/{PROJ_NAME}.{stage}.cp.mt\"\n",
    "\n",
    "mt = hl.read_matrix_table(checkpoint_file)\n",
    "# mt = mt.checkpoint(checkpoint_file, overwrite=True)"
   ]
  },
  {
   "cell_type": "code",
   "execution_count": 117,
   "id": "3861e8d9-6fb0-4394-9e04-38b7f85ea356",
   "metadata": {
    "tags": []
   },
   "outputs": [],
   "source": [
    "def smart_split_multi_mt(\n",
    "    mt: hl.matrixtable.MatrixTable, left_aligned=False\n",
    ") -> hl.matrixtable.MatrixTable:\n",
    "    \"\"\"Split multiple alleles into bi-allelic in a clever way\n",
    "    Parameters\n",
    "    ----------\n",
    "    mt : hl.matrixtable.MatrixTable\n",
    "        MT with non-bi-allelic sites\n",
    "    left_aligned : bool, optional\n",
    "        Assume that alleles are left-aligned for faster splitting, by default False\n",
    "    Returns\n",
    "    -------\n",
    "    hl.matrixtable.MatrixTable\n",
    "        MT with only bi-allelic sites\n",
    "    \"\"\"\n",
    "\n",
    "    mt = mt.key_rows_by(\"locus\", \"alleles\")\n",
    "\n",
    "    # Only split relevant alleles as suggested by Hail docs\n",
    "\n",
    "    bi = mt.filter_rows(hl.len(mt.alleles) == 2)\n",
    "    bi = bi.annotate_rows(a_index=1, was_split=False)\n",
    "    multi = mt.filter_rows(hl.len(mt.alleles) > 2)\n",
    "    split = hl.split_multi_hts(multi, left_aligned=left_aligned)\n",
    "    mt = split.union_rows(bi)\n",
    "\n",
    "    return mt\n",
    "\n",
    "mt = smart_split_multi_mt(mt)\n"
   ]
  },
  {
   "cell_type": "code",
   "execution_count": 119,
   "id": "78b9a83d-30d0-43fa-88a1-f62711000a5b",
   "metadata": {
    "tags": []
   },
   "outputs": [
    {
     "name": "stderr",
     "output_type": "stream",
     "text": [
      "2023-09-13 13:06:16.475 Hail: INFO: wrote table with 421 rows in 16 partitions to /tmp/persist_TableQG6sf4SfZG\n"
     ]
    }
   ],
   "source": [
    "VEP_JSON = \"/mnt/project/gogoGPCR2/vep-GRCh38.json\"\n",
    "\n",
    "mt = hl.vep(mt, \"file:\" + VEP_JSON)\n",
    "\n",
    "mt = mt.annotate_rows(**mt.vep)\n",
    "mt = mt.annotate_rows(**mt.transcript_consequences[0])\n",
    "mt = mt.annotate_rows(\n",
    "        protCons=mt.amino_acids.split(\"/\")[0]\n",
    "        + hl.str(mt.protein_end)\n",
    "        + mt.amino_acids.split(\"/\")[-1],\n",
    "        varid = hl.variant_str(mt.locus, mt.alleles)\n",
    "    )\n",
    "mt = mt.drop(\"vep\", \"transcript_consequences\", \"vep_proc_id\")"
   ]
  },
  {
   "cell_type": "code",
   "execution_count": 120,
   "id": "0a9130bd-a10c-4d48-a194-be3ece56dbea",
   "metadata": {
    "tags": []
   },
   "outputs": [
    {
     "name": "stderr",
     "output_type": "stream",
     "text": [
      "2023-09-13 13:06:54.419 Hail: INFO: wrote matrix table with 421 rows and 469835 columns in 16 partitions to /tmp/DRD2.SECOND.cp.mt\n"
     ]
    }
   ],
   "source": [
    "stage = \"SECOND\"\n",
    "checkpoint_file = f\"/tmp/{PROJ_NAME}.{stage}.cp.mt\"\n",
    "\n",
    "mt = mt.checkpoint(checkpoint_file, overwrite=True)\n",
    "# mt = hl.read_matrix_table(checkpoint_file)"
   ]
  },
  {
   "cell_type": "code",
   "execution_count": 121,
   "id": "6739ebd0-a676-4f15-be4e-9d15af117916",
   "metadata": {
    "tags": []
   },
   "outputs": [
    {
     "name": "stderr",
     "output_type": "stream",
     "text": [
      "2023-09-13 13:06:55.099 Hail: INFO: Reading table without type imputation\n",
      "  Loading field 'eid' as type str (not specified)\n"
     ]
    },
    {
     "data": {
      "text/plain": [
       "59423"
      ]
     },
     "execution_count": 121,
     "metadata": {},
     "output_type": "execute_result"
    }
   ],
   "source": [
    "SAMPLES_TO_REMOVE_FILE = \"/tmp/samples_to_remove.tsv\"\n",
    "samples_to_remove = hl.import_table(SAMPLES_TO_REMOVE_FILE).key_by(\"eid\")\n",
    "samples_to_remove.count()"
   ]
  },
  {
   "cell_type": "code",
   "execution_count": 122,
   "id": "dd29bae5-6c22-4e11-8fae-082c00bc25e4",
   "metadata": {
    "tags": []
   },
   "outputs": [],
   "source": [
    "mt = mt.anti_join_cols(samples_to_remove)"
   ]
  },
  {
   "cell_type": "code",
   "execution_count": 123,
   "id": "60705e29-64d8-4ca1-88af-96cdbc83d31b",
   "metadata": {
    "tags": []
   },
   "outputs": [],
   "source": [
    "mt = mt.annotate_entries(AB=(mt.AD[1] / hl.sum(mt.AD)))\n",
    "\n",
    "filter_condition_ab = (\n",
    "        (mt.GT.is_hom_ref() & (mt.AB <= 0.1))\n",
    "        | (mt.GT.is_het() & (mt.AB >= 0.25) & (mt.AB <= 0.75))\n",
    "        | (mt.GT.is_hom_var() & (mt.AB >= 0.9))\n",
    "    )\n",
    "\n",
    "mt = mt.filter_entries(filter_condition_ab)"
   ]
  },
  {
   "cell_type": "code",
   "execution_count": 124,
   "id": "37c22042-305d-4c4b-958c-f4b794a8ae53",
   "metadata": {
    "tags": []
   },
   "outputs": [],
   "source": [
    "mt = hl.variant_qc(mt)\n",
    "mt = mt.filter_rows(mt.variant_qc.gq_stats.mean >= 20)\n",
    "mt = mt.filter_rows(mt.variant_qc.dp_stats.mean >= 12)\n",
    "mt = mt.filter_rows(mt.variant_qc.call_rate >= 0.95)\n",
    "mt = mt.filter_rows(mt.variant_qc.n_non_ref > 0)"
   ]
  },
  {
   "cell_type": "code",
   "execution_count": 125,
   "id": "c022026f-4e03-405c-a8ba-c8cf23a0a1fe",
   "metadata": {
    "tags": []
   },
   "outputs": [
    {
     "name": "stderr",
     "output_type": "stream",
     "text": [
      "2023-09-13 13:07:15.835 Hail: INFO: wrote matrix table with 360 rows and 413290 columns in 16 partitions to /tmp/DRD2.THIRD.cp.mt\n"
     ]
    }
   ],
   "source": [
    "stage = \"THIRD\"\n",
    "checkpoint_file = f\"/tmp/{PROJ_NAME}.{stage}.cp.mt\"\n",
    "\n",
    "mt = mt.checkpoint(checkpoint_file, overwrite=True)\n",
    "# mt = hl.read_matrix_table(checkpoint_file)"
   ]
  },
  {
   "cell_type": "code",
   "execution_count": 127,
   "id": "21fbea6b-bf30-42b3-9586-a51f5caab6b2",
   "metadata": {
    "tags": []
   },
   "outputs": [
    {
     "data": {
      "text/html": [
       "<table><thead><tr><td style=\"white-space: nowrap; max-width: 500px; overflow: hidden; text-overflow: ellipsis; \" colspan=\"1\"><div style=\"text-align: left;\"></div></td><td style=\"white-space: nowrap; max-width: 500px; overflow: hidden; text-overflow: ellipsis; \" colspan=\"1\"><div style=\"text-align: left;\"></div></td><td style=\"white-space: nowrap; max-width: 500px; overflow: hidden; text-overflow: ellipsis; \" colspan=\"1\"><div style=\"text-align: left;\"></div></td><td style=\"white-space: nowrap; max-width: 500px; overflow: hidden; text-overflow: ellipsis; \" colspan=\"1\"><div style=\"text-align: left;\"></div></td><td style=\"white-space: nowrap; max-width: 500px; overflow: hidden; text-overflow: ellipsis; \" colspan=\"1\"><div style=\"text-align: left;\"></div></td><td style=\"white-space: nowrap; max-width: 500px; overflow: hidden; text-overflow: ellipsis; \" colspan=\"1\"><div style=\"text-align: left;\"></div></td><td style=\"white-space: nowrap; max-width: 500px; overflow: hidden; text-overflow: ellipsis; \" colspan=\"1\"><div style=\"text-align: left;\"></div></td><td style=\"white-space: nowrap; max-width: 500px; overflow: hidden; text-overflow: ellipsis; \" colspan=\"1\"><div style=\"text-align: left;\"></div></td><td style=\"white-space: nowrap; max-width: 500px; overflow: hidden; text-overflow: ellipsis; \" colspan=\"1\"><div style=\"text-align: left;\"></div></td><td style=\"white-space: nowrap; max-width: 500px; overflow: hidden; text-overflow: ellipsis; \" colspan=\"1\"><div style=\"text-align: left;\"></div></td><td style=\"white-space: nowrap; max-width: 500px; overflow: hidden; text-overflow: ellipsis; \" colspan=\"1\"><div style=\"text-align: left;\"></div></td><td style=\"white-space: nowrap; max-width: 500px; overflow: hidden; text-overflow: ellipsis; \" colspan=\"1\"><div style=\"text-align: left;\"></div></td><td style=\"white-space: nowrap; max-width: 500px; overflow: hidden; text-overflow: ellipsis; \" colspan=\"1\"><div style=\"text-align: left;\"></div></td><td style=\"white-space: nowrap; max-width: 500px; overflow: hidden; text-overflow: ellipsis; \" colspan=\"1\"><div style=\"text-align: left;\"></div></td><td style=\"white-space: nowrap; max-width: 500px; overflow: hidden; text-overflow: ellipsis; \" colspan=\"1\"><div style=\"text-align: left;\"></div></td><td style=\"white-space: nowrap; max-width: 500px; overflow: hidden; text-overflow: ellipsis; \" colspan=\"1\"><div style=\"text-align: left;\"></div></td><td style=\"white-space: nowrap; max-width: 500px; overflow: hidden; text-overflow: ellipsis; \" colspan=\"1\"><div style=\"text-align: left;\"></div></td><td style=\"white-space: nowrap; max-width: 500px; overflow: hidden; text-overflow: ellipsis; \" colspan=\"1\"><div style=\"text-align: left;\"></div></td><td style=\"white-space: nowrap; max-width: 500px; overflow: hidden; text-overflow: ellipsis; \" colspan=\"1\"><div style=\"text-align: left;\"></div></td><td style=\"white-space: nowrap; max-width: 500px; overflow: hidden; text-overflow: ellipsis; \" colspan=\"1\"><div style=\"text-align: left;\"></div></td><td style=\"white-space: nowrap; max-width: 500px; overflow: hidden; text-overflow: ellipsis; \" colspan=\"1\"><div style=\"text-align: left;\"></div></td><td style=\"white-space: nowrap; max-width: 500px; overflow: hidden; text-overflow: ellipsis; \" colspan=\"1\"><div style=\"text-align: left;\"></div></td><td style=\"white-space: nowrap; max-width: 500px; overflow: hidden; text-overflow: ellipsis; \" colspan=\"1\"><div style=\"text-align: left;\"></div></td><td style=\"white-space: nowrap; max-width: 500px; overflow: hidden; text-overflow: ellipsis; \" colspan=\"1\"><div style=\"text-align: left;\"></div></td><td style=\"white-space: nowrap; max-width: 500px; overflow: hidden; text-overflow: ellipsis; \" colspan=\"1\"><div style=\"text-align: left;\"></div></td><td style=\"white-space: nowrap; max-width: 500px; overflow: hidden; text-overflow: ellipsis; \" colspan=\"1\"><div style=\"text-align: left;\"></div></td><td style=\"white-space: nowrap; max-width: 500px; overflow: hidden; text-overflow: ellipsis; \" colspan=\"1\"><div style=\"text-align: left;\"></div></td><td style=\"white-space: nowrap; max-width: 500px; overflow: hidden; text-overflow: ellipsis; \" colspan=\"1\"><div style=\"text-align: left;\"></div></td><td style=\"white-space: nowrap; max-width: 500px; overflow: hidden; text-overflow: ellipsis; \" colspan=\"1\"><div style=\"text-align: left;\"></div></td></tr><tr><td style=\"white-space: nowrap; max-width: 500px; overflow: hidden; text-overflow: ellipsis; \" colspan=\"1\"><div style=\"text-align: left;border-bottom: solid 2px #000; padding-bottom: 5px\">varid</div></td><td style=\"white-space: nowrap; max-width: 500px; overflow: hidden; text-overflow: ellipsis; \" colspan=\"1\"><div style=\"text-align: left;border-bottom: solid 2px #000; padding-bottom: 5px\">protCons</div></td><td style=\"white-space: nowrap; max-width: 500px; overflow: hidden; text-overflow: ellipsis; \" colspan=\"1\"><div style=\"text-align: left;border-bottom: solid 2px #000; padding-bottom: 5px\">most_severe_consequence</div></td><td style=\"white-space: nowrap; max-width: 500px; overflow: hidden; text-overflow: ellipsis; \" colspan=\"1\"><div style=\"text-align: left;border-bottom: solid 2px #000; padding-bottom: 5px\">protein_end</div></td><td style=\"white-space: nowrap; max-width: 500px; overflow: hidden; text-overflow: ellipsis; \" colspan=\"1\"><div style=\"text-align: left;border-bottom: solid 2px #000; padding-bottom: 5px\">protein_start</div></td><td style=\"white-space: nowrap; max-width: 500px; overflow: hidden; text-overflow: ellipsis; \" colspan=\"1\"><div style=\"text-align: left;border-bottom: solid 2px #000; padding-bottom: 5px\">amino_acids</div></td><td style=\"white-space: nowrap; max-width: 500px; overflow: hidden; text-overflow: ellipsis; \" colspan=\"1\"><div style=\"text-align: left;border-bottom: solid 2px #000; padding-bottom: 5px\">gene_id</div></td><td style=\"white-space: nowrap; max-width: 500px; overflow: hidden; text-overflow: ellipsis; \" colspan=\"1\"><div style=\"text-align: left;border-bottom: solid 2px #000; padding-bottom: 5px\">transcript_id</div></td><td style=\"white-space: nowrap; max-width: 500px; overflow: hidden; text-overflow: ellipsis; \" colspan=\"1\"><div style=\"text-align: left;border-bottom: solid 2px #000; padding-bottom: 5px\">dp_stats.mean</div></td><td style=\"white-space: nowrap; max-width: 500px; overflow: hidden; text-overflow: ellipsis; \" colspan=\"1\"><div style=\"text-align: left;border-bottom: solid 2px #000; padding-bottom: 5px\">dp_stats.stdev</div></td><td style=\"white-space: nowrap; max-width: 500px; overflow: hidden; text-overflow: ellipsis; \" colspan=\"1\"><div style=\"text-align: left;border-bottom: solid 2px #000; padding-bottom: 5px\">dp_stats.min</div></td><td style=\"white-space: nowrap; max-width: 500px; overflow: hidden; text-overflow: ellipsis; \" colspan=\"1\"><div style=\"text-align: left;border-bottom: solid 2px #000; padding-bottom: 5px\">dp_stats.max</div></td><td style=\"white-space: nowrap; max-width: 500px; overflow: hidden; text-overflow: ellipsis; \" colspan=\"1\"><div style=\"text-align: left;border-bottom: solid 2px #000; padding-bottom: 5px\">gq_stats.mean</div></td><td style=\"white-space: nowrap; max-width: 500px; overflow: hidden; text-overflow: ellipsis; \" colspan=\"1\"><div style=\"text-align: left;border-bottom: solid 2px #000; padding-bottom: 5px\">gq_stats.stdev</div></td><td style=\"white-space: nowrap; max-width: 500px; overflow: hidden; text-overflow: ellipsis; \" colspan=\"1\"><div style=\"text-align: left;border-bottom: solid 2px #000; padding-bottom: 5px\">gq_stats.min</div></td><td style=\"white-space: nowrap; max-width: 500px; overflow: hidden; text-overflow: ellipsis; \" colspan=\"1\"><div style=\"text-align: left;border-bottom: solid 2px #000; padding-bottom: 5px\">gq_stats.max</div></td><td style=\"white-space: nowrap; max-width: 500px; overflow: hidden; text-overflow: ellipsis; \" colspan=\"1\"><div style=\"text-align: left;border-bottom: solid 2px #000; padding-bottom: 5px\">AC</div></td><td style=\"white-space: nowrap; max-width: 500px; overflow: hidden; text-overflow: ellipsis; \" colspan=\"1\"><div style=\"text-align: left;border-bottom: solid 2px #000; padding-bottom: 5px\">AF</div></td><td style=\"white-space: nowrap; max-width: 500px; overflow: hidden; text-overflow: ellipsis; \" colspan=\"1\"><div style=\"text-align: left;border-bottom: solid 2px #000; padding-bottom: 5px\">AN</div></td><td style=\"white-space: nowrap; max-width: 500px; overflow: hidden; text-overflow: ellipsis; \" colspan=\"1\"><div style=\"text-align: left;border-bottom: solid 2px #000; padding-bottom: 5px\">homozygote_count</div></td><td style=\"white-space: nowrap; max-width: 500px; overflow: hidden; text-overflow: ellipsis; \" colspan=\"1\"><div style=\"text-align: left;border-bottom: solid 2px #000; padding-bottom: 5px\">call_rate</div></td><td style=\"white-space: nowrap; max-width: 500px; overflow: hidden; text-overflow: ellipsis; \" colspan=\"1\"><div style=\"text-align: left;border-bottom: solid 2px #000; padding-bottom: 5px\">n_called</div></td><td style=\"white-space: nowrap; max-width: 500px; overflow: hidden; text-overflow: ellipsis; \" colspan=\"1\"><div style=\"text-align: left;border-bottom: solid 2px #000; padding-bottom: 5px\">n_not_called</div></td><td style=\"white-space: nowrap; max-width: 500px; overflow: hidden; text-overflow: ellipsis; \" colspan=\"1\"><div style=\"text-align: left;border-bottom: solid 2px #000; padding-bottom: 5px\">n_filtered</div></td><td style=\"white-space: nowrap; max-width: 500px; overflow: hidden; text-overflow: ellipsis; \" colspan=\"1\"><div style=\"text-align: left;border-bottom: solid 2px #000; padding-bottom: 5px\">n_het</div></td><td style=\"white-space: nowrap; max-width: 500px; overflow: hidden; text-overflow: ellipsis; \" colspan=\"1\"><div style=\"text-align: left;border-bottom: solid 2px #000; padding-bottom: 5px\">n_non_ref</div></td><td style=\"white-space: nowrap; max-width: 500px; overflow: hidden; text-overflow: ellipsis; \" colspan=\"1\"><div style=\"text-align: left;border-bottom: solid 2px #000; padding-bottom: 5px\">het_freq_hwe</div></td><td style=\"white-space: nowrap; max-width: 500px; overflow: hidden; text-overflow: ellipsis; \" colspan=\"1\"><div style=\"text-align: left;border-bottom: solid 2px #000; padding-bottom: 5px\">p_value_hwe</div></td><td style=\"white-space: nowrap; max-width: 500px; overflow: hidden; text-overflow: ellipsis; \" colspan=\"1\"><div style=\"text-align: left;border-bottom: solid 2px #000; padding-bottom: 5px\">p_value_excess_het</div></td></tr><tr><td style=\"white-space: nowrap; max-width: 500px; overflow: hidden; text-overflow: ellipsis; text-align: left;\">str</td><td style=\"white-space: nowrap; max-width: 500px; overflow: hidden; text-overflow: ellipsis; text-align: left;\">str</td><td style=\"white-space: nowrap; max-width: 500px; overflow: hidden; text-overflow: ellipsis; text-align: left;\">str</td><td style=\"white-space: nowrap; max-width: 500px; overflow: hidden; text-overflow: ellipsis; text-align: left;\">int32</td><td style=\"white-space: nowrap; max-width: 500px; overflow: hidden; text-overflow: ellipsis; text-align: left;\">int32</td><td style=\"white-space: nowrap; max-width: 500px; overflow: hidden; text-overflow: ellipsis; text-align: left;\">str</td><td style=\"white-space: nowrap; max-width: 500px; overflow: hidden; text-overflow: ellipsis; text-align: left;\">str</td><td style=\"white-space: nowrap; max-width: 500px; overflow: hidden; text-overflow: ellipsis; text-align: left;\">str</td><td style=\"white-space: nowrap; max-width: 500px; overflow: hidden; text-overflow: ellipsis; text-align: left;\">float64</td><td style=\"white-space: nowrap; max-width: 500px; overflow: hidden; text-overflow: ellipsis; text-align: left;\">float64</td><td style=\"white-space: nowrap; max-width: 500px; overflow: hidden; text-overflow: ellipsis; text-align: left;\">float64</td><td style=\"white-space: nowrap; max-width: 500px; overflow: hidden; text-overflow: ellipsis; text-align: left;\">float64</td><td style=\"white-space: nowrap; max-width: 500px; overflow: hidden; text-overflow: ellipsis; text-align: left;\">float64</td><td style=\"white-space: nowrap; max-width: 500px; overflow: hidden; text-overflow: ellipsis; text-align: left;\">float64</td><td style=\"white-space: nowrap; max-width: 500px; overflow: hidden; text-overflow: ellipsis; text-align: left;\">float64</td><td style=\"white-space: nowrap; max-width: 500px; overflow: hidden; text-overflow: ellipsis; text-align: left;\">float64</td><td style=\"white-space: nowrap; max-width: 500px; overflow: hidden; text-overflow: ellipsis; text-align: left;\">int32</td><td style=\"white-space: nowrap; max-width: 500px; overflow: hidden; text-overflow: ellipsis; text-align: left;\">float64</td><td style=\"white-space: nowrap; max-width: 500px; overflow: hidden; text-overflow: ellipsis; text-align: left;\">int32</td><td style=\"white-space: nowrap; max-width: 500px; overflow: hidden; text-overflow: ellipsis; text-align: left;\">int32</td><td style=\"white-space: nowrap; max-width: 500px; overflow: hidden; text-overflow: ellipsis; text-align: left;\">float64</td><td style=\"white-space: nowrap; max-width: 500px; overflow: hidden; text-overflow: ellipsis; text-align: left;\">int64</td><td style=\"white-space: nowrap; max-width: 500px; overflow: hidden; text-overflow: ellipsis; text-align: left;\">int64</td><td style=\"white-space: nowrap; max-width: 500px; overflow: hidden; text-overflow: ellipsis; text-align: left;\">int64</td><td style=\"white-space: nowrap; max-width: 500px; overflow: hidden; text-overflow: ellipsis; text-align: left;\">int64</td><td style=\"white-space: nowrap; max-width: 500px; overflow: hidden; text-overflow: ellipsis; text-align: left;\">int64</td><td style=\"white-space: nowrap; max-width: 500px; overflow: hidden; text-overflow: ellipsis; text-align: left;\">float64</td><td style=\"white-space: nowrap; max-width: 500px; overflow: hidden; text-overflow: ellipsis; text-align: left;\">float64</td><td style=\"white-space: nowrap; max-width: 500px; overflow: hidden; text-overflow: ellipsis; text-align: left;\">float64</td></tr>\n",
       "</thead><tbody><tr><td style=\"white-space: nowrap; max-width: 500px; overflow: hidden; text-overflow: ellipsis; \">&quot;chr11:113410731:C:T&quot;</td><td style=\"white-space: nowrap; max-width: 500px; overflow: hidden; text-overflow: ellipsis; \">&quot;C443Y&quot;</td><td style=\"white-space: nowrap; max-width: 500px; overflow: hidden; text-overflow: ellipsis; \">&quot;missense_variant&quot;</td><td style=\"white-space: nowrap; max-width: 500px; overflow: hidden; text-overflow: ellipsis; \">443</td><td style=\"white-space: nowrap; max-width: 500px; overflow: hidden; text-overflow: ellipsis; \">443</td><td style=\"white-space: nowrap; max-width: 500px; overflow: hidden; text-overflow: ellipsis; \">&quot;C/Y&quot;</td><td style=\"white-space: nowrap; max-width: 500px; overflow: hidden; text-overflow: ellipsis; \">&quot;ENSG00000149295&quot;</td><td style=\"white-space: nowrap; max-width: 500px; overflow: hidden; text-overflow: ellipsis; \">&quot;ENST00000362072&quot;</td><td style=\"white-space: nowrap; max-width: 500px; overflow: hidden; text-overflow: ellipsis; \">1.88e+01</td><td style=\"white-space: nowrap; max-width: 500px; overflow: hidden; text-overflow: ellipsis; \">3.68e+00</td><td style=\"white-space: nowrap; max-width: 500px; overflow: hidden; text-overflow: ellipsis; \">1.20e+01</td><td style=\"white-space: nowrap; max-width: 500px; overflow: hidden; text-overflow: ellipsis; \">8.70e+01</td><td style=\"white-space: nowrap; max-width: 500px; overflow: hidden; text-overflow: ellipsis; \">4.91e+01</td><td style=\"white-space: nowrap; max-width: 500px; overflow: hidden; text-overflow: ellipsis; \">1.01e+00</td><td style=\"white-space: nowrap; max-width: 500px; overflow: hidden; text-overflow: ellipsis; \">3.00e+00</td><td style=\"white-space: nowrap; max-width: 500px; overflow: hidden; text-overflow: ellipsis; \">5.40e+01</td><td style=\"white-space: nowrap; max-width: 500px; overflow: hidden; text-overflow: ellipsis; \">1</td><td style=\"white-space: nowrap; max-width: 500px; overflow: hidden; text-overflow: ellipsis; \">1.21e-06</td><td style=\"white-space: nowrap; max-width: 500px; overflow: hidden; text-overflow: ellipsis; \">826578</td><td style=\"white-space: nowrap; max-width: 500px; overflow: hidden; text-overflow: ellipsis; \">0</td><td style=\"white-space: nowrap; max-width: 500px; overflow: hidden; text-overflow: ellipsis; \">1.00e+00</td><td style=\"white-space: nowrap; max-width: 500px; overflow: hidden; text-overflow: ellipsis; \">413289</td><td style=\"white-space: nowrap; max-width: 500px; overflow: hidden; text-overflow: ellipsis; \">0</td><td style=\"white-space: nowrap; max-width: 500px; overflow: hidden; text-overflow: ellipsis; \">1</td><td style=\"white-space: nowrap; max-width: 500px; overflow: hidden; text-overflow: ellipsis; \">1</td><td style=\"white-space: nowrap; max-width: 500px; overflow: hidden; text-overflow: ellipsis; \">1</td><td style=\"white-space: nowrap; max-width: 500px; overflow: hidden; text-overflow: ellipsis; \">2.42e-06</td><td style=\"white-space: nowrap; max-width: 500px; overflow: hidden; text-overflow: ellipsis; \">5.00e-01</td><td style=\"white-space: nowrap; max-width: 500px; overflow: hidden; text-overflow: ellipsis; \">5.00e-01</td></tr>\n",
       "<tr><td style=\"white-space: nowrap; max-width: 500px; overflow: hidden; text-overflow: ellipsis; \">&quot;chr11:113410735:G:A&quot;</td><td style=\"white-space: nowrap; max-width: 500px; overflow: hidden; text-overflow: ellipsis; \">&quot;H442Y&quot;</td><td style=\"white-space: nowrap; max-width: 500px; overflow: hidden; text-overflow: ellipsis; \">&quot;missense_variant&quot;</td><td style=\"white-space: nowrap; max-width: 500px; overflow: hidden; text-overflow: ellipsis; \">442</td><td style=\"white-space: nowrap; max-width: 500px; overflow: hidden; text-overflow: ellipsis; \">442</td><td style=\"white-space: nowrap; max-width: 500px; overflow: hidden; text-overflow: ellipsis; \">&quot;H/Y&quot;</td><td style=\"white-space: nowrap; max-width: 500px; overflow: hidden; text-overflow: ellipsis; \">&quot;ENSG00000149295&quot;</td><td style=\"white-space: nowrap; max-width: 500px; overflow: hidden; text-overflow: ellipsis; \">&quot;ENST00000362072&quot;</td><td style=\"white-space: nowrap; max-width: 500px; overflow: hidden; text-overflow: ellipsis; \">1.88e+01</td><td style=\"white-space: nowrap; max-width: 500px; overflow: hidden; text-overflow: ellipsis; \">3.69e+00</td><td style=\"white-space: nowrap; max-width: 500px; overflow: hidden; text-overflow: ellipsis; \">1.20e+01</td><td style=\"white-space: nowrap; max-width: 500px; overflow: hidden; text-overflow: ellipsis; \">8.70e+01</td><td style=\"white-space: nowrap; max-width: 500px; overflow: hidden; text-overflow: ellipsis; \">4.91e+01</td><td style=\"white-space: nowrap; max-width: 500px; overflow: hidden; text-overflow: ellipsis; \">1.01e+00</td><td style=\"white-space: nowrap; max-width: 500px; overflow: hidden; text-overflow: ellipsis; \">1.80e+01</td><td style=\"white-space: nowrap; max-width: 500px; overflow: hidden; text-overflow: ellipsis; \">5.40e+01</td><td style=\"white-space: nowrap; max-width: 500px; overflow: hidden; text-overflow: ellipsis; \">7</td><td style=\"white-space: nowrap; max-width: 500px; overflow: hidden; text-overflow: ellipsis; \">8.47e-06</td><td style=\"white-space: nowrap; max-width: 500px; overflow: hidden; text-overflow: ellipsis; \">826576</td><td style=\"white-space: nowrap; max-width: 500px; overflow: hidden; text-overflow: ellipsis; \">0</td><td style=\"white-space: nowrap; max-width: 500px; overflow: hidden; text-overflow: ellipsis; \">1.00e+00</td><td style=\"white-space: nowrap; max-width: 500px; overflow: hidden; text-overflow: ellipsis; \">413288</td><td style=\"white-space: nowrap; max-width: 500px; overflow: hidden; text-overflow: ellipsis; \">0</td><td style=\"white-space: nowrap; max-width: 500px; overflow: hidden; text-overflow: ellipsis; \">2</td><td style=\"white-space: nowrap; max-width: 500px; overflow: hidden; text-overflow: ellipsis; \">7</td><td style=\"white-space: nowrap; max-width: 500px; overflow: hidden; text-overflow: ellipsis; \">7</td><td style=\"white-space: nowrap; max-width: 500px; overflow: hidden; text-overflow: ellipsis; \">1.69e-05</td><td style=\"white-space: nowrap; max-width: 500px; overflow: hidden; text-overflow: ellipsis; \">5.00e-01</td><td style=\"white-space: nowrap; max-width: 500px; overflow: hidden; text-overflow: ellipsis; \">5.00e-01</td></tr>\n",
       "<tr><td style=\"white-space: nowrap; max-width: 500px; overflow: hidden; text-overflow: ellipsis; \">&quot;chr11:113410736:G:A&quot;</td><td style=\"white-space: nowrap; max-width: 500px; overflow: hidden; text-overflow: ellipsis; \">&quot;L441L&quot;</td><td style=\"white-space: nowrap; max-width: 500px; overflow: hidden; text-overflow: ellipsis; \">&quot;synonymous_variant&quot;</td><td style=\"white-space: nowrap; max-width: 500px; overflow: hidden; text-overflow: ellipsis; \">441</td><td style=\"white-space: nowrap; max-width: 500px; overflow: hidden; text-overflow: ellipsis; \">441</td><td style=\"white-space: nowrap; max-width: 500px; overflow: hidden; text-overflow: ellipsis; \">&quot;L&quot;</td><td style=\"white-space: nowrap; max-width: 500px; overflow: hidden; text-overflow: ellipsis; \">&quot;ENSG00000149295&quot;</td><td style=\"white-space: nowrap; max-width: 500px; overflow: hidden; text-overflow: ellipsis; \">&quot;ENST00000362072&quot;</td><td style=\"white-space: nowrap; max-width: 500px; overflow: hidden; text-overflow: ellipsis; \">1.88e+01</td><td style=\"white-space: nowrap; max-width: 500px; overflow: hidden; text-overflow: ellipsis; \">3.69e+00</td><td style=\"white-space: nowrap; max-width: 500px; overflow: hidden; text-overflow: ellipsis; \">1.20e+01</td><td style=\"white-space: nowrap; max-width: 500px; overflow: hidden; text-overflow: ellipsis; \">8.70e+01</td><td style=\"white-space: nowrap; max-width: 500px; overflow: hidden; text-overflow: ellipsis; \">8.43e+01</td><td style=\"white-space: nowrap; max-width: 500px; overflow: hidden; text-overflow: ellipsis; \">1.62e+01</td><td style=\"white-space: nowrap; max-width: 500px; overflow: hidden; text-overflow: ellipsis; \">0.00e+00</td><td style=\"white-space: nowrap; max-width: 500px; overflow: hidden; text-overflow: ellipsis; \">9.90e+01</td><td style=\"white-space: nowrap; max-width: 500px; overflow: hidden; text-overflow: ellipsis; \">16</td><td style=\"white-space: nowrap; max-width: 500px; overflow: hidden; text-overflow: ellipsis; \">1.94e-05</td><td style=\"white-space: nowrap; max-width: 500px; overflow: hidden; text-overflow: ellipsis; \">826578</td><td style=\"white-space: nowrap; max-width: 500px; overflow: hidden; text-overflow: ellipsis; \">0</td><td style=\"white-space: nowrap; max-width: 500px; overflow: hidden; text-overflow: ellipsis; \">1.00e+00</td><td style=\"white-space: nowrap; max-width: 500px; overflow: hidden; text-overflow: ellipsis; \">413289</td><td style=\"white-space: nowrap; max-width: 500px; overflow: hidden; text-overflow: ellipsis; \">0</td><td style=\"white-space: nowrap; max-width: 500px; overflow: hidden; text-overflow: ellipsis; \">1</td><td style=\"white-space: nowrap; max-width: 500px; overflow: hidden; text-overflow: ellipsis; \">16</td><td style=\"white-space: nowrap; max-width: 500px; overflow: hidden; text-overflow: ellipsis; \">16</td><td style=\"white-space: nowrap; max-width: 500px; overflow: hidden; text-overflow: ellipsis; \">3.87e-05</td><td style=\"white-space: nowrap; max-width: 500px; overflow: hidden; text-overflow: ellipsis; \">5.00e-01</td><td style=\"white-space: nowrap; max-width: 500px; overflow: hidden; text-overflow: ellipsis; \">5.00e-01</td></tr>\n",
       "<tr><td style=\"white-space: nowrap; max-width: 500px; overflow: hidden; text-overflow: ellipsis; \">&quot;chr11:113410736:G:T&quot;</td><td style=\"white-space: nowrap; max-width: 500px; overflow: hidden; text-overflow: ellipsis; \">&quot;L441L&quot;</td><td style=\"white-space: nowrap; max-width: 500px; overflow: hidden; text-overflow: ellipsis; \">&quot;synonymous_variant&quot;</td><td style=\"white-space: nowrap; max-width: 500px; overflow: hidden; text-overflow: ellipsis; \">441</td><td style=\"white-space: nowrap; max-width: 500px; overflow: hidden; text-overflow: ellipsis; \">441</td><td style=\"white-space: nowrap; max-width: 500px; overflow: hidden; text-overflow: ellipsis; \">&quot;L&quot;</td><td style=\"white-space: nowrap; max-width: 500px; overflow: hidden; text-overflow: ellipsis; \">&quot;ENSG00000149295&quot;</td><td style=\"white-space: nowrap; max-width: 500px; overflow: hidden; text-overflow: ellipsis; \">&quot;ENST00000362072&quot;</td><td style=\"white-space: nowrap; max-width: 500px; overflow: hidden; text-overflow: ellipsis; \">1.88e+01</td><td style=\"white-space: nowrap; max-width: 500px; overflow: hidden; text-overflow: ellipsis; \">3.69e+00</td><td style=\"white-space: nowrap; max-width: 500px; overflow: hidden; text-overflow: ellipsis; \">1.20e+01</td><td style=\"white-space: nowrap; max-width: 500px; overflow: hidden; text-overflow: ellipsis; \">8.70e+01</td><td style=\"white-space: nowrap; max-width: 500px; overflow: hidden; text-overflow: ellipsis; \">8.43e+01</td><td style=\"white-space: nowrap; max-width: 500px; overflow: hidden; text-overflow: ellipsis; \">1.62e+01</td><td style=\"white-space: nowrap; max-width: 500px; overflow: hidden; text-overflow: ellipsis; \">0.00e+00</td><td style=\"white-space: nowrap; max-width: 500px; overflow: hidden; text-overflow: ellipsis; \">9.90e+01</td><td style=\"white-space: nowrap; max-width: 500px; overflow: hidden; text-overflow: ellipsis; \">1</td><td style=\"white-space: nowrap; max-width: 500px; overflow: hidden; text-overflow: ellipsis; \">1.21e-06</td><td style=\"white-space: nowrap; max-width: 500px; overflow: hidden; text-overflow: ellipsis; \">826578</td><td style=\"white-space: nowrap; max-width: 500px; overflow: hidden; text-overflow: ellipsis; \">0</td><td style=\"white-space: nowrap; max-width: 500px; overflow: hidden; text-overflow: ellipsis; \">1.00e+00</td><td style=\"white-space: nowrap; max-width: 500px; overflow: hidden; text-overflow: ellipsis; \">413289</td><td style=\"white-space: nowrap; max-width: 500px; overflow: hidden; text-overflow: ellipsis; \">0</td><td style=\"white-space: nowrap; max-width: 500px; overflow: hidden; text-overflow: ellipsis; \">1</td><td style=\"white-space: nowrap; max-width: 500px; overflow: hidden; text-overflow: ellipsis; \">1</td><td style=\"white-space: nowrap; max-width: 500px; overflow: hidden; text-overflow: ellipsis; \">1</td><td style=\"white-space: nowrap; max-width: 500px; overflow: hidden; text-overflow: ellipsis; \">2.42e-06</td><td style=\"white-space: nowrap; max-width: 500px; overflow: hidden; text-overflow: ellipsis; \">5.00e-01</td><td style=\"white-space: nowrap; max-width: 500px; overflow: hidden; text-overflow: ellipsis; \">5.00e-01</td></tr>\n",
       "<tr><td style=\"white-space: nowrap; max-width: 500px; overflow: hidden; text-overflow: ellipsis; \">&quot;chr11:113410754:C:T&quot;</td><td style=\"white-space: nowrap; max-width: 500px; overflow: hidden; text-overflow: ellipsis; \">&quot;K435K&quot;</td><td style=\"white-space: nowrap; max-width: 500px; overflow: hidden; text-overflow: ellipsis; \">&quot;synonymous_variant&quot;</td><td style=\"white-space: nowrap; max-width: 500px; overflow: hidden; text-overflow: ellipsis; \">435</td><td style=\"white-space: nowrap; max-width: 500px; overflow: hidden; text-overflow: ellipsis; \">435</td><td style=\"white-space: nowrap; max-width: 500px; overflow: hidden; text-overflow: ellipsis; \">&quot;K&quot;</td><td style=\"white-space: nowrap; max-width: 500px; overflow: hidden; text-overflow: ellipsis; \">&quot;ENSG00000149295&quot;</td><td style=\"white-space: nowrap; max-width: 500px; overflow: hidden; text-overflow: ellipsis; \">&quot;ENST00000362072&quot;</td><td style=\"white-space: nowrap; max-width: 500px; overflow: hidden; text-overflow: ellipsis; \">1.88e+01</td><td style=\"white-space: nowrap; max-width: 500px; overflow: hidden; text-overflow: ellipsis; \">4.04e+00</td><td style=\"white-space: nowrap; max-width: 500px; overflow: hidden; text-overflow: ellipsis; \">1.50e+01</td><td style=\"white-space: nowrap; max-width: 500px; overflow: hidden; text-overflow: ellipsis; \">1.55e+02</td><td style=\"white-space: nowrap; max-width: 500px; overflow: hidden; text-overflow: ellipsis; \">4.91e+01</td><td style=\"white-space: nowrap; max-width: 500px; overflow: hidden; text-overflow: ellipsis; \">1.03e+00</td><td style=\"white-space: nowrap; max-width: 500px; overflow: hidden; text-overflow: ellipsis; \">1.90e+01</td><td style=\"white-space: nowrap; max-width: 500px; overflow: hidden; text-overflow: ellipsis; \">5.40e+01</td><td style=\"white-space: nowrap; max-width: 500px; overflow: hidden; text-overflow: ellipsis; \">262</td><td style=\"white-space: nowrap; max-width: 500px; overflow: hidden; text-overflow: ellipsis; \">3.17e-04</td><td style=\"white-space: nowrap; max-width: 500px; overflow: hidden; text-overflow: ellipsis; \">826578</td><td style=\"white-space: nowrap; max-width: 500px; overflow: hidden; text-overflow: ellipsis; \">2</td><td style=\"white-space: nowrap; max-width: 500px; overflow: hidden; text-overflow: ellipsis; \">1.00e+00</td><td style=\"white-space: nowrap; max-width: 500px; overflow: hidden; text-overflow: ellipsis; \">413289</td><td style=\"white-space: nowrap; max-width: 500px; overflow: hidden; text-overflow: ellipsis; \">0</td><td style=\"white-space: nowrap; max-width: 500px; overflow: hidden; text-overflow: ellipsis; \">1</td><td style=\"white-space: nowrap; max-width: 500px; overflow: hidden; text-overflow: ellipsis; \">258</td><td style=\"white-space: nowrap; max-width: 500px; overflow: hidden; text-overflow: ellipsis; \">260</td><td style=\"white-space: nowrap; max-width: 500px; overflow: hidden; text-overflow: ellipsis; \">6.34e-04</td><td style=\"white-space: nowrap; max-width: 500px; overflow: hidden; text-overflow: ellipsis; \">4.16e-04</td><td style=\"white-space: nowrap; max-width: 500px; overflow: hidden; text-overflow: ellipsis; \">1.00e+00</td></tr>\n",
       "</tbody></table><p style=\"background: #fdd; padding: 0.4em;\">showing top 5 rows</p>\n"
      ],
      "text/plain": [
       "+-----------------------+----------+-------------------------+-------------+\n",
       "| varid                 | protCons | most_severe_consequence | protein_end |\n",
       "+-----------------------+----------+-------------------------+-------------+\n",
       "| str                   | str      | str                     |       int32 |\n",
       "+-----------------------+----------+-------------------------+-------------+\n",
       "| \"chr11:113410731:C:T\" | \"C443Y\"  | \"missense_variant\"      |         443 |\n",
       "| \"chr11:113410735:G:A\" | \"H442Y\"  | \"missense_variant\"      |         442 |\n",
       "| \"chr11:113410736:G:A\" | \"L441L\"  | \"synonymous_variant\"    |         441 |\n",
       "| \"chr11:113410736:G:T\" | \"L441L\"  | \"synonymous_variant\"    |         441 |\n",
       "| \"chr11:113410754:C:T\" | \"K435K\"  | \"synonymous_variant\"    |         435 |\n",
       "+-----------------------+----------+-------------------------+-------------+\n",
       "\n",
       "+---------------+-------------+-------------------+-------------------+\n",
       "| protein_start | amino_acids | gene_id           | transcript_id     |\n",
       "+---------------+-------------+-------------------+-------------------+\n",
       "|         int32 | str         | str               | str               |\n",
       "+---------------+-------------+-------------------+-------------------+\n",
       "|           443 | \"C/Y\"       | \"ENSG00000149295\" | \"ENST00000362072\" |\n",
       "|           442 | \"H/Y\"       | \"ENSG00000149295\" | \"ENST00000362072\" |\n",
       "|           441 | \"L\"         | \"ENSG00000149295\" | \"ENST00000362072\" |\n",
       "|           441 | \"L\"         | \"ENSG00000149295\" | \"ENST00000362072\" |\n",
       "|           435 | \"K\"         | \"ENSG00000149295\" | \"ENST00000362072\" |\n",
       "+---------------+-------------+-------------------+-------------------+\n",
       "\n",
       "+---------------+----------------+--------------+--------------+---------------+\n",
       "| dp_stats.mean | dp_stats.stdev | dp_stats.min | dp_stats.max | gq_stats.mean |\n",
       "+---------------+----------------+--------------+--------------+---------------+\n",
       "|       float64 |        float64 |      float64 |      float64 |       float64 |\n",
       "+---------------+----------------+--------------+--------------+---------------+\n",
       "|      1.88e+01 |       3.68e+00 |     1.20e+01 |     8.70e+01 |      4.91e+01 |\n",
       "|      1.88e+01 |       3.69e+00 |     1.20e+01 |     8.70e+01 |      4.91e+01 |\n",
       "|      1.88e+01 |       3.69e+00 |     1.20e+01 |     8.70e+01 |      8.43e+01 |\n",
       "|      1.88e+01 |       3.69e+00 |     1.20e+01 |     8.70e+01 |      8.43e+01 |\n",
       "|      1.88e+01 |       4.04e+00 |     1.50e+01 |     1.55e+02 |      4.91e+01 |\n",
       "+---------------+----------------+--------------+--------------+---------------+\n",
       "\n",
       "+----------------+--------------+--------------+-------+----------+--------+\n",
       "| gq_stats.stdev | gq_stats.min | gq_stats.max |    AC |       AF |     AN |\n",
       "+----------------+--------------+--------------+-------+----------+--------+\n",
       "|        float64 |      float64 |      float64 | int32 |  float64 |  int32 |\n",
       "+----------------+--------------+--------------+-------+----------+--------+\n",
       "|       1.01e+00 |     3.00e+00 |     5.40e+01 |     1 | 1.21e-06 | 826578 |\n",
       "|       1.01e+00 |     1.80e+01 |     5.40e+01 |     7 | 8.47e-06 | 826576 |\n",
       "|       1.62e+01 |     0.00e+00 |     9.90e+01 |    16 | 1.94e-05 | 826578 |\n",
       "|       1.62e+01 |     0.00e+00 |     9.90e+01 |     1 | 1.21e-06 | 826578 |\n",
       "|       1.03e+00 |     1.90e+01 |     5.40e+01 |   262 | 3.17e-04 | 826578 |\n",
       "+----------------+--------------+--------------+-------+----------+--------+\n",
       "\n",
       "+------------------+-----------+----------+--------------+------------+-------+\n",
       "| homozygote_count | call_rate | n_called | n_not_called | n_filtered | n_het |\n",
       "+------------------+-----------+----------+--------------+------------+-------+\n",
       "|            int32 |   float64 |    int64 |        int64 |      int64 | int64 |\n",
       "+------------------+-----------+----------+--------------+------------+-------+\n",
       "|                0 |  1.00e+00 |   413289 |            0 |          1 |     1 |\n",
       "|                0 |  1.00e+00 |   413288 |            0 |          2 |     7 |\n",
       "|                0 |  1.00e+00 |   413289 |            0 |          1 |    16 |\n",
       "|                0 |  1.00e+00 |   413289 |            0 |          1 |     1 |\n",
       "|                2 |  1.00e+00 |   413289 |            0 |          1 |   258 |\n",
       "+------------------+-----------+----------+--------------+------------+-------+\n",
       "\n",
       "+-----------+--------------+-------------+--------------------+\n",
       "| n_non_ref | het_freq_hwe | p_value_hwe | p_value_excess_het |\n",
       "+-----------+--------------+-------------+--------------------+\n",
       "|     int64 |      float64 |     float64 |            float64 |\n",
       "+-----------+--------------+-------------+--------------------+\n",
       "|         1 |     2.42e-06 |    5.00e-01 |           5.00e-01 |\n",
       "|         7 |     1.69e-05 |    5.00e-01 |           5.00e-01 |\n",
       "|        16 |     3.87e-05 |    5.00e-01 |           5.00e-01 |\n",
       "|         1 |     2.42e-06 |    5.00e-01 |           5.00e-01 |\n",
       "|       260 |     6.34e-04 |    4.16e-04 |           1.00e+00 |\n",
       "+-----------+--------------+-------------+--------------------+\n",
       "showing top 5 rows"
      ]
     },
     "metadata": {},
     "output_type": "display_data"
    },
    {
     "name": "stderr",
     "output_type": "stream",
     "text": [
      "2023-09-13 13:07:34.189 Hail: INFO: merging 17 files totalling 90.6K...\n",
      "2023-09-13 13:07:34.214 Hail: INFO: while writing:\n",
      "    /tmp/variant_qc.tsv\n",
      "  merge time: 24.156ms\n"
     ]
    }
   ],
   "source": [
    "qt = mt.rows()\n",
    "\n",
    "qt = qt.select(qt.varid, qt.protCons, qt.most_severe_consequence, qt.protein_end, qt.protein_start, qt.amino_acids, qt.gene_id, qt.transcript_id, **qt.variant_qc.flatten())\n",
    "qt = qt.annotate(AC = qt.AC[1], AF = qt.AF[1], homozygote_count = qt.homozygote_count[1])\n",
    "qt = qt.key_by().drop(\"locus\", \"alleles\")\n",
    "\n",
    "qt.show(5)\n",
    "qt.export(\"/tmp/variant_qc.tsv\")"
   ]
  },
  {
   "cell_type": "code",
   "execution_count": 128,
   "id": "d436f105-68bd-4688-b517-ff18940b33e4",
   "metadata": {
    "tags": []
   },
   "outputs": [
    {
     "name": "stdout",
     "output_type": "stream",
     "text": [
      "SLF4J: Class path contains multiple SLF4J bindings.\n",
      "SLF4J: Found binding in [jar:file:/cluster/hadoop/share/hadoop/common/lib/slf4j-reload4j-1.7.36.jar!/org/slf4j/impl/StaticLoggerBinder.class]\n",
      "SLF4J: Found binding in [jar:file:/cluster/dnax/jars/dnanexus-api-0.1.0-SNAPSHOT-jar-with-dependencies.jar!/org/slf4j/impl/StaticLoggerBinder.class]\n",
      "SLF4J: See http://www.slf4j.org/codes.html#multiple_bindings for an explanation.\n",
      "SLF4J: Actual binding is of type [org.slf4j.impl.Reload4jLoggerFactory]\n",
      "2023-09-13 13:07:39,313 WARN metrics.MetricsReporter: Unable to initialize metrics scraping configurations from hive-site.xml. Message:InputStream cannot be null\n",
      "2023-09-13 13:07:39,432 WARN service.DNAxApiSvc: Using default configurations. Unable to find dnanexus.conf.location=null\n",
      "2023-09-13 13:07:39,432 INFO service.DNAxApiSvc: apiserver connection-pool config. MaxPoolSize=10, MaxPoolPerRoute=10,MaxWaitTimeout=60000\n",
      "2023-09-13 13:07:39,432 INFO service.DNAxApiSvc: initializing http connection manager pools\n",
      "2023-09-13 13:07:39,604 INFO service.DNAxApiSvc: Worker process - IdleConnectionMonitorThread disabled\n",
      "2023-09-13 13:07:39,604 INFO service.DNAxApiSvc: Worker process - IdleConnectionMonitorThread disabled\n",
      "2023-09-13 13:07:39,604 INFO service.DNAxApiSvc: initializing DNAxApiSvc\n",
      "2023-09-13 13:07:40,294 WARN service.DNAxApiSvc: Shutting down Runtime service for Connection Pools\n",
      "2023-09-13 13:07:40,294 INFO service.DNAxApiSvc: shutting down httpClientConnManager\n",
      "2023-09-13 13:07:40,295 INFO service.DNAxApiSvc: shutting down httpsClientConnManager\n"
     ]
    }
   ],
   "source": [
    "!hadoop fs -getmerge /tmp/variant_qc.tsv ,,/variant_qc.tsv"
   ]
  },
  {
   "cell_type": "code",
   "execution_count": 129,
   "id": "e04df5ea-0169-4363-beb1-a4d1bd355db5",
   "metadata": {
    "tags": []
   },
   "outputs": [
    {
     "name": "stderr",
     "output_type": "stream",
     "text": [
      "                                                                                \r"
     ]
    }
   ],
   "source": [
    "# BGEN\n",
    "BGEN_FILE = \"/tmp/DRD2\"\n",
    "GPs = hl.literal([[1.0, 0.0, 0.0], [0.0, 1.0, 0.0], [0.0, 0.0, 1.0]])\n",
    "\n",
    "mt = mt.annotate_entries(GP=GPs[mt.GT.n_alt_alleles()])\n",
    "\n",
    "hl.export_bgen(mt=mt, varid=mt.varid, rsid=mt.varid, gp=mt.GP, output=\"file:\" + BGEN_FILE)\n"
   ]
  },
  {
   "cell_type": "code",
   "execution_count": 132,
   "id": "b842bd3d-b5a9-4032-9a3f-476118a3fe2f",
   "metadata": {
    "tags": []
   },
   "outputs": [
    {
     "name": "stderr",
     "output_type": "stream",
     "text": [
      "2023-09-13 13:10:18.644 Hail: INFO: Coerced sorted dataset                      \n",
      "2023-09-13 13:10:23.892 Hail: INFO: merging 8 files totalling 14.6K...          \n",
      "2023-09-13 13:10:23.908 Hail: INFO: while writing:\n",
      "    file:/tmp/DRD2.annotations\n",
      "  merge time: 16.292ms\n"
     ]
    }
   ],
   "source": [
    "# .annotations file\n",
    "ANNOTATIONS_FILE = \"/tmp/DRD2.annotations\"\n",
    "\n",
    "annotations = (\n",
    "    mt.select_rows(\n",
    "        varid=mt.varid,\n",
    "        gene=mt.gene_id,\n",
    "        annotation=mt.protCons,\n",
    "    )\n",
    "    .rows()\n",
    "    .key_by(\"varid\")\n",
    "    .drop(\"locus\")\n",
    "    .drop(\"alleles\")\n",
    ")\n",
    "\n",
    "annotations.export(\"file:\" + ANNOTATIONS_FILE, header=False)"
   ]
  },
  {
   "cell_type": "code",
   "execution_count": 136,
   "id": "c662cf4c-ebe2-4a82-a111-55004675cea0",
   "metadata": {
    "tags": []
   },
   "outputs": [
    {
     "name": "stderr",
     "output_type": "stream",
     "text": [
      "                                                                                \r"
     ]
    }
   ],
   "source": [
    "# .setlist file\n",
    "SETLIST_FILE = \"/tmp/DRD2.setlist\"\n",
    "position = mt.aggregate_rows(hl.agg.min(mt.locus.position))\n",
    "names = mt.varid.collect()\n",
    "names_str = \",\".join(names)\n",
    "\n",
    "line = f\"{mt.gene_id.collect()[0]}\\t{mt.locus.contig.collect()[0]}\\t{position}\\t{names_str}\"\n",
    "\n",
    "with open(SETLIST_FILE, \"w\") as f:\n",
    "    f.write(line)\n"
   ]
  },
  {
   "cell_type": "code",
   "execution_count": null,
   "id": "f84c73f6-d94f-4fd2-a072-3305a0d4dab7",
   "metadata": {
    "tags": []
   },
   "outputs": [],
   "source": [
    "# Dx upload\n",
    "bgen_file = BGEN_FILE + \".bgen\"\n",
    "sample_file = BGEN_FILE + \".sample\"\n",
    "\n",
    "subprocess.run(\n",
    "    [\n",
    "        \"dx\",\n",
    "        \"upload\",\n",
    "        bgen_file,\n",
    "        sample_file,\n",
    "        ANNOTATIONS_FILE,\n",
    "        SETLIST_FILE,\n",
    "        \"--path\",\n",
    "        \"/Data/burden/\",\n",
    "    ],\n",
    "    check=True,\n",
    "    shell=False,\n",
    ")\n"
   ]
  },
  {
   "cell_type": "code",
   "execution_count": 139,
   "id": "4754128b-1647-433b-aebc-0e06eb71f971",
   "metadata": {
    "tags": []
   },
   "outputs": [
    {
     "data": {
      "text/plain": [
       "(360, 413290)"
      ]
     },
     "execution_count": 139,
     "metadata": {},
     "output_type": "execute_result"
    }
   ],
   "source": [
    "mt.count()"
   ]
  },
  {
   "cell_type": "code",
   "execution_count": null,
   "id": "d490d1d0-9896-4555-a6df-981f671781c3",
   "metadata": {},
   "outputs": [],
   "source": []
  }
 ],
 "metadata": {
  "kernelspec": {
   "display_name": "Python 3 (ipykernel)",
   "language": "python",
   "name": "python3"
  },
  "language_info": {
   "codemirror_mode": {
    "name": "ipython",
    "version": 3
   },
   "file_extension": ".py",
   "mimetype": "text/x-python",
   "name": "python",
   "nbconvert_exporter": "python",
   "pygments_lexer": "ipython3",
   "version": "3.9.16"
  }
 },
 "nbformat": 4,
 "nbformat_minor": 5
}
