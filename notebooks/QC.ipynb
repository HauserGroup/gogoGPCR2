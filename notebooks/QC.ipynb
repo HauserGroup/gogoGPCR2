{
 "cells": [
  {
   "cell_type": "code",
   "execution_count": 1,
   "id": "5ff1a41b-3f35-4f4b-ac35-ca8785421b1f",
   "metadata": {
    "tags": []
   },
   "outputs": [],
   "source": [
    "import hail as hl\n",
    "from pathlib import Path\n",
    "from datetime import datetime\n",
    "import pyspark\n",
    "import dxpy\n",
    "import pandas as pd\n",
    "import subprocess\n",
    "from matrixtables import import_mt\n",
    "import requests"
   ]
  },
  {
   "cell_type": "code",
   "execution_count": 2,
   "id": "557a6560-4e48-453a-8caa-c101c9bc1b3c",
   "metadata": {
    "tags": []
   },
   "outputs": [],
   "source": [
    "# Constants\n",
    "DATABASE = \"matrix_tables\"\n",
    "REFERENCE_GENOME = \"GRCh38\"\n",
    "PROJ_NAME = \"DRD2\"\n",
    "\n",
    "# RAP\n",
    "VCF_VERSION = \"v1\"\n",
    "FIELD_ID = 23157\n",
    "\n",
    "# Paths\n",
    "BULK_DIR = Path(\"/mnt/project/Bulk\")\n",
    "VCF_DIR = Path(\"Exome sequences/Population level exome OQFE variants, pVCF format - final release\")\n",
    "MISC_DIR = Path(\"/mnt/project/gogoGPCR2/\")\n",
    "\n",
    "# Remotes\n",
    "GENCODE_GTF = \"https://ftp.ebi.ac.uk/pub/databases/gencode/Gencode_human/release_29/gencode.v29.annotation.gtf.gz\"\n",
    "PVCF_BLOCKS = \"biobank.ndph.ox.ac.uk/ukb/ukb/auxdata/pvcf_blocks.txt\"\n",
    "INTERVAL_FILE = Path(\"Exome sequences/Exome OQFE CRAM files/helper_files/xgen_plus_spikein.GRCh38.bed\")\n",
    "\n",
    "# Genes\n",
    "GENES = [\"DRD2\", \"GCGR\"]"
   ]
  },
  {
   "cell_type": "code",
   "execution_count": null,
   "id": "ebb21c35-0f06-4b3b-92dc-2d8a7bce4872",
   "metadata": {},
   "outputs": [],
   "source": [
    "import os\n",
    "os.environ[\"DNAX_INSTANCE_COUNT\"]"
   ]
  },
  {
   "cell_type": "code",
   "execution_count": 3,
   "id": "8435e5b6-a1cf-4611-b0b2-253d687f4ce2",
   "metadata": {
    "tags": []
   },
   "outputs": [
    {
     "name": "stderr",
     "output_type": "stream",
     "text": [
      "SLF4J: Class path contains multiple SLF4J bindings.\n",
      "SLF4J: Found binding in [jar:file:/cluster/dnax/jars/dnanexus-api-0.1.0-SNAPSHOT-jar-with-dependencies.jar!/org/slf4j/impl/StaticLoggerBinder.class]\n",
      "SLF4J: Found binding in [jar:file:/cluster/spark/jars/log4j-slf4j-impl-2.17.2.jar!/org/slf4j/impl/StaticLoggerBinder.class]\n",
      "SLF4J: See http://www.slf4j.org/codes.html#multiple_bindings for an explanation.\n",
      "SLF4J: Actual binding is of type [org.slf4j.impl.Log4jLoggerFactory]\n",
      "Setting default log level to \"WARN\".\n",
      "To adjust logging level use sc.setLogLevel(newLevel). For SparkR, use setLogLevel(newLevel).\n"
     ]
    },
    {
     "name": "stdout",
     "output_type": "stream",
     "text": [
      "2023-09-06 09:54:34.264 WARN  NativeCodeLoader:60 - Unable to load native-hadoop library for your platform... using builtin-java classes where applicable\n",
      "2023-09-06 09:54:35.186 WARN  Utils:69 - Service 'org.apache.spark.network.netty.NettyBlockTransferService' could not bind on port 43000. Attempting port 43001.\n",
      "2023-09-06 09:54:35.416 WARN  MetricsReporter:84 - No metrics configured for reporting\n",
      "2023-09-06 09:54:35.418 WARN  LineProtoUsageReporter:48 - Telegraf configurations: url [metrics.push.telegraf.hostport], user [metrics.push.telegraf.user] or password [metrics.push.telegraf.password] missing.\n",
      "2023-09-06 09:54:35.418 WARN  MetricsReporter:117 - metrics.scraping.httpserver.port\n"
     ]
    },
    {
     "name": "stderr",
     "output_type": "stream",
     "text": [
      "pip-installed Hail requires additional configuration options in Spark referring\n",
      "  to the path to the Hail Python module directory HAIL_DIR,\n",
      "  e.g. /path/to/python/site-packages/hail:\n",
      "    spark.jars=HAIL_DIR/backend/hail-all-spark.jar\n",
      "    spark.driver.extraClassPath=HAIL_DIR/backend/hail-all-spark.jar\n",
      "    spark.executor.extraClassPath=./hail-all-spark.jar"
     ]
    },
    {
     "name": "stdout",
     "output_type": "stream",
     "text": [
      "log4j: Parsing for [root] with value=[INFO, logfile].\n",
      "log4j: Level token is [INFO].\n",
      "log4j: Category root set to INFO\n",
      "log4j: Parsing appender named \"logfile\".\n",
      "log4j: Parsing layout options for \"logfile\".\n",
      "log4j: Setting property [conversionPattern] to [%d{yyyy-MM-dd HH:mm:ss.SSS} %c{1}: %p: %m%n].\n",
      "log4j: End of parsing for \"logfile\".\n",
      "log4j: Setting property [append] to [false].\n",
      "log4j: Setting property [threshold] to [INFO].\n",
      "log4j: Setting property [file] to [/opt/notebooks/gogoGPCR2/hail_logs/DRD2_0954.log].\n",
      "log4j: setFile called: /opt/notebooks/gogoGPCR2/hail_logs/DRD2_0954.log, false\n",
      "log4j: setFile ended\n",
      "log4j: Parsed \"logfile\" options.\n",
      "log4j: Parsing for [Hail] with value=[INFO, HailSocketAppender].\n",
      "log4j: Level token is [INFO].\n",
      "log4j: Category Hail set to INFO\n",
      "log4j: Parsing appender named \"HailSocketAppender\".\n",
      "log4j: Parsed \"HailSocketAppender\" options.\n",
      "log4j: Handling log4j.additivity.Hail=[null]\n",
      "log4j: Finished configuring.\n"
     ]
    },
    {
     "name": "stderr",
     "output_type": "stream",
     "text": [
      "Running on Apache Spark version 3.2.3\n",
      "SparkUI available at http://ip-10-60-42-192.eu-west-2.compute.internal:8081\n",
      "Welcome to\n",
      "     __  __     <>__\n",
      "    / /_/ /__  __/ /\n",
      "   / __  / _ `/ / /\n",
      "  /_/ /_/\\_,_/_/_/   version 0.2.116-cd64e0876c94\n",
      "LOGGING: writing to /opt/notebooks/gogoGPCR2/hail_logs/DRD2_0954.log\n"
     ]
    }
   ],
   "source": [
    "Path(\"/tmp\").resolve().mkdir(parents=True, exist_ok=True)\n",
    "\n",
    "LOG_FILE = (\n",
    "    Path(\"../hail_logs\", f\"{PROJ_NAME}_{datetime.now().strftime('%H%M')}.log\")\n",
    "    .resolve()\n",
    "    .__str__()\n",
    ")\n",
    "\n",
    "# Spark init\n",
    "sc = pyspark.SparkContext()\n",
    "spark = pyspark.sql.SparkSession(sc)\n",
    "\n",
    "# Create database in DNAX\n",
    "spark.sql(f\"CREATE DATABASE IF NOT EXISTS {DATABASE} LOCATION 'dnax://'\")\n",
    "mt_database = dxpy.find_one_data_object(name=DATABASE)[\"id\"]\n",
    "\n",
    "\n",
    "# Hail init\n",
    "hl.init(sc=sc, default_reference=REFERENCE_GENOME, log=LOG_FILE, tmp_dir=f'dnax://{mt_database}/tmp/')"
   ]
  },
  {
   "cell_type": "code",
   "execution_count": 4,
   "id": "b6c82f88-4a09-458d-8c67-39f7334908ff",
   "metadata": {},
   "outputs": [],
   "source": [
    "# if not Path(\"../data/gencode.v29.annotation.gtf.bgz\").exists():\n",
    "#     response = requests.get(GENCODE_GTF)\n",
    "#     if response.status_code == 200:\n",
    "#         with open(Path(\"../data/gencode.v29.annotation.gtf.bgz\"), \"wb\") as file:\n",
    "#             file.write(response.content)\n",
    "            \n",
    "# # Resource https://biobank.ndph.ox.ac.uk/ukb/refer.cgi?id=837\n",
    "# if not Path(\"../data/pvcf_blocks.txt\").exists():\n",
    "#     response = requests.get(GENCODE_GTF)\n",
    "#     if response.status_code == 200:\n",
    "#         with open(Path(\"../data/pvcf_blocks.txt\"), \"wb\") as file:\n",
    "#             file.write(response.content)"
   ]
  },
  {
   "cell_type": "code",
   "execution_count": 5,
   "id": "78463193-fc1f-46f3-ba47-5018a6fc9f9c",
   "metadata": {
    "tags": []
   },
   "outputs": [],
   "source": [
    "# Read in metadata and region\n",
    "# Map genes to blocks and regions\n",
    "# The mapping file must contain the columns: HGNC, VCF_block, GRCh38_region, GRCh38_start, GRCh38_end. See GPCR_blocks.tsv for example\n",
    "# MAPPING_FILE = Path(\"../data/misc/GPCR_blocks.tsv\").resolve()\n",
    "# mapping = pd.read_csv(MAPPING_FILE, sep=\"\\t\").set_index(\"HGNC\", drop=False)\n",
    "# mapping.loc[GENES, :]"
   ]
  },
  {
   "cell_type": "code",
   "execution_count": 6,
   "id": "aafa47df-a991-479f-ad52-7ff2648a79ba",
   "metadata": {
    "tags": []
   },
   "outputs": [
    {
     "name": "stderr",
     "output_type": "stream",
     "text": [
      "2023-09-06 09:54:52.807 Hail: INFO: Reading table without type imputation       \n",
      "  Loading field 'f0' as type str (not specified)\n",
      "  Loading field 'f1' as type str (not specified)\n",
      "  Loading field 'f2' as type str (not specified)\n",
      "  Loading field 'f3' as type int32 (user-supplied)\n",
      "  Loading field 'f4' as type int32 (user-supplied)\n",
      "  Loading field 'f5' as type float64 (user-supplied)\n",
      "  Loading field 'f6' as type str (not specified)\n",
      "  Loading field 'f7' as type int32 (user-supplied)\n",
      "  Loading field 'f8' as type str (not specified)\n",
      "2023-09-06 09:55:07.865 Hail: INFO: wrote table with 2742017 rows in 12 partitions to /tmp/P3ULsUNhqsAzH1kTQ6z9WB\n",
      "2023-09-06 09:55:11.577 Hail: INFO: Ordering unsorted dataset with network shuffle\n",
      "2023-09-06 09:55:15.234 Hail: INFO: get_gene_intervals found 2 entries:         \n",
      "gene: DRD2 (ENSG00000149295)\n",
      "gene: GCGR (ENSG00000215644)\n"
     ]
    },
    {
     "data": {
      "text/plain": [
       "[Interval(start=Locus(contig=chr11, position=113409615, reference_genome=GRCh38), end=Locus(contig=chr11, position=113475691, reference_genome=GRCh38), includes_start=True, includes_end=True),\n",
       " Interval(start=Locus(contig=chr17, position=81804132, reference_genome=GRCh38), end=Locus(contig=chr17, position=81814013, reference_genome=GRCh38), includes_start=True, includes_end=True)]"
      ]
     },
     "execution_count": 6,
     "metadata": {},
     "output_type": "execute_result"
    }
   ],
   "source": [
    "# Get gene intervals\n",
    "gene_interval = hl.experimental.get_gene_intervals(gene_symbols=GENES, reference_genome='GRCh38', gtf_file = f\"file://{MISC_DIR / Path(GENCODE_GTF).with_suffix('.bgz').name}\")\n",
    "gene_interval"
   ]
  },
  {
   "cell_type": "code",
   "execution_count": 7,
   "id": "557040ec-d7dc-457a-8ef2-bb78ebf1d5e6",
   "metadata": {
    "tags": []
   },
   "outputs": [
    {
     "name": "stderr",
     "output_type": "stream",
     "text": [
      "2023-09-06 09:55:16.872 Hail: INFO: Reading table without type imputation       \n",
      "  Loading field 'f0' as type str (not specified)\n",
      "  Loading field 'f1' as type str (not specified)\n",
      "  Loading field 'f2' as type str (not specified)\n",
      "  Loading field 'f3' as type str (not specified)\n",
      "  Loading field 'f4' as type str (not specified)\n"
     ]
    },
    {
     "data": {
      "text/html": [
       "<table><thead><tr><td style=\"white-space: nowrap; max-width: 500px; overflow: hidden; text-overflow: ellipsis; \" colspan=\"1\"><div style=\"text-align: left;\"></div></td><td style=\"white-space: nowrap; max-width: 500px; overflow: hidden; text-overflow: ellipsis; \" colspan=\"1\"><div style=\"text-align: left;\"></div></td><td style=\"white-space: nowrap; max-width: 500px; overflow: hidden; text-overflow: ellipsis; \" colspan=\"1\"><div style=\"text-align: left;\"></div></td><td style=\"white-space: nowrap; max-width: 500px; overflow: hidden; text-overflow: ellipsis; \" colspan=\"1\"><div style=\"text-align: left;\"></div></td><td style=\"white-space: nowrap; max-width: 500px; overflow: hidden; text-overflow: ellipsis; \" colspan=\"1\"><div style=\"text-align: left;\"></div></td><td style=\"white-space: nowrap; max-width: 500px; overflow: hidden; text-overflow: ellipsis; \" colspan=\"1\"><div style=\"text-align: left;\"></div></td><td style=\"white-space: nowrap; max-width: 500px; overflow: hidden; text-overflow: ellipsis; \" colspan=\"1\"><div style=\"text-align: left;\"></div></td></tr><tr><td style=\"white-space: nowrap; max-width: 500px; overflow: hidden; text-overflow: ellipsis; \" colspan=\"1\"><div style=\"text-align: left;border-bottom: solid 2px #000; padding-bottom: 5px\">f0</div></td><td style=\"white-space: nowrap; max-width: 500px; overflow: hidden; text-overflow: ellipsis; \" colspan=\"1\"><div style=\"text-align: left;border-bottom: solid 2px #000; padding-bottom: 5px\">f1</div></td><td style=\"white-space: nowrap; max-width: 500px; overflow: hidden; text-overflow: ellipsis; \" colspan=\"1\"><div style=\"text-align: left;border-bottom: solid 2px #000; padding-bottom: 5px\">f2</div></td><td style=\"white-space: nowrap; max-width: 500px; overflow: hidden; text-overflow: ellipsis; \" colspan=\"1\"><div style=\"text-align: left;border-bottom: solid 2px #000; padding-bottom: 5px\">f3</div></td><td style=\"white-space: nowrap; max-width: 500px; overflow: hidden; text-overflow: ellipsis; \" colspan=\"1\"><div style=\"text-align: left;border-bottom: solid 2px #000; padding-bottom: 5px\">f4</div></td><td style=\"white-space: nowrap; max-width: 500px; overflow: hidden; text-overflow: ellipsis; \" colspan=\"1\"><div style=\"text-align: left;border-bottom: solid 2px #000; padding-bottom: 5px\">region</div></td><td style=\"white-space: nowrap; max-width: 500px; overflow: hidden; text-overflow: ellipsis; \" colspan=\"1\"><div style=\"text-align: left;border-bottom: solid 2px #000; padding-bottom: 5px\">interval</div></td></tr><tr><td style=\"white-space: nowrap; max-width: 500px; overflow: hidden; text-overflow: ellipsis; text-align: left;\">str</td><td style=\"white-space: nowrap; max-width: 500px; overflow: hidden; text-overflow: ellipsis; text-align: left;\">str</td><td style=\"white-space: nowrap; max-width: 500px; overflow: hidden; text-overflow: ellipsis; text-align: left;\">str</td><td style=\"white-space: nowrap; max-width: 500px; overflow: hidden; text-overflow: ellipsis; text-align: left;\">str</td><td style=\"white-space: nowrap; max-width: 500px; overflow: hidden; text-overflow: ellipsis; text-align: left;\">str</td><td style=\"white-space: nowrap; max-width: 500px; overflow: hidden; text-overflow: ellipsis; text-align: left;\">str</td><td style=\"white-space: nowrap; max-width: 500px; overflow: hidden; text-overflow: ellipsis; text-align: left;\">interval&lt;locus&lt;GRCh38&gt;&gt;</td></tr>\n",
       "</thead><tbody><tr><td style=\"white-space: nowrap; max-width: 500px; overflow: hidden; text-overflow: ellipsis; \">&quot;1&quot;</td><td style=\"white-space: nowrap; max-width: 500px; overflow: hidden; text-overflow: ellipsis; \">&quot;1&quot;</td><td style=\"white-space: nowrap; max-width: 500px; overflow: hidden; text-overflow: ellipsis; \">&quot;0&quot;</td><td style=\"white-space: nowrap; max-width: 500px; overflow: hidden; text-overflow: ellipsis; \">&quot;1&quot;</td><td style=\"white-space: nowrap; max-width: 500px; overflow: hidden; text-overflow: ellipsis; \">&quot;1218130&quot;</td><td style=\"white-space: nowrap; max-width: 500px; overflow: hidden; text-overflow: ellipsis; \">&quot;chr1&quot;</td><td style=\"white-space: nowrap; max-width: 500px; overflow: hidden; text-overflow: ellipsis; \">[chr1:1-chr1:1218130)</td></tr>\n",
       "<tr><td style=\"white-space: nowrap; max-width: 500px; overflow: hidden; text-overflow: ellipsis; \">&quot;2&quot;</td><td style=\"white-space: nowrap; max-width: 500px; overflow: hidden; text-overflow: ellipsis; \">&quot;1&quot;</td><td style=\"white-space: nowrap; max-width: 500px; overflow: hidden; text-overflow: ellipsis; \">&quot;1&quot;</td><td style=\"white-space: nowrap; max-width: 500px; overflow: hidden; text-overflow: ellipsis; \">&quot;1218131&quot;</td><td style=\"white-space: nowrap; max-width: 500px; overflow: hidden; text-overflow: ellipsis; \">&quot;1426969&quot;</td><td style=\"white-space: nowrap; max-width: 500px; overflow: hidden; text-overflow: ellipsis; \">&quot;chr1&quot;</td><td style=\"white-space: nowrap; max-width: 500px; overflow: hidden; text-overflow: ellipsis; \">[chr1:1218131-chr1:1426969)</td></tr>\n",
       "<tr><td style=\"white-space: nowrap; max-width: 500px; overflow: hidden; text-overflow: ellipsis; \">&quot;3&quot;</td><td style=\"white-space: nowrap; max-width: 500px; overflow: hidden; text-overflow: ellipsis; \">&quot;1&quot;</td><td style=\"white-space: nowrap; max-width: 500px; overflow: hidden; text-overflow: ellipsis; \">&quot;2&quot;</td><td style=\"white-space: nowrap; max-width: 500px; overflow: hidden; text-overflow: ellipsis; \">&quot;1426970&quot;</td><td style=\"white-space: nowrap; max-width: 500px; overflow: hidden; text-overflow: ellipsis; \">&quot;1758871&quot;</td><td style=\"white-space: nowrap; max-width: 500px; overflow: hidden; text-overflow: ellipsis; \">&quot;chr1&quot;</td><td style=\"white-space: nowrap; max-width: 500px; overflow: hidden; text-overflow: ellipsis; \">[chr1:1426970-chr1:1758871)</td></tr>\n",
       "<tr><td style=\"white-space: nowrap; max-width: 500px; overflow: hidden; text-overflow: ellipsis; \">&quot;4&quot;</td><td style=\"white-space: nowrap; max-width: 500px; overflow: hidden; text-overflow: ellipsis; \">&quot;1&quot;</td><td style=\"white-space: nowrap; max-width: 500px; overflow: hidden; text-overflow: ellipsis; \">&quot;3&quot;</td><td style=\"white-space: nowrap; max-width: 500px; overflow: hidden; text-overflow: ellipsis; \">&quot;1758872&quot;</td><td style=\"white-space: nowrap; max-width: 500px; overflow: hidden; text-overflow: ellipsis; \">&quot;2514221&quot;</td><td style=\"white-space: nowrap; max-width: 500px; overflow: hidden; text-overflow: ellipsis; \">&quot;chr1&quot;</td><td style=\"white-space: nowrap; max-width: 500px; overflow: hidden; text-overflow: ellipsis; \">[chr1:1758872-chr1:2514221)</td></tr>\n",
       "<tr><td style=\"white-space: nowrap; max-width: 500px; overflow: hidden; text-overflow: ellipsis; \">&quot;5&quot;</td><td style=\"white-space: nowrap; max-width: 500px; overflow: hidden; text-overflow: ellipsis; \">&quot;1&quot;</td><td style=\"white-space: nowrap; max-width: 500px; overflow: hidden; text-overflow: ellipsis; \">&quot;4&quot;</td><td style=\"white-space: nowrap; max-width: 500px; overflow: hidden; text-overflow: ellipsis; \">&quot;2514222&quot;</td><td style=\"white-space: nowrap; max-width: 500px; overflow: hidden; text-overflow: ellipsis; \">&quot;3782130&quot;</td><td style=\"white-space: nowrap; max-width: 500px; overflow: hidden; text-overflow: ellipsis; \">&quot;chr1&quot;</td><td style=\"white-space: nowrap; max-width: 500px; overflow: hidden; text-overflow: ellipsis; \">[chr1:2514222-chr1:3782130)</td></tr>\n",
       "</tbody></table><p style=\"background: #fdd; padding: 0.4em;\">showing top 5 rows</p>\n"
      ],
      "text/plain": [
       "+-----+-----+-----+-----------+-----------+--------+\n",
       "| f0  | f1  | f2  | f3        | f4        | region |\n",
       "+-----+-----+-----+-----------+-----------+--------+\n",
       "| str | str | str | str       | str       | str    |\n",
       "+-----+-----+-----+-----------+-----------+--------+\n",
       "| \"1\" | \"1\" | \"0\" | \"1\"       | \"1218130\" | \"chr1\" |\n",
       "| \"2\" | \"1\" | \"1\" | \"1218131\" | \"1426969\" | \"chr1\" |\n",
       "| \"3\" | \"1\" | \"2\" | \"1426970\" | \"1758871\" | \"chr1\" |\n",
       "| \"4\" | \"1\" | \"3\" | \"1758872\" | \"2514221\" | \"chr1\" |\n",
       "| \"5\" | \"1\" | \"4\" | \"2514222\" | \"3782130\" | \"chr1\" |\n",
       "+-----+-----+-----+-----------+-----------+--------+\n",
       "\n",
       "+-----------------------------+\n",
       "| interval                    |\n",
       "+-----------------------------+\n",
       "| interval<locus<GRCh38>>     |\n",
       "+-----------------------------+\n",
       "| [chr1:1-chr1:1218130)       |\n",
       "| [chr1:1218131-chr1:1426969) |\n",
       "| [chr1:1426970-chr1:1758871) |\n",
       "| [chr1:1758872-chr1:2514221) |\n",
       "| [chr1:2514222-chr1:3782130) |\n",
       "+-----------------------------+\n",
       "showing top 5 rows"
      ]
     },
     "metadata": {},
     "output_type": "display_data"
    }
   ],
   "source": [
    "blocks = hl.import_table(f\"file://{MISC_DIR / Path(PVCF_BLOCKS).name}\" , no_header = True)\n",
    "blocks = blocks.annotate(f1 = blocks.f1.replace(\"23\", \"X\").replace(\"24\", \"Y\"))\n",
    "# blocks.show()\n",
    "blocks = blocks.annotate(region = hl.str(\"\").join([hl.str(\"chr\"), blocks.f1]))\n",
    "blocks = blocks.annotate(interval = hl.locus_interval(blocks.region, hl.int32(blocks.f3), hl.int32(blocks.f4), reference_genome='GRCh38')).key_by(\"interval\")\n",
    "blocks.show(5) "
   ]
  },
  {
   "cell_type": "code",
   "execution_count": 8,
   "id": "6104a7bd-d568-444a-b6f4-9c5cf8246d17",
   "metadata": {
    "tags": []
   },
   "outputs": [
    {
     "name": "stderr",
     "output_type": "stream",
     "text": [
      "2023-09-06 09:55:19.158 Hail: INFO: Coerced sorted dataset\n",
      "2023-09-06 09:55:19.669 Hail: INFO: Coerced sorted dataset\n"
     ]
    },
    {
     "data": {
      "text/html": [
       "<table><thead><tr><td style=\"white-space: nowrap; max-width: 500px; overflow: hidden; text-overflow: ellipsis; \" colspan=\"1\"><div style=\"text-align: left;\"></div></td><td style=\"white-space: nowrap; max-width: 500px; overflow: hidden; text-overflow: ellipsis; \" colspan=\"1\"><div style=\"text-align: left;\"></div></td><td style=\"white-space: nowrap; max-width: 500px; overflow: hidden; text-overflow: ellipsis; \" colspan=\"1\"><div style=\"text-align: left;\"></div></td><td style=\"white-space: nowrap; max-width: 500px; overflow: hidden; text-overflow: ellipsis; \" colspan=\"1\"><div style=\"text-align: left;\"></div></td><td style=\"white-space: nowrap; max-width: 500px; overflow: hidden; text-overflow: ellipsis; \" colspan=\"1\"><div style=\"text-align: left;\"></div></td><td style=\"white-space: nowrap; max-width: 500px; overflow: hidden; text-overflow: ellipsis; \" colspan=\"1\"><div style=\"text-align: left;\"></div></td><td style=\"white-space: nowrap; max-width: 500px; overflow: hidden; text-overflow: ellipsis; \" colspan=\"1\"><div style=\"text-align: left;\"></div></td><td style=\"white-space: nowrap; max-width: 500px; overflow: hidden; text-overflow: ellipsis; \" colspan=\"1\"><div style=\"text-align: left;\"></div></td></tr><tr><td style=\"white-space: nowrap; max-width: 500px; overflow: hidden; text-overflow: ellipsis; \" colspan=\"1\"><div style=\"text-align: left;border-bottom: solid 2px #000; padding-bottom: 5px\">f0</div></td><td style=\"white-space: nowrap; max-width: 500px; overflow: hidden; text-overflow: ellipsis; \" colspan=\"1\"><div style=\"text-align: left;border-bottom: solid 2px #000; padding-bottom: 5px\">f1</div></td><td style=\"white-space: nowrap; max-width: 500px; overflow: hidden; text-overflow: ellipsis; \" colspan=\"1\"><div style=\"text-align: left;border-bottom: solid 2px #000; padding-bottom: 5px\">f2</div></td><td style=\"white-space: nowrap; max-width: 500px; overflow: hidden; text-overflow: ellipsis; \" colspan=\"1\"><div style=\"text-align: left;border-bottom: solid 2px #000; padding-bottom: 5px\">f3</div></td><td style=\"white-space: nowrap; max-width: 500px; overflow: hidden; text-overflow: ellipsis; \" colspan=\"1\"><div style=\"text-align: left;border-bottom: solid 2px #000; padding-bottom: 5px\">f4</div></td><td style=\"white-space: nowrap; max-width: 500px; overflow: hidden; text-overflow: ellipsis; \" colspan=\"1\"><div style=\"text-align: left;border-bottom: solid 2px #000; padding-bottom: 5px\">region</div></td><td style=\"white-space: nowrap; max-width: 500px; overflow: hidden; text-overflow: ellipsis; \" colspan=\"1\"><div style=\"text-align: left;border-bottom: solid 2px #000; padding-bottom: 5px\">interval</div></td><td style=\"white-space: nowrap; max-width: 500px; overflow: hidden; text-overflow: ellipsis; \" colspan=\"1\"><div style=\"text-align: left;border-bottom: solid 2px #000; padding-bottom: 5px\">gene</div></td></tr><tr><td style=\"white-space: nowrap; max-width: 500px; overflow: hidden; text-overflow: ellipsis; text-align: left;\">str</td><td style=\"white-space: nowrap; max-width: 500px; overflow: hidden; text-overflow: ellipsis; text-align: left;\">str</td><td style=\"white-space: nowrap; max-width: 500px; overflow: hidden; text-overflow: ellipsis; text-align: left;\">str</td><td style=\"white-space: nowrap; max-width: 500px; overflow: hidden; text-overflow: ellipsis; text-align: left;\">str</td><td style=\"white-space: nowrap; max-width: 500px; overflow: hidden; text-overflow: ellipsis; text-align: left;\">str</td><td style=\"white-space: nowrap; max-width: 500px; overflow: hidden; text-overflow: ellipsis; text-align: left;\">str</td><td style=\"white-space: nowrap; max-width: 500px; overflow: hidden; text-overflow: ellipsis; text-align: left;\">interval&lt;locus&lt;GRCh38&gt;&gt;</td><td style=\"white-space: nowrap; max-width: 500px; overflow: hidden; text-overflow: ellipsis; text-align: left;\">str</td></tr>\n",
       "</thead><tbody><tr><td style=\"white-space: nowrap; max-width: 500px; overflow: hidden; text-overflow: ellipsis; \">&quot;566&quot;</td><td style=\"white-space: nowrap; max-width: 500px; overflow: hidden; text-overflow: ellipsis; \">&quot;11&quot;</td><td style=\"white-space: nowrap; max-width: 500px; overflow: hidden; text-overflow: ellipsis; \">&quot;47&quot;</td><td style=\"white-space: nowrap; max-width: 500px; overflow: hidden; text-overflow: ellipsis; \">&quot;112186478&quot;</td><td style=\"white-space: nowrap; max-width: 500px; overflow: hidden; text-overflow: ellipsis; \">&quot;116126491&quot;</td><td style=\"white-space: nowrap; max-width: 500px; overflow: hidden; text-overflow: ellipsis; \">&quot;chr11&quot;</td><td style=\"white-space: nowrap; max-width: 500px; overflow: hidden; text-overflow: ellipsis; \">[chr11:112186478-chr11:116126491)</td><td style=\"white-space: nowrap; max-width: 500px; overflow: hidden; text-overflow: ellipsis; \">&quot;DRD2&quot;</td></tr>\n",
       "<tr><td style=\"white-space: nowrap; max-width: 500px; overflow: hidden; text-overflow: ellipsis; \">&quot;810&quot;</td><td style=\"white-space: nowrap; max-width: 500px; overflow: hidden; text-overflow: ellipsis; \">&quot;17&quot;</td><td style=\"white-space: nowrap; max-width: 500px; overflow: hidden; text-overflow: ellipsis; \">&quot;53&quot;</td><td style=\"white-space: nowrap; max-width: 500px; overflow: hidden; text-overflow: ellipsis; \">&quot;81251904&quot;</td><td style=\"white-space: nowrap; max-width: 500px; overflow: hidden; text-overflow: ellipsis; \">&quot;81915070&quot;</td><td style=\"white-space: nowrap; max-width: 500px; overflow: hidden; text-overflow: ellipsis; \">&quot;chr17&quot;</td><td style=\"white-space: nowrap; max-width: 500px; overflow: hidden; text-overflow: ellipsis; \">[chr17:81251904-chr17:81915070)</td><td style=\"white-space: nowrap; max-width: 500px; overflow: hidden; text-overflow: ellipsis; \">&quot;GCGR&quot;</td></tr>\n",
       "</tbody></table>"
      ],
      "text/plain": [
       "+-------+------+------+-------------+-------------+---------+\n",
       "| f0    | f1   | f2   | f3          | f4          | region  |\n",
       "+-------+------+------+-------------+-------------+---------+\n",
       "| str   | str  | str  | str         | str         | str     |\n",
       "+-------+------+------+-------------+-------------+---------+\n",
       "| \"566\" | \"11\" | \"47\" | \"112186478\" | \"116126491\" | \"chr11\" |\n",
       "| \"810\" | \"17\" | \"53\" | \"81251904\"  | \"81915070\"  | \"chr17\" |\n",
       "+-------+------+------+-------------+-------------+---------+\n",
       "\n",
       "+-----------------------------------+--------+\n",
       "| interval                          | gene   |\n",
       "+-----------------------------------+--------+\n",
       "| interval<locus<GRCh38>>           | str    |\n",
       "+-----------------------------------+--------+\n",
       "| [chr11:112186478-chr11:116126491) | \"DRD2\" |\n",
       "| [chr17:81251904-chr17:81915070)   | \"GCGR\" |\n",
       "+-----------------------------------+--------+"
      ]
     },
     "metadata": {},
     "output_type": "display_data"
    }
   ],
   "source": [
    "gene_blocks = [blocks.filter(blocks.interval.overlaps(inter)).annotate(gene = gene) for inter, gene in zip(gene_interval, GENES)]\n",
    "\n",
    "gb = hl.Table.union(*gene_blocks)\n",
    "\n",
    "gb.show()"
   ]
  },
  {
   "cell_type": "code",
   "execution_count": 9,
   "id": "c78589c9-8967-4cef-823d-5c1b62b49df6",
   "metadata": {
    "tags": []
   },
   "outputs": [
    {
     "name": "stderr",
     "output_type": "stream",
     "text": [
      "2023-09-06 09:55:21.944 Hail: INFO: Coerced sorted dataset\n",
      "2023-09-06 09:55:22.462 Hail: INFO: Coerced sorted dataset\n",
      "2023-09-06 09:55:23.794 Hail: INFO: Coerced sorted dataset\n",
      "2023-09-06 09:55:24.312 Hail: INFO: Coerced sorted dataset\n",
      "                                                                                \r"
     ]
    }
   ],
   "source": [
    "vcf_files = [\n",
    "    f\"file://{BULK_DIR / VCF_DIR}/ukb{FIELD_ID}_c{chromosome.replace('chr', '')}_b{block}_{VCF_VERSION}.vcf.gz\"\n",
    "    for block, chromosome in zip(gb.f2.collect(), gb.region.collect())\n",
    "]\n",
    "\n",
    "mt = hl.import_vcf(\n",
    "    vcf_files,\n",
    "    drop_samples = True,\n",
    "    reference_genome=\"GRCh38\",\n",
    "    array_elements_required=False,\n",
    "    force_bgz = True\n",
    ")"
   ]
  },
  {
   "cell_type": "code",
   "execution_count": 10,
   "id": "3515c7b8-9505-49ab-91c0-af8e2f8fadb5",
   "metadata": {
    "tags": []
   },
   "outputs": [],
   "source": [
    "# Only genes of interest\n",
    "mt = mt.filter_rows(hl.is_defined(gb[mt.locus]))"
   ]
  },
  {
   "cell_type": "code",
   "execution_count": 19,
   "id": "fff3ef96-fabe-44cd-84c7-3555b3567bd2",
   "metadata": {
    "tags": []
   },
   "outputs": [
    {
     "name": "stderr",
     "output_type": "stream",
     "text": [
      "2023-09-06 09:46:01.508 Hail: INFO: Reading table without type imputation       \n",
      "  Loading field 'f0' as type str (user-supplied)\n",
      "  Loading field 'f1' as type int32 (user-supplied)\n",
      "  Loading field 'f2' as type int32 (user-supplied)\n"
     ]
    }
   ],
   "source": [
    "# # Only exome capture region\n",
    "\n",
    "# interval_table = hl.import_bed(\n",
    "#     f\"file://{BULK_DIR / INTERVAL_FILE}\",\n",
    "#     reference_genome=\"GRCh38\",\n",
    "# )\n",
    "\n",
    "# mt = mt.filter_rows(hl.is_defined(interval_table[mt.locus]))"
   ]
  },
  {
   "cell_type": "code",
   "execution_count": null,
   "id": "d8eb3520-bd99-46b0-ae71-067b08c792f7",
   "metadata": {
    "tags": []
   },
   "outputs": [
    {
     "name": "stderr",
     "output_type": "stream",
     "text": [
      "2023-09-06 09:55:56.153 Hail: INFO: Coerced sorted dataset\n",
      "2023-09-06 09:55:56.646 Hail: INFO: Coerced sorted dataset\n",
      "2023-09-06 09:55:56.813 Hail: INFO: scanning VCF for sortedness...\n",
      "2023-09-06 10:00:05.879 Hail: INFO: Coerced sorted VCF - no additional import work to do\n",
      "2023-09-06 10:00:06.842 Hail: INFO: Coerced sorted dataset                      \n",
      "2023-09-06 10:00:07.783 Hail: INFO: wrote table with 380 rows in 2 partitions to /tmp/__iruid_12949-t6OREPqPiTLUOTjfKE68tb\n",
      "[Stage 26:==========================>                          (191 + 32) / 380]\r"
     ]
    }
   ],
   "source": [
    "stage = \"FIRST\"\n",
    "checkpoint_file = f\"/tmp/{PROJ_NAME}.{stage}.cp.mt\"\n",
    "\n",
    "mt = mt.checkpoint(checkpoint_file, overwrite=True)"
   ]
  },
  {
   "cell_type": "code",
   "execution_count": 10,
   "id": "a087e26d-a043-4fe8-a3b1-c00bca0159e5",
   "metadata": {
    "tags": []
   },
   "outputs": [
    {
     "name": "stderr",
     "output_type": "stream",
     "text": [
      "2023-09-06 09:24:06.906 Hail: INFO: Reading table without type imputation       \n",
      "  Loading field 'f0' as type str (not specified)\n",
      "2023-09-06 09:24:08.278 Hail: INFO: Reading table without type imputation       \n",
      "  Loading field 'f0' as type str (not specified)\n",
      "                                                                                \r"
     ]
    },
    {
     "data": {
      "text/html": [
       "<table><thead><tr><td style=\"white-space: nowrap; max-width: 500px; overflow: hidden; text-overflow: ellipsis; \" colspan=\"1\"><div style=\"text-align: left;\"></div></td><td style=\"white-space: nowrap; max-width: 500px; overflow: hidden; text-overflow: ellipsis; \" colspan=\"1\"><div style=\"text-align: left;\"></div></td><td style=\"white-space: nowrap; max-width: 500px; overflow: hidden; text-overflow: ellipsis; \" colspan=\"1\"><div style=\"text-align: left;\"></div></td></tr><tr><td style=\"white-space: nowrap; max-width: 500px; overflow: hidden; text-overflow: ellipsis; \" colspan=\"1\"><div style=\"text-align: left;border-bottom: solid 2px #000; padding-bottom: 5px\">f0</div></td><td style=\"white-space: nowrap; max-width: 500px; overflow: hidden; text-overflow: ellipsis; \" colspan=\"1\"><div style=\"text-align: left;border-bottom: solid 2px #000; padding-bottom: 5px\">locus</div></td><td style=\"white-space: nowrap; max-width: 500px; overflow: hidden; text-overflow: ellipsis; \" colspan=\"1\"><div style=\"text-align: left;border-bottom: solid 2px #000; padding-bottom: 5px\">alleles</div></td></tr><tr><td style=\"white-space: nowrap; max-width: 500px; overflow: hidden; text-overflow: ellipsis; text-align: left;\">str</td><td style=\"white-space: nowrap; max-width: 500px; overflow: hidden; text-overflow: ellipsis; text-align: left;\">locus&lt;GRCh38&gt;</td><td style=\"white-space: nowrap; max-width: 500px; overflow: hidden; text-overflow: ellipsis; text-align: left;\">array&lt;str&gt;</td></tr>\n",
       "</thead><tbody><tr><td style=\"white-space: nowrap; max-width: 500px; overflow: hidden; text-overflow: ellipsis; \">&quot;1:69026:T:G&quot;</td><td style=\"white-space: nowrap; max-width: 500px; overflow: hidden; text-overflow: ellipsis; \">chr1:69026</td><td style=\"white-space: nowrap; max-width: 500px; overflow: hidden; text-overflow: ellipsis; \">[&quot;T&quot;,&quot;G&quot;]</td></tr>\n",
       "<tr><td style=\"white-space: nowrap; max-width: 500px; overflow: hidden; text-overflow: ellipsis; \">&quot;1:69081:G:C&quot;</td><td style=\"white-space: nowrap; max-width: 500px; overflow: hidden; text-overflow: ellipsis; \">chr1:69081</td><td style=\"white-space: nowrap; max-width: 500px; overflow: hidden; text-overflow: ellipsis; \">[&quot;G&quot;,&quot;C&quot;]</td></tr>\n",
       "<tr><td style=\"white-space: nowrap; max-width: 500px; overflow: hidden; text-overflow: ellipsis; \">&quot;1:69095:T:G&quot;</td><td style=\"white-space: nowrap; max-width: 500px; overflow: hidden; text-overflow: ellipsis; \">chr1:69095</td><td style=\"white-space: nowrap; max-width: 500px; overflow: hidden; text-overflow: ellipsis; \">[&quot;T&quot;,&quot;G&quot;]</td></tr>\n",
       "<tr><td style=\"white-space: nowrap; max-width: 500px; overflow: hidden; text-overflow: ellipsis; \">&quot;1:69134:A:G&quot;</td><td style=\"white-space: nowrap; max-width: 500px; overflow: hidden; text-overflow: ellipsis; \">chr1:69134</td><td style=\"white-space: nowrap; max-width: 500px; overflow: hidden; text-overflow: ellipsis; \">[&quot;A&quot;,&quot;G&quot;]</td></tr>\n",
       "<tr><td style=\"white-space: nowrap; max-width: 500px; overflow: hidden; text-overflow: ellipsis; \">&quot;1:69144:C:T&quot;</td><td style=\"white-space: nowrap; max-width: 500px; overflow: hidden; text-overflow: ellipsis; \">chr1:69144</td><td style=\"white-space: nowrap; max-width: 500px; overflow: hidden; text-overflow: ellipsis; \">[&quot;C&quot;,&quot;T&quot;]</td></tr>\n",
       "<tr><td style=\"white-space: nowrap; max-width: 500px; overflow: hidden; text-overflow: ellipsis; \">&quot;1:69149:T:A&quot;</td><td style=\"white-space: nowrap; max-width: 500px; overflow: hidden; text-overflow: ellipsis; \">chr1:69149</td><td style=\"white-space: nowrap; max-width: 500px; overflow: hidden; text-overflow: ellipsis; \">[&quot;T&quot;,&quot;A&quot;]</td></tr>\n",
       "<tr><td style=\"white-space: nowrap; max-width: 500px; overflow: hidden; text-overflow: ellipsis; \">&quot;1:69173:A:T&quot;</td><td style=\"white-space: nowrap; max-width: 500px; overflow: hidden; text-overflow: ellipsis; \">chr1:69173</td><td style=\"white-space: nowrap; max-width: 500px; overflow: hidden; text-overflow: ellipsis; \">[&quot;A&quot;,&quot;T&quot;]</td></tr>\n",
       "<tr><td style=\"white-space: nowrap; max-width: 500px; overflow: hidden; text-overflow: ellipsis; \">&quot;1:69202:A:G&quot;</td><td style=\"white-space: nowrap; max-width: 500px; overflow: hidden; text-overflow: ellipsis; \">chr1:69202</td><td style=\"white-space: nowrap; max-width: 500px; overflow: hidden; text-overflow: ellipsis; \">[&quot;A&quot;,&quot;G&quot;]</td></tr>\n",
       "<tr><td style=\"white-space: nowrap; max-width: 500px; overflow: hidden; text-overflow: ellipsis; \">&quot;1:69217:G:A&quot;</td><td style=\"white-space: nowrap; max-width: 500px; overflow: hidden; text-overflow: ellipsis; \">chr1:69217</td><td style=\"white-space: nowrap; max-width: 500px; overflow: hidden; text-overflow: ellipsis; \">[&quot;G&quot;,&quot;A&quot;]</td></tr>\n",
       "<tr><td style=\"white-space: nowrap; max-width: 500px; overflow: hidden; text-overflow: ellipsis; \">&quot;1:69224:A:T&quot;</td><td style=\"white-space: nowrap; max-width: 500px; overflow: hidden; text-overflow: ellipsis; \">chr1:69224</td><td style=\"white-space: nowrap; max-width: 500px; overflow: hidden; text-overflow: ellipsis; \">[&quot;A&quot;,&quot;T&quot;]</td></tr>\n",
       "</tbody></table><p style=\"background: #fdd; padding: 0.4em;\">showing top 10 rows</p>\n"
      ],
      "text/plain": [
       "+---------------+---------------+------------+\n",
       "| f0            | locus         | alleles    |\n",
       "+---------------+---------------+------------+\n",
       "| str           | locus<GRCh38> | array<str> |\n",
       "+---------------+---------------+------------+\n",
       "| \"1:69026:T:G\" | chr1:69026    | [\"T\",\"G\"]  |\n",
       "| \"1:69081:G:C\" | chr1:69081    | [\"G\",\"C\"]  |\n",
       "| \"1:69095:T:G\" | chr1:69095    | [\"T\",\"G\"]  |\n",
       "| \"1:69134:A:G\" | chr1:69134    | [\"A\",\"G\"]  |\n",
       "| \"1:69144:C:T\" | chr1:69144    | [\"C\",\"T\"]  |\n",
       "| \"1:69149:T:A\" | chr1:69149    | [\"T\",\"A\"]  |\n",
       "| \"1:69173:A:T\" | chr1:69173    | [\"A\",\"T\"]  |\n",
       "| \"1:69202:A:G\" | chr1:69202    | [\"A\",\"G\"]  |\n",
       "| \"1:69217:G:A\" | chr1:69217    | [\"G\",\"A\"]  |\n",
       "| \"1:69224:A:T\" | chr1:69224    | [\"A\",\"T\"]  |\n",
       "+---------------+---------------+------------+\n",
       "showing top 10 rows"
      ]
     },
     "metadata": {},
     "output_type": "display_data"
    }
   ],
   "source": [
    "# Not with 90% DP<10\n",
    "\n",
    "PCT10DP_FILE = Path(\"Exome sequences/Population level exome OQFE variants, PLINK format - final release/helper_files/ukb23158_500k_OQFE.90pct10dp_qc_variants.txt\")\n",
    "\n",
    "pctdp = hl.import_table(f\"file://{BULK_DIR / PCT10DP_FILE}\", no_header = True)\n",
    "pctdp = pctdp.annotate(**hl.parse_variant(hl.str(\"\").join([hl.str(\"chr\"), pctdp.f0]), reference_genome = \"GRCh38\")).key_by(\"locus\", \"alleles\")\n",
    "pctdp = pctdp.filter(hl.is_defined(gb[pctdp.locus]))\n",
    "pctdp.count()"
   ]
  },
  {
   "cell_type": "code",
   "execution_count": 11,
   "id": "2fb0ea17-e8f7-44a3-910a-2f723dc17db0",
   "metadata": {
    "tags": []
   },
   "outputs": [],
   "source": [
    "# mt = mt.filter_rows(~hl.is_defined(ht2[mt.locus, mt.alleles]))\n",
    "mt = mt.anti_join_rows(pctdp)"
   ]
  },
  {
   "cell_type": "code",
   "execution_count": null,
   "id": "ba02af9a-aa4c-438a-9dcf-5e32dff9ab2b",
   "metadata": {
    "tags": []
   },
   "outputs": [
    {
     "name": "stderr",
     "output_type": "stream",
     "text": [
      "2023-09-06 09:24:23.577 Hail: INFO: Coerced sorted dataset\n",
      "2023-09-06 09:24:24.048 Hail: INFO: Coerced sorted dataset\n",
      "2023-09-06 09:24:29.897 Hail: INFO: Coerced sorted dataset                      \n",
      "2023-09-06 09:25:27.826 Hail: INFO: Coerced sorted dataset                      \n",
      "2023-09-06 09:25:28.005 Hail: INFO: scanning VCF for sortedness...\n",
      "2023-09-06 09:29:19.019 Hail: INFO: Coerced sorted VCF - no additional import work to do\n",
      "2023-09-06 09:29:19.613 Hail: INFO: Coerced sorted dataset\n",
      "2023-09-06 09:29:23.618 Hail: INFO: wrote table with 380 rows in 2 partitions to /tmp/__iruid_18098-8LjuMVSKaUW2UAAYHug2ar\n",
      "2023-09-06 09:29:31.319 Hail: INFO: Coerced sorted dataset                      \n",
      "2023-09-06 09:29:37.788 Hail: INFO: wrote table with 570 rows in 1 partition to /tmp/__iruid_18513-wEN0Ky9YZYnpZhsRP2RwRo\n",
      "2023-09-06 09:30:32.781 Hail: INFO: wrote table with 5798366 rows in 1 partition to /tmp/__iruid_18827-iIRi5XvsnqUOH6qiBmn1j4\n",
      "[Stage 38:===========>                                          (80 + 48) / 380]\r"
     ]
    }
   ],
   "source": [
    "stage = \"SECOND\"\n",
    "checkpoint_file = f\"/tmp/{PROJ_NAME}.{stage}.cp.mt\"\n",
    "\n",
    "mt = mt.checkpoint(checkpoint_file, overwrite=True)"
   ]
  },
  {
   "cell_type": "code",
   "execution_count": null,
   "id": "3861e8d9-6fb0-4394-9e04-38b7f85ea356",
   "metadata": {},
   "outputs": [],
   "source": []
  }
 ],
 "metadata": {
  "kernelspec": {
   "display_name": "Python 3 (ipykernel)",
   "language": "python",
   "name": "python3"
  },
  "language_info": {
   "codemirror_mode": {
    "name": "ipython",
    "version": 3
   },
   "file_extension": ".py",
   "mimetype": "text/x-python",
   "name": "python",
   "nbconvert_exporter": "python",
   "pygments_lexer": "ipython3",
   "version": "3.9.16"
  }
 },
 "nbformat": 4,
 "nbformat_minor": 5
}
